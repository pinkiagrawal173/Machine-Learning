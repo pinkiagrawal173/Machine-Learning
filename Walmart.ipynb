{
 "cells": [
  {
   "cell_type": "markdown",
   "metadata": {},
   "source": [
    "### Problem Statement-\n",
    "\n",
    "1. To analyze the customer purchase behavior (specifically, purchase amount) against the customer’s gender and the various other factors to help the business make better decisions\n",
    "2. to understand the spending habits differ between male and female customers"
   ]
  },
  {
   "cell_type": "code",
   "execution_count": 109,
   "metadata": {},
   "outputs": [],
   "source": [
    "#import all libraries-\n",
    "#numpy for numerical operations\n",
    "#pandas for dataframe operations\n",
    "#matplotlib and seaborn for data visualisation\n",
    "\n",
    "import numpy as np\n",
    "import pandas as pd\n",
    "import matplotlib.pyplot as plt\n",
    "import seaborn as sns\n",
    "from scipy import stats"
   ]
  },
  {
   "cell_type": "code",
   "execution_count": 110,
   "metadata": {},
   "outputs": [],
   "source": [
    "# read the Walmart data comma seperated file and create panda dataframe\n",
    "\n",
    "df=pd.read_csv(\"walmart_data.csv\")"
   ]
  },
  {
   "cell_type": "code",
   "execution_count": 111,
   "metadata": {},
   "outputs": [
    {
     "data": {
      "text/html": [
       "<div>\n",
       "<style scoped>\n",
       "    .dataframe tbody tr th:only-of-type {\n",
       "        vertical-align: middle;\n",
       "    }\n",
       "\n",
       "    .dataframe tbody tr th {\n",
       "        vertical-align: top;\n",
       "    }\n",
       "\n",
       "    .dataframe thead th {\n",
       "        text-align: right;\n",
       "    }\n",
       "</style>\n",
       "<table border=\"1\" class=\"dataframe\">\n",
       "  <thead>\n",
       "    <tr style=\"text-align: right;\">\n",
       "      <th></th>\n",
       "      <th>User_ID</th>\n",
       "      <th>Product_ID</th>\n",
       "      <th>Gender</th>\n",
       "      <th>Age</th>\n",
       "      <th>Occupation</th>\n",
       "      <th>City_Category</th>\n",
       "      <th>Stay_In_Current_City_Years</th>\n",
       "      <th>Marital_Status</th>\n",
       "      <th>Product_Category</th>\n",
       "      <th>Purchase</th>\n",
       "    </tr>\n",
       "  </thead>\n",
       "  <tbody>\n",
       "    <tr>\n",
       "      <th>0</th>\n",
       "      <td>1000001</td>\n",
       "      <td>P00069042</td>\n",
       "      <td>F</td>\n",
       "      <td>0-17</td>\n",
       "      <td>10</td>\n",
       "      <td>A</td>\n",
       "      <td>2</td>\n",
       "      <td>0</td>\n",
       "      <td>3</td>\n",
       "      <td>8370</td>\n",
       "    </tr>\n",
       "    <tr>\n",
       "      <th>1</th>\n",
       "      <td>1000001</td>\n",
       "      <td>P00248942</td>\n",
       "      <td>F</td>\n",
       "      <td>0-17</td>\n",
       "      <td>10</td>\n",
       "      <td>A</td>\n",
       "      <td>2</td>\n",
       "      <td>0</td>\n",
       "      <td>1</td>\n",
       "      <td>15200</td>\n",
       "    </tr>\n",
       "    <tr>\n",
       "      <th>2</th>\n",
       "      <td>1000001</td>\n",
       "      <td>P00087842</td>\n",
       "      <td>F</td>\n",
       "      <td>0-17</td>\n",
       "      <td>10</td>\n",
       "      <td>A</td>\n",
       "      <td>2</td>\n",
       "      <td>0</td>\n",
       "      <td>12</td>\n",
       "      <td>1422</td>\n",
       "    </tr>\n",
       "    <tr>\n",
       "      <th>3</th>\n",
       "      <td>1000001</td>\n",
       "      <td>P00085442</td>\n",
       "      <td>F</td>\n",
       "      <td>0-17</td>\n",
       "      <td>10</td>\n",
       "      <td>A</td>\n",
       "      <td>2</td>\n",
       "      <td>0</td>\n",
       "      <td>12</td>\n",
       "      <td>1057</td>\n",
       "    </tr>\n",
       "    <tr>\n",
       "      <th>4</th>\n",
       "      <td>1000002</td>\n",
       "      <td>P00285442</td>\n",
       "      <td>M</td>\n",
       "      <td>55+</td>\n",
       "      <td>16</td>\n",
       "      <td>C</td>\n",
       "      <td>4+</td>\n",
       "      <td>0</td>\n",
       "      <td>8</td>\n",
       "      <td>7969</td>\n",
       "    </tr>\n",
       "  </tbody>\n",
       "</table>\n",
       "</div>"
      ],
      "text/plain": [
       "   User_ID Product_ID Gender   Age  Occupation City_Category  \\\n",
       "0  1000001  P00069042      F  0-17          10             A   \n",
       "1  1000001  P00248942      F  0-17          10             A   \n",
       "2  1000001  P00087842      F  0-17          10             A   \n",
       "3  1000001  P00085442      F  0-17          10             A   \n",
       "4  1000002  P00285442      M   55+          16             C   \n",
       "\n",
       "  Stay_In_Current_City_Years  Marital_Status  Product_Category  Purchase  \n",
       "0                          2               0                 3      8370  \n",
       "1                          2               0                 1     15200  \n",
       "2                          2               0                12      1422  \n",
       "3                          2               0                12      1057  \n",
       "4                         4+               0                 8      7969  "
      ]
     },
     "execution_count": 111,
     "metadata": {},
     "output_type": "execute_result"
    }
   ],
   "source": [
    " # checking top 5 rows\n",
    "\n",
    "df.head()"
   ]
  },
  {
   "cell_type": "raw",
   "metadata": {},
   "source": [
    "The dataset has the following features:\n",
    "    User ID\n",
    "    Product ID\n",
    "    Gender:\tSex of User\n",
    "    Age in bins\n",
    "    Occupation(Masked)\n",
    "    Category of the City (A,B,C)\n",
    "    StayInCurrentCityYears:\tNumber of years stay in current city\n",
    "    Marital Status\n",
    "    Product Category (Masked)\n",
    "    Purchase Amount\n"
   ]
  },
  {
   "cell_type": "code",
   "execution_count": 112,
   "metadata": {},
   "outputs": [
    {
     "data": {
      "text/html": [
       "<div>\n",
       "<style scoped>\n",
       "    .dataframe tbody tr th:only-of-type {\n",
       "        vertical-align: middle;\n",
       "    }\n",
       "\n",
       "    .dataframe tbody tr th {\n",
       "        vertical-align: top;\n",
       "    }\n",
       "\n",
       "    .dataframe thead th {\n",
       "        text-align: right;\n",
       "    }\n",
       "</style>\n",
       "<table border=\"1\" class=\"dataframe\">\n",
       "  <thead>\n",
       "    <tr style=\"text-align: right;\">\n",
       "      <th></th>\n",
       "      <th>User_ID</th>\n",
       "      <th>Product_ID</th>\n",
       "      <th>Gender</th>\n",
       "      <th>Age</th>\n",
       "      <th>Occupation</th>\n",
       "      <th>City_Category</th>\n",
       "      <th>Stay_In_Current_City_Years</th>\n",
       "      <th>Marital_Status</th>\n",
       "      <th>Product_Category</th>\n",
       "      <th>Purchase</th>\n",
       "    </tr>\n",
       "  </thead>\n",
       "  <tbody>\n",
       "    <tr>\n",
       "      <th>550063</th>\n",
       "      <td>1006033</td>\n",
       "      <td>P00372445</td>\n",
       "      <td>M</td>\n",
       "      <td>51-55</td>\n",
       "      <td>13</td>\n",
       "      <td>B</td>\n",
       "      <td>1</td>\n",
       "      <td>1</td>\n",
       "      <td>20</td>\n",
       "      <td>368</td>\n",
       "    </tr>\n",
       "    <tr>\n",
       "      <th>550064</th>\n",
       "      <td>1006035</td>\n",
       "      <td>P00375436</td>\n",
       "      <td>F</td>\n",
       "      <td>26-35</td>\n",
       "      <td>1</td>\n",
       "      <td>C</td>\n",
       "      <td>3</td>\n",
       "      <td>0</td>\n",
       "      <td>20</td>\n",
       "      <td>371</td>\n",
       "    </tr>\n",
       "    <tr>\n",
       "      <th>550065</th>\n",
       "      <td>1006036</td>\n",
       "      <td>P00375436</td>\n",
       "      <td>F</td>\n",
       "      <td>26-35</td>\n",
       "      <td>15</td>\n",
       "      <td>B</td>\n",
       "      <td>4+</td>\n",
       "      <td>1</td>\n",
       "      <td>20</td>\n",
       "      <td>137</td>\n",
       "    </tr>\n",
       "    <tr>\n",
       "      <th>550066</th>\n",
       "      <td>1006038</td>\n",
       "      <td>P00375436</td>\n",
       "      <td>F</td>\n",
       "      <td>55+</td>\n",
       "      <td>1</td>\n",
       "      <td>C</td>\n",
       "      <td>2</td>\n",
       "      <td>0</td>\n",
       "      <td>20</td>\n",
       "      <td>365</td>\n",
       "    </tr>\n",
       "    <tr>\n",
       "      <th>550067</th>\n",
       "      <td>1006039</td>\n",
       "      <td>P00371644</td>\n",
       "      <td>F</td>\n",
       "      <td>46-50</td>\n",
       "      <td>0</td>\n",
       "      <td>B</td>\n",
       "      <td>4+</td>\n",
       "      <td>1</td>\n",
       "      <td>20</td>\n",
       "      <td>490</td>\n",
       "    </tr>\n",
       "  </tbody>\n",
       "</table>\n",
       "</div>"
      ],
      "text/plain": [
       "        User_ID Product_ID Gender    Age  Occupation City_Category  \\\n",
       "550063  1006033  P00372445      M  51-55          13             B   \n",
       "550064  1006035  P00375436      F  26-35           1             C   \n",
       "550065  1006036  P00375436      F  26-35          15             B   \n",
       "550066  1006038  P00375436      F    55+           1             C   \n",
       "550067  1006039  P00371644      F  46-50           0             B   \n",
       "\n",
       "       Stay_In_Current_City_Years  Marital_Status  Product_Category  Purchase  \n",
       "550063                          1               1                20       368  \n",
       "550064                          3               0                20       371  \n",
       "550065                         4+               1                20       137  \n",
       "550066                          2               0                20       365  \n",
       "550067                         4+               1                20       490  "
      ]
     },
     "execution_count": 112,
     "metadata": {},
     "output_type": "execute_result"
    }
   ],
   "source": [
    " # checking bottom 5 rows\n",
    "    \n",
    "df.tail()"
   ]
  },
  {
   "cell_type": "markdown",
   "metadata": {},
   "source": [
    "### Usual data analysis "
   ]
  },
  {
   "cell_type": "code",
   "execution_count": 113,
   "metadata": {},
   "outputs": [
    {
     "data": {
      "text/plain": [
       "(550068, 10)"
      ]
     },
     "execution_count": 113,
     "metadata": {},
     "output_type": "execute_result"
    }
   ],
   "source": [
    "#gives the shape of dataframe\n",
    "\n",
    "df.shape\n",
    "\n",
    "#550068 rows and 10 columns in the dataset"
   ]
  },
  {
   "cell_type": "code",
   "execution_count": 114,
   "metadata": {},
   "outputs": [
    {
     "data": {
      "text/plain": [
       "0"
      ]
     },
     "execution_count": 114,
     "metadata": {},
     "output_type": "execute_result"
    }
   ],
   "source": [
    "#Are there any duplicate values?\n",
    "\n",
    "df.duplicated().sum() \n",
    "\n",
    "#no duplicate rows are present"
   ]
  },
  {
   "cell_type": "code",
   "execution_count": 115,
   "metadata": {},
   "outputs": [
    {
     "data": {
      "text/html": [
       "<div>\n",
       "<style scoped>\n",
       "    .dataframe tbody tr th:only-of-type {\n",
       "        vertical-align: middle;\n",
       "    }\n",
       "\n",
       "    .dataframe tbody tr th {\n",
       "        vertical-align: top;\n",
       "    }\n",
       "\n",
       "    .dataframe thead th {\n",
       "        text-align: right;\n",
       "    }\n",
       "</style>\n",
       "<table border=\"1\" class=\"dataframe\">\n",
       "  <thead>\n",
       "    <tr style=\"text-align: right;\">\n",
       "      <th></th>\n",
       "      <th>index</th>\n",
       "      <th>0</th>\n",
       "    </tr>\n",
       "  </thead>\n",
       "  <tbody>\n",
       "    <tr>\n",
       "      <th>0</th>\n",
       "      <td>User_ID</td>\n",
       "      <td>5891</td>\n",
       "    </tr>\n",
       "    <tr>\n",
       "      <th>1</th>\n",
       "      <td>Product_ID</td>\n",
       "      <td>3631</td>\n",
       "    </tr>\n",
       "    <tr>\n",
       "      <th>2</th>\n",
       "      <td>Gender</td>\n",
       "      <td>2</td>\n",
       "    </tr>\n",
       "    <tr>\n",
       "      <th>3</th>\n",
       "      <td>Age</td>\n",
       "      <td>7</td>\n",
       "    </tr>\n",
       "    <tr>\n",
       "      <th>4</th>\n",
       "      <td>Occupation</td>\n",
       "      <td>21</td>\n",
       "    </tr>\n",
       "    <tr>\n",
       "      <th>5</th>\n",
       "      <td>City_Category</td>\n",
       "      <td>3</td>\n",
       "    </tr>\n",
       "    <tr>\n",
       "      <th>6</th>\n",
       "      <td>Stay_In_Current_City_Years</td>\n",
       "      <td>5</td>\n",
       "    </tr>\n",
       "    <tr>\n",
       "      <th>7</th>\n",
       "      <td>Marital_Status</td>\n",
       "      <td>2</td>\n",
       "    </tr>\n",
       "    <tr>\n",
       "      <th>8</th>\n",
       "      <td>Product_Category</td>\n",
       "      <td>20</td>\n",
       "    </tr>\n",
       "    <tr>\n",
       "      <th>9</th>\n",
       "      <td>Purchase</td>\n",
       "      <td>18105</td>\n",
       "    </tr>\n",
       "  </tbody>\n",
       "</table>\n",
       "</div>"
      ],
      "text/plain": [
       "                        index      0\n",
       "0                     User_ID   5891\n",
       "1                  Product_ID   3631\n",
       "2                      Gender      2\n",
       "3                         Age      7\n",
       "4                  Occupation     21\n",
       "5               City_Category      3\n",
       "6  Stay_In_Current_City_Years      5\n",
       "7              Marital_Status      2\n",
       "8            Product_Category     20\n",
       "9                    Purchase  18105"
      ]
     },
     "execution_count": 115,
     "metadata": {},
     "output_type": "execute_result"
    }
   ],
   "source": [
    "#number of unique values in each column\n",
    "\n",
    "df.nunique().reset_index()"
   ]
  },
  {
   "cell_type": "code",
   "execution_count": 116,
   "metadata": {},
   "outputs": [
    {
     "name": "stdout",
     "output_type": "stream",
     "text": [
      "<class 'pandas.core.frame.DataFrame'>\n",
      "RangeIndex: 550068 entries, 0 to 550067\n",
      "Data columns (total 10 columns):\n",
      "User_ID                       550068 non-null int64\n",
      "Product_ID                    550068 non-null object\n",
      "Gender                        550068 non-null object\n",
      "Age                           550068 non-null object\n",
      "Occupation                    550068 non-null int64\n",
      "City_Category                 550068 non-null object\n",
      "Stay_In_Current_City_Years    550068 non-null object\n",
      "Marital_Status                550068 non-null int64\n",
      "Product_Category              550068 non-null int64\n",
      "Purchase                      550068 non-null int64\n",
      "dtypes: int64(5), object(5)\n",
      "memory usage: 42.0+ MB\n"
     ]
    }
   ],
   "source": [
    "#gives bird eye view of complete dataframe.\n",
    "\n",
    "df.info()\n",
    "\n",
    "#Columns are object type and integer type"
   ]
  },
  {
   "cell_type": "markdown",
   "metadata": {},
   "source": [
    "Obs- 5 columns are integer and 5 are object type"
   ]
  },
  {
   "cell_type": "code",
   "execution_count": 117,
   "metadata": {},
   "outputs": [
    {
     "data": {
      "text/html": [
       "<div>\n",
       "<style scoped>\n",
       "    .dataframe tbody tr th:only-of-type {\n",
       "        vertical-align: middle;\n",
       "    }\n",
       "\n",
       "    .dataframe tbody tr th {\n",
       "        vertical-align: top;\n",
       "    }\n",
       "\n",
       "    .dataframe thead th {\n",
       "        text-align: right;\n",
       "    }\n",
       "</style>\n",
       "<table border=\"1\" class=\"dataframe\">\n",
       "  <thead>\n",
       "    <tr style=\"text-align: right;\">\n",
       "      <th></th>\n",
       "      <th>User_ID</th>\n",
       "      <th>Occupation</th>\n",
       "      <th>Marital_Status</th>\n",
       "      <th>Product_Category</th>\n",
       "      <th>Purchase</th>\n",
       "    </tr>\n",
       "  </thead>\n",
       "  <tbody>\n",
       "    <tr>\n",
       "      <th>count</th>\n",
       "      <td>5.500680e+05</td>\n",
       "      <td>550068.000000</td>\n",
       "      <td>550068.000000</td>\n",
       "      <td>550068.000000</td>\n",
       "      <td>550068.000000</td>\n",
       "    </tr>\n",
       "    <tr>\n",
       "      <th>mean</th>\n",
       "      <td>1.003029e+06</td>\n",
       "      <td>8.076707</td>\n",
       "      <td>0.409653</td>\n",
       "      <td>5.404270</td>\n",
       "      <td>9263.968713</td>\n",
       "    </tr>\n",
       "    <tr>\n",
       "      <th>std</th>\n",
       "      <td>1.727592e+03</td>\n",
       "      <td>6.522660</td>\n",
       "      <td>0.491770</td>\n",
       "      <td>3.936211</td>\n",
       "      <td>5023.065394</td>\n",
       "    </tr>\n",
       "    <tr>\n",
       "      <th>min</th>\n",
       "      <td>1.000001e+06</td>\n",
       "      <td>0.000000</td>\n",
       "      <td>0.000000</td>\n",
       "      <td>1.000000</td>\n",
       "      <td>12.000000</td>\n",
       "    </tr>\n",
       "    <tr>\n",
       "      <th>25%</th>\n",
       "      <td>1.001516e+06</td>\n",
       "      <td>2.000000</td>\n",
       "      <td>0.000000</td>\n",
       "      <td>1.000000</td>\n",
       "      <td>5823.000000</td>\n",
       "    </tr>\n",
       "    <tr>\n",
       "      <th>50%</th>\n",
       "      <td>1.003077e+06</td>\n",
       "      <td>7.000000</td>\n",
       "      <td>0.000000</td>\n",
       "      <td>5.000000</td>\n",
       "      <td>8047.000000</td>\n",
       "    </tr>\n",
       "    <tr>\n",
       "      <th>75%</th>\n",
       "      <td>1.004478e+06</td>\n",
       "      <td>14.000000</td>\n",
       "      <td>1.000000</td>\n",
       "      <td>8.000000</td>\n",
       "      <td>12054.000000</td>\n",
       "    </tr>\n",
       "    <tr>\n",
       "      <th>max</th>\n",
       "      <td>1.006040e+06</td>\n",
       "      <td>20.000000</td>\n",
       "      <td>1.000000</td>\n",
       "      <td>20.000000</td>\n",
       "      <td>23961.000000</td>\n",
       "    </tr>\n",
       "  </tbody>\n",
       "</table>\n",
       "</div>"
      ],
      "text/plain": [
       "            User_ID     Occupation  Marital_Status  Product_Category  \\\n",
       "count  5.500680e+05  550068.000000   550068.000000     550068.000000   \n",
       "mean   1.003029e+06       8.076707        0.409653          5.404270   \n",
       "std    1.727592e+03       6.522660        0.491770          3.936211   \n",
       "min    1.000001e+06       0.000000        0.000000          1.000000   \n",
       "25%    1.001516e+06       2.000000        0.000000          1.000000   \n",
       "50%    1.003077e+06       7.000000        0.000000          5.000000   \n",
       "75%    1.004478e+06      14.000000        1.000000          8.000000   \n",
       "max    1.006040e+06      20.000000        1.000000         20.000000   \n",
       "\n",
       "            Purchase  \n",
       "count  550068.000000  \n",
       "mean     9263.968713  \n",
       "std      5023.065394  \n",
       "min        12.000000  \n",
       "25%      5823.000000  \n",
       "50%      8047.000000  \n",
       "75%     12054.000000  \n",
       "max     23961.000000  "
      ]
     },
     "execution_count": 117,
     "metadata": {},
     "output_type": "execute_result"
    }
   ],
   "source": [
    "#describes statistical summary of dataframe.\n",
    "#count of no. of records,mean of continuous values,std,\n",
    "#min continuous value, max continuous value etc\n",
    "\n",
    "df.describe()"
   ]
  },
  {
   "cell_type": "markdown",
   "metadata": {},
   "source": [
    "Obs-\n",
    "Median of purchase amounts is 8047, Max is 23961 and min is 12.\n"
   ]
  },
  {
   "cell_type": "code",
   "execution_count": 118,
   "metadata": {},
   "outputs": [
    {
     "data": {
      "text/html": [
       "<div>\n",
       "<style scoped>\n",
       "    .dataframe tbody tr th:only-of-type {\n",
       "        vertical-align: middle;\n",
       "    }\n",
       "\n",
       "    .dataframe tbody tr th {\n",
       "        vertical-align: top;\n",
       "    }\n",
       "\n",
       "    .dataframe thead th {\n",
       "        text-align: right;\n",
       "    }\n",
       "</style>\n",
       "<table border=\"1\" class=\"dataframe\">\n",
       "  <thead>\n",
       "    <tr style=\"text-align: right;\">\n",
       "      <th></th>\n",
       "      <th>Product_ID</th>\n",
       "      <th>Gender</th>\n",
       "      <th>Age</th>\n",
       "      <th>City_Category</th>\n",
       "      <th>Stay_In_Current_City_Years</th>\n",
       "    </tr>\n",
       "  </thead>\n",
       "  <tbody>\n",
       "    <tr>\n",
       "      <th>count</th>\n",
       "      <td>550068</td>\n",
       "      <td>550068</td>\n",
       "      <td>550068</td>\n",
       "      <td>550068</td>\n",
       "      <td>550068</td>\n",
       "    </tr>\n",
       "    <tr>\n",
       "      <th>unique</th>\n",
       "      <td>3631</td>\n",
       "      <td>2</td>\n",
       "      <td>7</td>\n",
       "      <td>3</td>\n",
       "      <td>5</td>\n",
       "    </tr>\n",
       "    <tr>\n",
       "      <th>top</th>\n",
       "      <td>P00265242</td>\n",
       "      <td>M</td>\n",
       "      <td>26-35</td>\n",
       "      <td>B</td>\n",
       "      <td>1</td>\n",
       "    </tr>\n",
       "    <tr>\n",
       "      <th>freq</th>\n",
       "      <td>1880</td>\n",
       "      <td>414259</td>\n",
       "      <td>219587</td>\n",
       "      <td>231173</td>\n",
       "      <td>193821</td>\n",
       "    </tr>\n",
       "  </tbody>\n",
       "</table>\n",
       "</div>"
      ],
      "text/plain": [
       "       Product_ID  Gender     Age City_Category Stay_In_Current_City_Years\n",
       "count      550068  550068  550068        550068                     550068\n",
       "unique       3631       2       7             3                          5\n",
       "top     P00265242       M   26-35             B                          1\n",
       "freq         1880  414259  219587        231173                     193821"
      ]
     },
     "execution_count": 118,
     "metadata": {},
     "output_type": "execute_result"
    }
   ],
   "source": [
    "#gives descrption of object type of data\n",
    "\n",
    "df.describe(include=\"object\")\n",
    "\n",
    "#Product has 3 categories, Gender and Marital Status has 2 categories."
   ]
  },
  {
   "cell_type": "markdown",
   "metadata": {},
   "source": [
    "Obs-\n",
    "1. 26-35 age group is on top and 7 unique age.\n",
    "2. city_category B is on top and 3 types of categories data available.\n",
    "3. Male is on top.\n",
    "4. 1 year stay in current city people are on top."
   ]
  },
  {
   "cell_type": "markdown",
   "metadata": {},
   "source": [
    "### Checking Null Values"
   ]
  },
  {
   "cell_type": "code",
   "execution_count": 119,
   "metadata": {},
   "outputs": [
    {
     "data": {
      "text/plain": [
       "User_ID                       False\n",
       "Product_ID                    False\n",
       "Gender                        False\n",
       "Age                           False\n",
       "Occupation                    False\n",
       "City_Category                 False\n",
       "Stay_In_Current_City_Years    False\n",
       "Marital_Status                False\n",
       "Product_Category              False\n",
       "Purchase                      False\n",
       "dtype: bool"
      ]
     },
     "execution_count": 119,
     "metadata": {},
     "output_type": "execute_result"
    }
   ],
   "source": [
    " # checking null values\n",
    "\n",
    "df.isna().any()\n",
    "\n",
    "#no null values are present in the dataset"
   ]
  },
  {
   "cell_type": "code",
   "execution_count": 120,
   "metadata": {},
   "outputs": [
    {
     "data": {
      "text/plain": [
       "User_ID                       0\n",
       "Product_ID                    0\n",
       "Gender                        0\n",
       "Age                           0\n",
       "Occupation                    0\n",
       "City_Category                 0\n",
       "Stay_In_Current_City_Years    0\n",
       "Marital_Status                0\n",
       "Product_Category              0\n",
       "Purchase                      0\n",
       "dtype: int64"
      ]
     },
     "execution_count": 120,
     "metadata": {},
     "output_type": "execute_result"
    }
   ],
   "source": [
    "#This dataframe doesnt contain any null values...So no need to handle them\n",
    "\n",
    "df.isnull().sum()"
   ]
  },
  {
   "cell_type": "markdown",
   "metadata": {},
   "source": [
    "### Unique values in Columns"
   ]
  },
  {
   "cell_type": "code",
   "execution_count": 121,
   "metadata": {},
   "outputs": [
    {
     "name": "stdout",
     "output_type": "stream",
     "text": [
      "GENDER :['F' 'M'] \n",
      "AGE :['0-17' '55+' '26-35' '46-50' '51-55' '36-45' '18-25'] \n",
      "OCCUPATION :[10 16 15  7 20  9  1 12 17  0  3  4 11  8 19  2 18  5 14 13  6] \n",
      "CITY_CATEGORY :['A' 'C' 'B'] \n",
      "STAY_IN_CURRENT_CITY_YEARS :['2' '4+' '3' '1' '0'] \n",
      "MARITAL_STATUS :[0 1] \n",
      "PRODUCT_CATEGORY :[ 3  1 12  8  5  4  2  6 14 11 13 15  7 16 18 10 17  9 20 19] \n"
     ]
    }
   ],
   "source": [
    "# This is to look at what all unique values have . Just trying to use python\n",
    "\n",
    "list_col=[\"Gender\",\"Age\",\"Occupation\",\"City_Category\",\"Stay_In_Current_City_Years\",\"Marital_Status\",\"Product_Category\"]\n",
    "for col in list_col:\n",
    "    print('{} :{} ' . format(col.upper(),df[col].unique()))\n",
    "    \n",
    "#here occupation and product category are masked"
   ]
  },
  {
   "cell_type": "markdown",
   "metadata": {},
   "source": [
    "# Univariate Analysis"
   ]
  },
  {
   "cell_type": "code",
   "execution_count": 122,
   "metadata": {},
   "outputs": [
    {
     "data": {
      "text/plain": [
       "<matplotlib.axes._subplots.AxesSubplot at 0x175f9fd0>"
      ]
     },
     "execution_count": 122,
     "metadata": {},
     "output_type": "execute_result"
    },
    {
     "data": {
      "image/png": "[encoded data removed]",
      "text/plain": [
       "<Figure size 720x360 with 1 Axes>"
      ]
     },
     "metadata": {},
     "output_type": "display_data"
    }
   ],
   "source": [
    "# Gender Analysis\n",
    "\n",
    "df[\"Gender\"].value_counts().plot(kind=\"pie\",autopct='%1.0f%%',figsize=(10,5),title=\"Percentage of Gender visit to Walmart\")"
   ]
  },
  {
   "cell_type": "markdown",
   "metadata": {},
   "source": [
    "Obs- Males ratio(3/4) is much higher as compare to female(1/4)."
   ]
  },
  {
   "cell_type": "code",
   "execution_count": 123,
   "metadata": {},
   "outputs": [
    {
     "data": {
      "text/plain": [
       "<matplotlib.axes._subplots.AxesSubplot at 0x15695518>"
      ]
     },
     "execution_count": 123,
     "metadata": {},
     "output_type": "execute_result"
    },
    {
     "data": {
      "image/png": "[encoded data removed]",
      "text/plain": [
       "<Figure size 720x360 with 1 Axes>"
      ]
     },
     "metadata": {
      "needs_background": "light"
     },
     "output_type": "display_data"
    }
   ],
   "source": [
    "# Age Analysis\n",
    "\n",
    "df[\"Age\"].value_counts().plot(kind=\"bar\",figsize=(10,5),title=\"Age group Frequency of Walmart\")"
   ]
  },
  {
   "cell_type": "markdown",
   "metadata": {},
   "source": [
    "Obs- (26-35) Age group is frequent user of walmart then 36-45 and so on."
   ]
  },
  {
   "cell_type": "code",
   "execution_count": 124,
   "metadata": {},
   "outputs": [
    {
     "data": {
      "text/plain": [
       "<matplotlib.axes._subplots.AxesSubplot at 0x15227c88>"
      ]
     },
     "execution_count": 124,
     "metadata": {},
     "output_type": "execute_result"
    },
    {
     "data": {
      "image/png": "[encoded data removed]",
      "text/plain": [
       "<Figure size 720x360 with 1 Axes>"
      ]
     },
     "metadata": {
      "needs_background": "light"
     },
     "output_type": "display_data"
    }
   ],
   "source": [
    "# Occupation Analysis\n",
    "\n",
    "df[\"Occupation\"].value_counts().plot(kind=\"bar\",figsize=(10,5), title=\"Frequency of people visited Walmart based on Occupation\")"
   ]
  },
  {
   "cell_type": "markdown",
   "metadata": {},
   "source": [
    "Obs- People having occupation 4,0,and 7 are top three frequent walmart user"
   ]
  },
  {
   "cell_type": "code",
   "execution_count": 125,
   "metadata": {},
   "outputs": [
    {
     "data": {
      "text/plain": [
       "<matplotlib.axes._subplots.AxesSubplot at 0x152df240>"
      ]
     },
     "execution_count": 125,
     "metadata": {},
     "output_type": "execute_result"
    },
    {
     "data": {
      "image/png": "[encoded data removed]",
      "text/plain": [
       "<Figure size 720x360 with 1 Axes>"
      ]
     },
     "metadata": {},
     "output_type": "display_data"
    }
   ],
   "source": [
    "# City Category Analysis\n",
    "\n",
    "df[\"City_Category\"].value_counts().plot(kind=\"pie\",figsize=(10,5),autopct='%1.0f%%', title=\"Percentage of City category visited Walmart\")"
   ]
  },
  {
   "cell_type": "markdown",
   "metadata": {},
   "source": [
    "Obs- B city category is most common user of Walmart."
   ]
  },
  {
   "cell_type": "code",
   "execution_count": 126,
   "metadata": {},
   "outputs": [
    {
     "data": {
      "text/plain": [
       "<matplotlib.axes._subplots.AxesSubplot at 0x15323b00>"
      ]
     },
     "execution_count": 126,
     "metadata": {},
     "output_type": "execute_result"
    },
    {
     "data": {
      "image/png": "[encoded data removed]",
      "text/plain": [
       "<Figure size 720x360 with 1 Axes>"
      ]
     },
     "metadata": {},
     "output_type": "display_data"
    }
   ],
   "source": [
    "# Stay in current city Analysis\n",
    "\n",
    "df[\"Stay_In_Current_City_Years\"].value_counts().plot(kind=\"pie\",figsize=(10,5),autopct='%1.0f%%',title=\"Percentage of Stay_in_current_city_years accessed Walmart\")"
   ]
  },
  {
   "cell_type": "markdown",
   "metadata": {},
   "source": [
    "Obs-people stay in the current city for 1 year are frequent to walmart."
   ]
  },
  {
   "cell_type": "code",
   "execution_count": 127,
   "metadata": {},
   "outputs": [
    {
     "data": {
      "text/plain": [
       "<matplotlib.axes._subplots.AxesSubplot at 0x1536ca90>"
      ]
     },
     "execution_count": 127,
     "metadata": {},
     "output_type": "execute_result"
    },
    {
     "data": {
      "image/png": "[encoded data removed]",
      "text/plain": [
       "<Figure size 720x360 with 1 Axes>"
      ]
     },
     "metadata": {},
     "output_type": "display_data"
    }
   ],
   "source": [
    "#Marital_status Analysis\n",
    "df[\"Marital_Status\"].value_counts().plot(kind=\"pie\",figsize=(10,5),autopct='%1.0f%%',title=\"Percentage of people accessed walmart based on Maritus status\")"
   ]
  },
  {
   "cell_type": "markdown",
   "metadata": {},
   "source": [
    "Obs- 0 martial status people are more frequent to walmart."
   ]
  },
  {
   "cell_type": "code",
   "execution_count": 128,
   "metadata": {},
   "outputs": [
    {
     "data": {
      "text/plain": [
       "<matplotlib.axes._subplots.AxesSubplot at 0x153b25f8>"
      ]
     },
     "execution_count": 128,
     "metadata": {},
     "output_type": "execute_result"
    },
    {
     "data": {
      "image/png": "[encoded data removed]",
      "text/plain": [
       "<Figure size 720x360 with 1 Axes>"
      ]
     },
     "metadata": {},
     "output_type": "display_data"
    }
   ],
   "source": [
    "# Product Category Analysis\n",
    "\n",
    "df[\"Product_Category\"].value_counts()[:8].plot(kind=\"pie\",figsize=(10,5),autopct='%1.0f%%', title=\"Top 8 Product Category\")"
   ]
  },
  {
   "cell_type": "markdown",
   "metadata": {},
   "source": [
    "Obs-Out of 21 Product category, 5,1 and 8 are most taken ones."
   ]
  },
  {
   "cell_type": "markdown",
   "metadata": {},
   "source": [
    "#### Here I am assuming 0 as unmarried and 1 as married for analysis."
   ]
  },
  {
   "cell_type": "code",
   "execution_count": 129,
   "metadata": {},
   "outputs": [],
   "source": [
    "##Converting marital status into categorical\n",
    "#Assuming 0=\"Unmarried\" and 1=\"Married\"\n",
    "\n",
    "df['Marital_Status'] = df['Marital_Status'].replace([0,1],[\"Unmarried\",\"Married\"])"
   ]
  },
  {
   "cell_type": "markdown",
   "metadata": {},
   "source": [
    "### Outlier Treatment"
   ]
  },
  {
   "cell_type": "code",
   "execution_count": 130,
   "metadata": {},
   "outputs": [
    {
     "data": {
      "image/png": "[encoded data removed]",
      "text/plain": [
       "<Figure size 720x360 with 1 Axes>"
      ]
     },
     "metadata": {
      "needs_background": "light"
     },
     "output_type": "display_data"
    }
   ],
   "source": [
    "# for column Purchase\n",
    "\n",
    "plt.figure(figsize=(10,5))\n",
    "sns.boxplot(data = df, x='Purchase')\n",
    "plt.show()"
   ]
  },
  {
   "cell_type": "markdown",
   "metadata": {},
   "source": [
    "Obs- Purchase amount greater than 21000- 22000 are seems to be outliers"
   ]
  },
  {
   "cell_type": "markdown",
   "metadata": {},
   "source": [
    "# Bivariate Analysis"
   ]
  },
  {
   "cell_type": "code",
   "execution_count": 131,
   "metadata": {},
   "outputs": [
    {
     "data": {
      "text/plain": [
       "<matplotlib.axes._subplots.AxesSubplot at 0x11840208>"
      ]
     },
     "execution_count": 131,
     "metadata": {},
     "output_type": "execute_result"
    },
    {
     "data": {
      "image/png": "[encoded data removed]",
      "text/plain": [
       "<Figure size 720x360 with 1 Axes>"
      ]
     },
     "metadata": {
      "needs_background": "light"
     },
     "output_type": "display_data"
    }
   ],
   "source": [
    "#Analysis Gender and Purchase\n",
    "\n",
    "df.groupby(df[\"Gender\"])[\"Purchase\"].count().plot(kind=\"bar\",figsize=(10,5),title=\"Count of Gender based on Purchase done\")\n"
   ]
  },
  {
   "cell_type": "markdown",
   "metadata": {},
   "source": [
    "Obs- Out of total purchase, male purchase far more number of times than female."
   ]
  },
  {
   "cell_type": "code",
   "execution_count": 133,
   "metadata": {},
   "outputs": [
    {
     "data": {
      "text/plain": [
       "<matplotlib.axes._subplots.AxesSubplot at 0x117e5828>"
      ]
     },
     "execution_count": 133,
     "metadata": {},
     "output_type": "execute_result"
    },
    {
     "data": {
      "image/png": "[encoded data removed]",
      "text/plain": [
       "<Figure size 720x360 with 1 Axes>"
      ]
     },
     "metadata": {
      "needs_background": "light"
     },
     "output_type": "display_data"
    }
   ],
   "source": [
    "#Analysis of Product_Category and Purchase\n",
    "\n",
    "df.groupby(df[\"Product_Category\"])[\"Purchase\"].count()[0:10,].sort_values(ascending=False).plot(kind=\"bar\",figsize=(10,5),title=\"Count of Product Category based on Purchase done\")"
   ]
  },
  {
   "cell_type": "markdown",
   "metadata": {},
   "source": [
    "Obs- Out of top 10 Product Category, 5,1 and 8 are most purchased ones."
   ]
  },
  {
   "cell_type": "code",
   "execution_count": 134,
   "metadata": {},
   "outputs": [
    {
     "data": {
      "text/plain": [
       "<matplotlib.axes._subplots.AxesSubplot at 0xbbe8438>"
      ]
     },
     "execution_count": 134,
     "metadata": {},
     "output_type": "execute_result"
    },
    {
     "data": {
      "image/png": "[encoded data removed]",
      "text/plain": [
       "<Figure size 720x360 with 1 Axes>"
      ]
     },
     "metadata": {
      "needs_background": "light"
     },
     "output_type": "display_data"
    }
   ],
   "source": [
    "# Analysis of Age and Purchase\n",
    "\n",
    "df.groupby(df[\"Age\"])[\"Purchase\"].count().sort_values(ascending=False).plot(kind=\"bar\",figsize=(10,5),title=\"Count of Age groups based on Purchase done\")"
   ]
  },
  {
   "cell_type": "markdown",
   "metadata": {},
   "source": [
    "Obs- In all given Age categories, 26-35 age group people are more frequent to walmart"
   ]
  },
  {
   "cell_type": "code",
   "execution_count": 135,
   "metadata": {},
   "outputs": [
    {
     "data": {
      "text/plain": [
       "<matplotlib.axes._subplots.AxesSubplot at 0xbba0d68>"
      ]
     },
     "execution_count": 135,
     "metadata": {},
     "output_type": "execute_result"
    },
    {
     "data": {
      "image/png": "[encoded data removed]",
      "text/plain": [
       "<Figure size 720x360 with 1 Axes>"
      ]
     },
     "metadata": {
      "needs_background": "light"
     },
     "output_type": "display_data"
    }
   ],
   "source": [
    "# Analysis of Occupation and Purchase\n",
    "\n",
    "df.groupby(df[\"Occupation\"])[\"Purchase\"].count().sort_values(ascending=False).plot(kind=\"bar\",figsize=(10,5),title=\"Count of Occupation based on Purchase done\")"
   ]
  },
  {
   "cell_type": "markdown",
   "metadata": {},
   "source": [
    "Obs- People having Occupation 4,0,7 are more frequent to Walmart."
   ]
  },
  {
   "cell_type": "code",
   "execution_count": 136,
   "metadata": {},
   "outputs": [
    {
     "data": {
      "text/plain": [
       "Text(0.5, 1.0, 'Relationshop between Stay_In_City_Years and Purchase')"
      ]
     },
     "execution_count": 136,
     "metadata": {},
     "output_type": "execute_result"
    },
    {
     "data": {
      "image/png": "[encoded data removed]",
      "text/plain": [
       "<Figure size 720x360 with 1 Axes>"
      ]
     },
     "metadata": {
      "needs_background": "light"
     },
     "output_type": "display_data"
    }
   ],
   "source": [
    "#Analysis of Stay_In_Current_City_Years and purchase\n",
    "\n",
    "a=df.groupby(df[\"Stay_In_Current_City_Years\"])[\"Purchase\"].count().sort_values(ascending=False)\n",
    "# understanding the relation between age and income with respect to gender\n",
    "plt.figure(figsize = (10,5))\n",
    "sns.lineplot(data=a)\n",
    "plt.title('Relationshop between Stay_In_City_Years and Purchase')"
   ]
  },
  {
   "cell_type": "markdown",
   "metadata": {},
   "source": [
    "Obs- \n",
    "People stay in current city for 1 year are more frequent to walmart and after then sudden decrease."
   ]
  },
  {
   "cell_type": "code",
   "execution_count": 137,
   "metadata": {},
   "outputs": [
    {
     "data": {
      "text/plain": [
       "Text(0.5, 1.0, 'Relationshop between City_category and Purchase')"
      ]
     },
     "execution_count": 137,
     "metadata": {},
     "output_type": "execute_result"
    },
    {
     "data": {
      "image/png": "[encoded data removed]",
      "text/plain": [
       "<Figure size 720x360 with 1 Axes>"
      ]
     },
     "metadata": {
      "needs_background": "light"
     },
     "output_type": "display_data"
    }
   ],
   "source": [
    "# Analysis between City_category and Purchase\n",
    "\n",
    "b=df.groupby(df[\"City_Category\"])[\"Purchase\"].count().sort_values(ascending=False)\n",
    "plt.figure(figsize = (10,5))\n",
    "sns.lineplot(data=b)\n",
    "plt.title('Relationshop between City_category and Purchase')"
   ]
  },
  {
   "cell_type": "markdown",
   "metadata": {},
   "source": [
    "Obs- B category of city is more frequent to walmart"
   ]
  },
  {
   "cell_type": "markdown",
   "metadata": {},
   "source": [
    "### Multivariate Analysis"
   ]
  },
  {
   "cell_type": "code",
   "execution_count": 192,
   "metadata": {},
   "outputs": [
    {
     "data": {
      "text/plain": [
       "<matplotlib.axes._subplots.AxesSubplot at 0x119f8940>"
      ]
     },
     "execution_count": 192,
     "metadata": {},
     "output_type": "execute_result"
    },
    {
     "data": {
      "image/png": "[encoded data removed]",
      "text/plain": [
       "<Figure size 432x288 with 1 Axes>"
      ]
     },
     "metadata": {
      "needs_background": "light"
     },
     "output_type": "display_data"
    }
   ],
   "source": [
    "# Product_Category, Gender and Purchase\n",
    "\n",
    "df.groupby([\"Product_Category\",\"Gender\"]).count()[\"Purchase\"].sort_values(ascending=False)[0:10,].plot(kind=\"bar\")"
   ]
  },
  {
   "cell_type": "markdown",
   "metadata": {},
   "source": [
    "Obs-\n",
    "Males are more purchasing product 5,1,8.\n",
    "Females are purchasing 5, 8, 1 but less than males."
   ]
  },
  {
   "cell_type": "code",
   "execution_count": 190,
   "metadata": {},
   "outputs": [
    {
     "data": {
      "text/plain": [
       "<matplotlib.axes._subplots.AxesSubplot at 0x11275d68>"
      ]
     },
     "execution_count": 190,
     "metadata": {},
     "output_type": "execute_result"
    },
    {
     "data": {
      "image/png": "[encoded data removed]",
      "text/plain": [
       "<Figure size 432x288 with 1 Axes>"
      ]
     },
     "metadata": {
      "needs_background": "light"
     },
     "output_type": "display_data"
    }
   ],
   "source": [
    "# Product_Category, Age and Purchase\n",
    "\n",
    "df.groupby([\"Product_Category\",\"Age\"]).count()[\"Purchase\"].sort_values(ascending=False)[0:10,].plot(kind=\"bar\")"
   ]
  },
  {
   "cell_type": "markdown",
   "metadata": {},
   "source": [
    "Obs-\n",
    "Age group 26-35 are buying more 5,1,8 and 5 by 36-45 and 18-25 also."
   ]
  },
  {
   "cell_type": "code",
   "execution_count": 191,
   "metadata": {},
   "outputs": [
    {
     "data": {
      "text/plain": [
       "<matplotlib.axes._subplots.AxesSubplot at 0xca84da0>"
      ]
     },
     "execution_count": 191,
     "metadata": {},
     "output_type": "execute_result"
    },
    {
     "data": {
      "image/png": "[encoded data removed]",
      "text/plain": [
       "<Figure size 432x288 with 1 Axes>"
      ]
     },
     "metadata": {
      "needs_background": "light"
     },
     "output_type": "display_data"
    }
   ],
   "source": [
    "# Product_Category, Occupation and Purchase\n",
    "\n",
    "df.groupby([\"Product_Category\",\"Occupation\"]).count()[\"Purchase\"].sort_values(ascending=False)[0:10,].plot(kind=\"bar\")"
   ]
  },
  {
   "cell_type": "markdown",
   "metadata": {},
   "source": [
    "Obs-People having occupation 4,0,7 are more common buyers of 5,1,8."
   ]
  },
  {
   "cell_type": "code",
   "execution_count": 139,
   "metadata": {},
   "outputs": [
    {
     "data": {
      "text/html": [
       "<div>\n",
       "<style scoped>\n",
       "    .dataframe tbody tr th:only-of-type {\n",
       "        vertical-align: middle;\n",
       "    }\n",
       "\n",
       "    .dataframe tbody tr th {\n",
       "        vertical-align: top;\n",
       "    }\n",
       "\n",
       "    .dataframe thead th {\n",
       "        text-align: right;\n",
       "    }\n",
       "</style>\n",
       "<table border=\"1\" class=\"dataframe\">\n",
       "  <thead>\n",
       "    <tr style=\"text-align: right;\">\n",
       "      <th></th>\n",
       "      <th>User_ID</th>\n",
       "      <th>Product_ID</th>\n",
       "      <th>Gender</th>\n",
       "      <th>Age</th>\n",
       "      <th>Occupation</th>\n",
       "      <th>City_Category</th>\n",
       "      <th>Stay_In_Current_City_Years</th>\n",
       "      <th>Marital_Status</th>\n",
       "      <th>Product_Category</th>\n",
       "      <th>Purchase</th>\n",
       "    </tr>\n",
       "  </thead>\n",
       "  <tbody>\n",
       "    <tr>\n",
       "      <th>0</th>\n",
       "      <td>1000001</td>\n",
       "      <td>P00069042</td>\n",
       "      <td>F</td>\n",
       "      <td>0-17</td>\n",
       "      <td>10</td>\n",
       "      <td>A</td>\n",
       "      <td>2</td>\n",
       "      <td>Unmarried</td>\n",
       "      <td>3</td>\n",
       "      <td>8370</td>\n",
       "    </tr>\n",
       "    <tr>\n",
       "      <th>1</th>\n",
       "      <td>1000001</td>\n",
       "      <td>P00248942</td>\n",
       "      <td>F</td>\n",
       "      <td>0-17</td>\n",
       "      <td>10</td>\n",
       "      <td>A</td>\n",
       "      <td>2</td>\n",
       "      <td>Unmarried</td>\n",
       "      <td>1</td>\n",
       "      <td>15200</td>\n",
       "    </tr>\n",
       "    <tr>\n",
       "      <th>2</th>\n",
       "      <td>1000001</td>\n",
       "      <td>P00087842</td>\n",
       "      <td>F</td>\n",
       "      <td>0-17</td>\n",
       "      <td>10</td>\n",
       "      <td>A</td>\n",
       "      <td>2</td>\n",
       "      <td>Unmarried</td>\n",
       "      <td>12</td>\n",
       "      <td>1422</td>\n",
       "    </tr>\n",
       "    <tr>\n",
       "      <th>3</th>\n",
       "      <td>1000001</td>\n",
       "      <td>P00085442</td>\n",
       "      <td>F</td>\n",
       "      <td>0-17</td>\n",
       "      <td>10</td>\n",
       "      <td>A</td>\n",
       "      <td>2</td>\n",
       "      <td>Unmarried</td>\n",
       "      <td>12</td>\n",
       "      <td>1057</td>\n",
       "    </tr>\n",
       "    <tr>\n",
       "      <th>4</th>\n",
       "      <td>1000002</td>\n",
       "      <td>P00285442</td>\n",
       "      <td>M</td>\n",
       "      <td>55+</td>\n",
       "      <td>16</td>\n",
       "      <td>C</td>\n",
       "      <td>4+</td>\n",
       "      <td>Unmarried</td>\n",
       "      <td>8</td>\n",
       "      <td>7969</td>\n",
       "    </tr>\n",
       "  </tbody>\n",
       "</table>\n",
       "</div>"
      ],
      "text/plain": [
       "   User_ID Product_ID Gender   Age  Occupation City_Category  \\\n",
       "0  1000001  P00069042      F  0-17          10             A   \n",
       "1  1000001  P00248942      F  0-17          10             A   \n",
       "2  1000001  P00087842      F  0-17          10             A   \n",
       "3  1000001  P00085442      F  0-17          10             A   \n",
       "4  1000002  P00285442      M   55+          16             C   \n",
       "\n",
       "  Stay_In_Current_City_Years Marital_Status  Product_Category  Purchase  \n",
       "0                          2      Unmarried                 3      8370  \n",
       "1                          2      Unmarried                 1     15200  \n",
       "2                          2      Unmarried                12      1422  \n",
       "3                          2      Unmarried                12      1057  \n",
       "4                         4+      Unmarried                 8      7969  "
      ]
     },
     "execution_count": 139,
     "metadata": {},
     "output_type": "execute_result"
    }
   ],
   "source": [
    "df.head()"
   ]
  },
  {
   "cell_type": "code",
   "execution_count": 195,
   "metadata": {},
   "outputs": [
    {
     "data": {
      "text/plain": [
       "<matplotlib.axes._subplots.AxesSubplot at 0x1199af28>"
      ]
     },
     "execution_count": 195,
     "metadata": {},
     "output_type": "execute_result"
    },
    {
     "data": {
      "image/png": "[encoded data removed]",
      "text/plain": [
       "<Figure size 432x288 with 1 Axes>"
      ]
     },
     "metadata": {
      "needs_background": "light"
     },
     "output_type": "display_data"
    }
   ],
   "source": [
    "# Product_Category, Occupation and Purchase\n",
    "\n",
    "df.groupby([\"City_Category\",\"Product_Category\"]).count()[\"Purchase\"].sort_values(ascending=False)[0:10,].plot(kind=\"bar\")"
   ]
  },
  {
   "cell_type": "markdown",
   "metadata": {},
   "source": [
    "Obs- \n",
    "\n",
    "C is buying more 1 category.\n",
    "B is focusing more on 5,1,8.\n",
    "A is focusing more on 5,1."
   ]
  },
  {
   "cell_type": "code",
   "execution_count": 196,
   "metadata": {},
   "outputs": [
    {
     "data": {
      "text/plain": [
       "<matplotlib.axes._subplots.AxesSubplot at 0xcc49a90>"
      ]
     },
     "execution_count": 196,
     "metadata": {},
     "output_type": "execute_result"
    },
    {
     "data": {
      "image/png": "[encoded data removed]",
      "text/plain": [
       "<Figure size 432x288 with 1 Axes>"
      ]
     },
     "metadata": {
      "needs_background": "light"
     },
     "output_type": "display_data"
    }
   ],
   "source": [
    "# Product_Category, Occupation and Purchase\n",
    "\n",
    "df.groupby([\"Stay_In_Current_City_Years\",\"Product_Category\"]).count()[\"Purchase\"].sort_values(ascending=False)[0:10,].plot(kind=\"bar\")"
   ]
  },
  {
   "cell_type": "markdown",
   "metadata": {},
   "source": [
    "Obs-\n",
    "People staying for 1,2 years are purchasing more 5,1,8."
   ]
  },
  {
   "cell_type": "markdown",
   "metadata": {},
   "source": [
    "## Male and Female Purchase interval\n",
    "### Use the sample average to find out an interval within which the population average will lie. Using the sample of female customers you will calculate the interval within which the average spending of 50 million male and female customers may lie."
   ]
  },
  {
   "cell_type": "markdown",
   "metadata": {},
   "source": [
    "#### Tracking the amount spent per transaction of all the 50 million female customers, and all the 50 million male customers, calculate the average, and conclude the results."
   ]
  },
  {
   "cell_type": "code",
   "execution_count": 140,
   "metadata": {},
   "outputs": [
    {
     "name": "stdout",
     "output_type": "stream",
     "text": [
      "Male Population average spend amount is 9437.526040472265\n",
      "Male Population standard deviation is 5092.180063635943\n"
     ]
    }
   ],
   "source": [
    "male_df=df.loc[(df[\"Gender\"]==\"M\"),\"Purchase\"]\n",
    "pm=male_df.mean()\n",
    "msd=np.std(male_df)\n",
    "print(\"Male Population average spend amount is {}\".format(pm))\n",
    "print(\"Male Population standard deviation is {}\".format(msd))"
   ]
  },
  {
   "cell_type": "code",
   "execution_count": 141,
   "metadata": {},
   "outputs": [
    {
     "name": "stdout",
     "output_type": "stream",
     "text": [
      "Female Population average spend amount is 8734.565765155476\n",
      "Female Population standard deviation is 4767.215738016988\n"
     ]
    }
   ],
   "source": [
    "female_df=df.loc[(df[\"Gender\"]==\"F\"),\"Purchase\"]\n",
    "fm=female_df.mean()\n",
    "fsd=np.std(female_df)\n",
    "print(\"Female Population average spend amount is {}\".format(fm))\n",
    "print(\"Female Population standard deviation is {}\".format(fsd))"
   ]
  },
  {
   "cell_type": "code",
   "execution_count": 142,
   "metadata": {},
   "outputs": [
    {
     "name": "stdout",
     "output_type": "stream",
     "text": [
      "Total amount spent by males in Walmart is 3909580100\n"
     ]
    }
   ],
   "source": [
    "#analysis of males and their purchase\n",
    "\n",
    "a=df.loc[(df[\"Gender\"]==\"M\"),\"Purchase\"].sum()\n",
    "print(\"Total amount spent by males in Walmart is {}\".format(a))\n",
    "#total amount spent by males in walmart"
   ]
  },
  {
   "cell_type": "code",
   "execution_count": 143,
   "metadata": {},
   "outputs": [
    {
     "name": "stdout",
     "output_type": "stream",
     "text": [
      "Total amount spent by females in Walmart is 1186232642\n"
     ]
    }
   ],
   "source": [
    "#analysis of females and their purchase\n",
    "\n",
    "a=df.loc[(df[\"Gender\"]==\"F\"),\"Purchase\"].sum()\n",
    "print(\"Total amount spent by females in Walmart is {}\".format(a))\n",
    "\n",
    "#total amount spent by females in walmart"
   ]
  },
  {
   "cell_type": "code",
   "execution_count": 144,
   "metadata": {},
   "outputs": [
    {
     "name": "stdout",
     "output_type": "stream",
     "text": [
      "Male average spending mean is 9437.414123006667 \n",
      "Male average spending standard deviation is 41.20668117192016 \n"
     ]
    }
   ],
   "source": [
    "# Male Spending sample average to find out an interval within which the population average will lie.\n",
    "\n",
    "num_samples = 15000\n",
    "num_repititions = 10000\n",
    "collect_male_sample_means = []\n",
    "for rep in range(num_repititions):\n",
    "    sample_mean = male_df.sample(num_samples).mean()\n",
    "    collect_male_sample_means.append(sample_mean)\n",
    "    \n",
    "male_final_mean=np.mean(collect_male_sample_means)    \n",
    "\n",
    "print(\"Male average spending mean is {} \".format(male_final_mean))\n",
    "print(\"Male average spending standard deviation is {} \".format(np.std(collect_male_sample_means)))"
   ]
  },
  {
   "cell_type": "markdown",
   "metadata": {},
   "source": [
    "## Finding out an 90%,95%, 99%Confidence Interval Using CLT.\n",
    "\n",
    "### Confidence intervals and distribution of the mean of the expenses by female and male customers."
   ]
  },
  {
   "cell_type": "code",
   "execution_count": 145,
   "metadata": {},
   "outputs": [
    {
     "name": "stdout",
     "output_type": "stream",
     "text": [
      "90%  Confidence interval:  (9369.227062179263, 9505.601183834071)\n",
      "95%  Confidence interval:  (9355.922269822697, 9518.905976190637)\n",
      "99%  Confidence interval:  (9330.560009392992, 9544.268236620343)\n"
     ]
    }
   ],
   "source": [
    "#  the z-critical value\n",
    "z_critical=[1.64,1.96,2.57]\n",
    "conf_perc=[\"90%\",\"95%\",\"99%\"]\n",
    "confidence_interval=[]\n",
    "for i in range(0,3):\n",
    "    margin_of_error = z_critical[i] * (msd/np.sqrt(num_samples))\n",
    "\n",
    "    confidence_interval.append ((male_final_mean - margin_of_error,\n",
    "                           male_final_mean + margin_of_error)  )\n",
    "\n",
    "    print(conf_perc[i],\" Confidence interval: \", confidence_interval[i])"
   ]
  },
  {
   "cell_type": "code",
   "execution_count": 146,
   "metadata": {},
   "outputs": [
    {
     "data": {
      "image/png": "[encoded data removed]",
      "text/plain": [
       "<Figure size 432x288 with 1 Axes>"
      ]
     },
     "metadata": {
      "needs_background": "light"
     },
     "output_type": "display_data"
    },
    {
     "data": {
      "image/png": "[encoded data removed]",
      "text/plain": [
       "<Figure size 432x288 with 1 Axes>"
      ]
     },
     "metadata": {
      "needs_background": "light"
     },
     "output_type": "display_data"
    },
    {
     "data": {
      "image/png": "[encoded data removed]",
      "text/plain": [
       "<Figure size 432x288 with 1 Axes>"
      ]
     },
     "metadata": {
      "needs_background": "light"
     },
     "output_type": "display_data"
    }
   ],
   "source": [
    "plt.hist(collect_male_sample_means,bins=100)\n",
    "plt.axvline(x=confidence_interval[0][0], c=\"r\")\n",
    "plt.axvline(x=confidence_interval[0][1], c=\"r\")\n",
    "plt.title(\"90% Confidence Interval for Male average purchase\")\n",
    "plt.show()\n",
    "\n",
    "plt.hist(collect_male_sample_means,bins=100)\n",
    "plt.axvline(x=confidence_interval[1][0], c=\"r\")\n",
    "plt.axvline(x=confidence_interval[1][1], c=\"r\")\n",
    "plt.title(\"95% Confidence Interval for Male average purchase\")\n",
    "plt.show()\n",
    "\n",
    "plt.hist(collect_male_sample_means,bins=100)\n",
    "plt.axvline(x=confidence_interval[2][0], c=\"r\")\n",
    "plt.axvline(x=confidence_interval[2][1], c=\"r\")\n",
    "plt.title(\"99% Confidence Interval for Male average purchase\")\n",
    "plt.show()"
   ]
  },
  {
   "cell_type": "markdown",
   "metadata": {},
   "source": [
    "### Female Spend Analysis"
   ]
  },
  {
   "cell_type": "code",
   "execution_count": 147,
   "metadata": {},
   "outputs": [
    {
     "name": "stdout",
     "output_type": "stream",
     "text": [
      "Female average spending mean is 8735.219484706666 \n",
      "Female average spending standard deviation is 36.99994496003322 \n"
     ]
    }
   ],
   "source": [
    "# Female spending sample average to find out an interval within which the population average will lie.\n",
    "\n",
    "num_samples = 15000\n",
    "num_repititions = 10000\n",
    "collect_female_sample_means = []\n",
    "for rep in range(num_repititions):\n",
    "    sample_mean = female_df.sample(num_samples).mean()\n",
    "    collect_female_sample_means.append(sample_mean)\n",
    "    \n",
    "female_final_mean=np.mean(collect_female_sample_means)\n",
    "\n",
    "print(\"Female average spending mean is {} \".format(female_final_mean))\n",
    "print(\"Female average spending standard deviation is {} \".format(np.std(collect_female_sample_means)))"
   ]
  },
  {
   "cell_type": "code",
   "execution_count": 148,
   "metadata": {},
   "outputs": [
    {
     "name": "stdout",
     "output_type": "stream",
     "text": [
      "90%  Confidence interval:  (8671.38387295624, 8799.055096457092)\n",
      "95%  Confidence interval:  (8658.928143834206, 8811.510825579126)\n",
      "99%  Confidence interval:  (8635.184410195328, 8835.254559218003)\n"
     ]
    }
   ],
   "source": [
    "#  the z-critical value\n",
    "z_critical=[1.64,1.96,2.57]\n",
    "conf_perc=[\"90%\",\"95%\",\"99%\"]\n",
    "confidence_interval=[]\n",
    "for i in range(0,3):\n",
    "    margin_of_error = z_critical[i] * (fsd/np.sqrt(num_samples))\n",
    "\n",
    "    confidence_interval.append ((female_final_mean - margin_of_error,\n",
    "                       female_final_mean + margin_of_error)  )\n",
    "\n",
    "    print(conf_perc[i],\" Confidence interval: \", confidence_interval[i])"
   ]
  },
  {
   "cell_type": "code",
   "execution_count": 149,
   "metadata": {},
   "outputs": [
    {
     "data": {
      "image/png": "[encoded data removed]",
      "text/plain": [
       "<Figure size 432x288 with 1 Axes>"
      ]
     },
     "metadata": {
      "needs_background": "light"
     },
     "output_type": "display_data"
    },
    {
     "data": {
      "image/png": "[encoded data removed]",
      "text/plain": [
       "<Figure size 432x288 with 1 Axes>"
      ]
     },
     "metadata": {
      "needs_background": "light"
     },
     "output_type": "display_data"
    },
    {
     "data": {
      "image/png": "[encoded data removed]",
      "text/plain": [
       "<Figure size 432x288 with 1 Axes>"
      ]
     },
     "metadata": {
      "needs_background": "light"
     },
     "output_type": "display_data"
    }
   ],
   "source": [
    "plt.hist(collect_female_sample_means,bins=100)\n",
    "plt.axvline(x=confidence_interval[0][0], c=\"r\")\n",
    "plt.axvline(x=confidence_interval[0][1], c=\"r\")\n",
    "plt.title(\"90% Confidence Interval for Female average purchase\")\n",
    "plt.show()\n",
    "\n",
    "plt.hist(collect_female_sample_means,bins=100)\n",
    "plt.axvline(x=confidence_interval[1][0], c=\"r\")\n",
    "plt.axvline(x=confidence_interval[1][1], c=\"r\")\n",
    "plt.title(\"95% Confidence Interval for Female average purchase\")\n",
    "plt.show()\n",
    "\n",
    "plt.hist(collect_female_sample_means,bins=100)\n",
    "plt.axvline(x=confidence_interval[2][0], c=\"r\")\n",
    "plt.axvline(x=confidence_interval[2][1], c=\"r\")\n",
    "plt.title(\"99% Confidence Interval for Female average purchase\")\n",
    "plt.show()"
   ]
  },
  {
   "cell_type": "markdown",
   "metadata": {},
   "source": [
    "### Answering questions\n",
    "#### Are women spending more money per transaction than men? Why or Why not? "
   ]
  },
  {
   "cell_type": "markdown",
   "metadata": {},
   "source": [
    "Female and Male money per transaction average is calculated above and written below-\n",
    "\n",
    "Male are spending more money per transaction than female\n",
    "\n",
    "    Female average spending mean is 8735.219484706666 \n",
    "    Female average spending standard deviation is 36.99994496003322 \n",
    "\n",
    "    Male average spending mean is 9437.414123006667 \n",
    "    Male average spending standard deviation is 41.20668117192016 "
   ]
  },
  {
   "cell_type": "markdown",
   "metadata": {},
   "source": [
    "\n",
    "#### Confidence intervals and distribution of the mean of the expenses by female and male customers."
   ]
  },
  {
   "cell_type": "raw",
   "metadata": {},
   "source": [
    "Male customers confidence Interval-\n",
    "90%  Confidence interval:  (9369.227062179263, 9505.601183834071)\n",
    "95%  Confidence interval:  (9355.922269822697, 9518.905976190637)\n",
    "99%  Confidence interval:  (9330.560009392992, 9544.268236620343)\n",
    "    \n",
    "Female customers confidence Interval-\n",
    "90%  Confidence interval:  (8671.38387295624, 8799.055096457092)\n",
    "95%  Confidence interval:  (8658.928143834206, 8811.510825579126)\n",
    "99%  Confidence interval:  (8635.184410195328, 8835.254559218003)"
   ]
  },
  {
   "cell_type": "markdown",
   "metadata": {},
   "source": [
    "#### Are confidence intervals of average male and female spending overlapping? How can Walmart leverage this conclusion to make changes or improvements? "
   ]
  },
  {
   "cell_type": "raw",
   "metadata": {},
   "source": [
    "There is no overlapping in the confidence intervals of average male and female spending. So walmart can make different strategies fro both male and female to increase the purchase."
   ]
  },
  {
   "cell_type": "markdown",
   "metadata": {},
   "source": [
    "## Married vs Unmarried Purchase Interval"
   ]
  },
  {
   "cell_type": "code",
   "execution_count": 152,
   "metadata": {},
   "outputs": [
    {
     "name": "stdout",
     "output_type": "stream",
     "text": [
      "Married Population average spend amount is 9261.174574082374\n",
      "Married Population standard deviation is 5016.89737779313\n"
     ]
    }
   ],
   "source": [
    "married_df=df.loc[(df[\"Marital_Status\"]==\"Married\"),\"Purchase\"]\n",
    "mpm=married_df.mean()\n",
    "msd=married_df.std()\n",
    "print(\"Married Population average spend amount is {}\".format(mpm))\n",
    "print(\"Married Population standard deviation is {}\".format(msd))"
   ]
  },
  {
   "cell_type": "code",
   "execution_count": 153,
   "metadata": {},
   "outputs": [
    {
     "name": "stdout",
     "output_type": "stream",
     "text": [
      "Ummaried Population average spend amount is 9265.907618921507\n",
      "Unmarried Population standard deviation is 5027.347858674457\n"
     ]
    }
   ],
   "source": [
    "unmarried_df=df.loc[(df[\"Marital_Status\"]==\"Unmarried\"),\"Purchase\"]\n",
    "upm=unmarried_df.mean()\n",
    "umsd=unmarried_df.std()\n",
    "print(\"Ummaried Population average spend amount is {}\".format(upm))\n",
    "print(\"Unmarried Population standard deviation is {}\".format(umsd))"
   ]
  },
  {
   "cell_type": "code",
   "execution_count": 154,
   "metadata": {},
   "outputs": [
    {
     "name": "stdout",
     "output_type": "stream",
     "text": [
      "Married people average spending mean is 9262.218987133334 \n",
      "Married people average spending standard deviation is 39.57915712861642 \n"
     ]
    }
   ],
   "source": [
    "# Married Spending sample average to find out an interval within which the population average will lie.\n",
    "\n",
    "num_samples = 15000\n",
    "num_repititions = 10000\n",
    "collect_married_sample_means = []\n",
    "for rep in range(num_repititions):\n",
    "    sample_mean = married_df.sample(num_samples).mean()\n",
    "    collect_married_sample_means.append(sample_mean)\n",
    "    \n",
    "married_final_mean=np.mean(collect_married_sample_means)    \n",
    "\n",
    "print(\"Married people average spending mean is {} \".format(married_final_mean))\n",
    "print(\"Married people average spending standard deviation is {} \".format(np.std(collect_married_sample_means)))"
   ]
  },
  {
   "cell_type": "markdown",
   "metadata": {},
   "source": [
    "## Finding out an 90%,95%, 99%Confidence Interval Using CLT.\n",
    "\n",
    "### Confidence intervals and distribution of the mean of the expenses by married and unmarried customers."
   ]
  },
  {
   "cell_type": "code",
   "execution_count": 157,
   "metadata": {},
   "outputs": [
    {
     "name": "stdout",
     "output_type": "stream",
     "text": [
      "90%  Confidence interval:  (9195.040002417667, 9329.397971849)\n",
      "95%  Confidence interval:  (9181.931907839, 9342.506066427668)\n",
      "99%  Confidence interval:  (9156.944602548416, 9367.493371718252)\n"
     ]
    }
   ],
   "source": [
    "#  the z-critical value\n",
    "z_critical=[1.64,1.96,2.57]\n",
    "conf_perc=[\"90%\",\"95%\",\"99%\"]\n",
    "confidence_interval=[]\n",
    "for i in range(0,3):\n",
    "    margin_of_error = z_critical[i] * (msd/np.sqrt(num_samples))\n",
    "\n",
    "    confidence_interval.append ((married_final_mean - margin_of_error,\n",
    "                       married_final_mean + margin_of_error)  )\n",
    "\n",
    "    print(conf_perc[i],\" Confidence interval: \", confidence_interval[i])"
   ]
  },
  {
   "cell_type": "code",
   "execution_count": 158,
   "metadata": {},
   "outputs": [
    {
     "data": {
      "image/png": "[encoded data removed]",
      "text/plain": [
       "<Figure size 432x288 with 1 Axes>"
      ]
     },
     "metadata": {
      "needs_background": "light"
     },
     "output_type": "display_data"
    },
    {
     "data": {
      "image/png": "[encoded data removed]",
      "text/plain": [
       "<Figure size 432x288 with 1 Axes>"
      ]
     },
     "metadata": {
      "needs_background": "light"
     },
     "output_type": "display_data"
    },
    {
     "data": {
      "image/png": "[encoded data removed]",
      "text/plain": [
       "<Figure size 432x288 with 1 Axes>"
      ]
     },
     "metadata": {
      "needs_background": "light"
     },
     "output_type": "display_data"
    }
   ],
   "source": [
    "plt.hist(collect_married_sample_means,bins=100)\n",
    "plt.axvline(x=confidence_interval[0][0], c=\"r\")\n",
    "plt.axvline(x=confidence_interval[0][1], c=\"r\")\n",
    "plt.title(\"90% Confidence Interval for Married average purchase\")\n",
    "plt.show()\n",
    "\n",
    "plt.hist(collect_married_sample_means,bins=100)\n",
    "plt.axvline(x=confidence_interval[1][0], c=\"r\")\n",
    "plt.axvline(x=confidence_interval[1][1], c=\"r\")\n",
    "plt.title(\"95% Confidence Interval for Married average purchase\")\n",
    "plt.show()\n",
    "\n",
    "plt.hist(collect_married_sample_means,bins=100)\n",
    "plt.axvline(x=confidence_interval[2][0], c=\"r\")\n",
    "plt.axvline(x=confidence_interval[2][1], c=\"r\")\n",
    "plt.title(\"99% Confidence Interval for Married average purchase\")\n",
    "plt.show()"
   ]
  },
  {
   "cell_type": "code",
   "execution_count": 159,
   "metadata": {},
   "outputs": [
    {
     "name": "stdout",
     "output_type": "stream",
     "text": [
      "UnMarried people average spending mean is 9265.736828506666 \n",
      "UnMarried people average spending standard deviation is 39.968580446221615 \n"
     ]
    }
   ],
   "source": [
    "# Unmarried Spending sample average to find out an interval within which the population average will lie.\n",
    "\n",
    "num_samples = 15000\n",
    "num_repititions = 10000\n",
    "collect_unmarried_sample_means = []\n",
    "for rep in range(num_repititions):\n",
    "    sample_mean = unmarried_df.sample(num_samples).mean()\n",
    "    collect_unmarried_sample_means.append(sample_mean)\n",
    "    \n",
    "unmarried_final_mean=np.mean(collect_unmarried_sample_means)    \n",
    "\n",
    "print(\"UnMarried people average spending mean is {} \".format(unmarried_final_mean))\n",
    "print(\"UnMarried people average spending standard deviation is {} \".format(np.std(collect_unmarried_sample_means)))"
   ]
  },
  {
   "cell_type": "code",
   "execution_count": 160,
   "metadata": {},
   "outputs": [
    {
     "name": "stdout",
     "output_type": "stream",
     "text": [
      "90%  Confidence interval:  (9198.417906167697, 9333.055750845635)\n",
      "95%  Confidence interval:  (9185.282506686923, 9346.19115032641)\n",
      "99%  Confidence interval:  (9160.243151426695, 9371.230505586636)\n"
     ]
    }
   ],
   "source": [
    "#  the z-critical value\n",
    "z_critical=[1.64,1.96,2.57]\n",
    "conf_perc=[\"90%\",\"95%\",\"99%\"]\n",
    "confidence_interval=[]\n",
    "for i in range(0,3):\n",
    "    margin_of_error = z_critical[i] * (umsd/np.sqrt(num_samples))\n",
    "\n",
    "    confidence_interval.append ((unmarried_final_mean - margin_of_error,\n",
    "                       unmarried_final_mean + margin_of_error)  )\n",
    "\n",
    "    print(conf_perc[i],\" Confidence interval: \", confidence_interval[i])"
   ]
  },
  {
   "cell_type": "code",
   "execution_count": 161,
   "metadata": {},
   "outputs": [
    {
     "data": {
      "image/png": "[encoded data removed]",
      "text/plain": [
       "<Figure size 432x288 with 1 Axes>"
      ]
     },
     "metadata": {
      "needs_background": "light"
     },
     "output_type": "display_data"
    },
    {
     "data": {
      "image/png": "[encoded data removed]",
      "text/plain": [
       "<Figure size 432x288 with 1 Axes>"
      ]
     },
     "metadata": {
      "needs_background": "light"
     },
     "output_type": "display_data"
    },
    {
     "data": {
      "image/png": "[encoded data removed]",
      "text/plain": [
       "<Figure size 432x288 with 1 Axes>"
      ]
     },
     "metadata": {
      "needs_background": "light"
     },
     "output_type": "display_data"
    }
   ],
   "source": [
    "plt.hist(collect_unmarried_sample_means,bins=100)\n",
    "plt.axvline(x=confidence_interval[0][0], c=\"r\")\n",
    "plt.axvline(x=confidence_interval[0][1], c=\"r\")\n",
    "plt.title(\"90% Confidence Interval for Unmarried average purchase\")\n",
    "plt.show()\n",
    "\n",
    "plt.hist(collect_unmarried_sample_means,bins=100)\n",
    "plt.axvline(x=confidence_interval[1][0], c=\"r\")\n",
    "plt.axvline(x=confidence_interval[1][1], c=\"r\")\n",
    "plt.title(\"95% Confidence Interval for Unmarried average purchase\")\n",
    "plt.show()\n",
    "\n",
    "plt.hist(collect_unmarried_sample_means,bins=100)\n",
    "plt.axvline(x=confidence_interval[2][0], c=\"r\")\n",
    "plt.axvline(x=confidence_interval[2][1], c=\"r\")\n",
    "plt.title(\"99% Confidence Interval for Unmarried average purchase\")\n",
    "plt.show()"
   ]
  },
  {
   "cell_type": "markdown",
   "metadata": {},
   "source": [
    "### Answering questions\n",
    "#### Are unmarried spending more money per transaction than married? Why or Why not? \n",
    "\n",
    "married and unmarried money per transaction average is calculated above and written below-\n",
    "\n",
    "Unmarried are spending more money per transaction than married but there is no big difference between the two.\n",
    "\n",
    "    UnMarried people average spending mean is 9265.736828506666 \n",
    "    UnMarried people average spending standard deviation is 39.968580446221615 \n",
    "\n",
    "    Married people average spending mean is 9262.218987133334 \n",
    "    Married people average spending standard deviation is 39.57915712861642"
   ]
  },
  {
   "cell_type": "markdown",
   "metadata": {},
   "source": [
    "#### Confidence intervals and distribution of the mean of the expenses by married and unmarried customers."
   ]
  },
  {
   "cell_type": "raw",
   "metadata": {},
   "source": [
    "Married customers confidence Interval-\n",
    "90%  Confidence interval:  (9195.040002417667, 9329.397971849)\n",
    "95%  Confidence interval:  (9181.931907839, 9342.506066427668)\n",
    "99%  Confidence interval:  (9156.944602548416, 9367.493371718252)\n",
    "    \n",
    "Unmarried customers confidence Interval-\n",
    "90%  Confidence interval:  (9198.417906167697, 9333.055750845635)\n",
    "95%  Confidence interval:  (9185.282506686923, 9346.19115032641)\n",
    "99%  Confidence interval:  (9160.243151426695, 9371.230505586636)"
   ]
  },
  {
   "cell_type": "markdown",
   "metadata": {},
   "source": [
    "#### Are confidence intervals of average married and unmarried spending overlapping? How can Walmart leverage this conclusion to make changes or improvements? "
   ]
  },
  {
   "cell_type": "raw",
   "metadata": {},
   "source": [
    "There is overlapping in the confidence intervals of average married upper limit and unmarried lower limit spending."
   ]
  },
  {
   "cell_type": "markdown",
   "metadata": {},
   "source": [
    "## (26-35) Age Group Purchase Interval"
   ]
  },
  {
   "cell_type": "code",
   "execution_count": 162,
   "metadata": {},
   "outputs": [
    {
     "name": "stdout",
     "output_type": "stream",
     "text": [
      "26-35 Age Population average spend amount is 9252.690632869888\n",
      "26-35 Age Population standard deviation is 5010.527303002927\n"
     ]
    }
   ],
   "source": [
    "Age_df=df.loc[(df[\"Age\"]==\"26-35\"),\"Purchase\"]\n",
    "apm=Age_df.mean()\n",
    "asd=Age_df.std()\n",
    "print(\"26-35 Age Population average spend amount is {}\".format(apm))\n",
    "print(\"26-35 Age Population standard deviation is {}\".format(asd))"
   ]
  },
  {
   "cell_type": "code",
   "execution_count": 163,
   "metadata": {},
   "outputs": [
    {
     "name": "stdout",
     "output_type": "stream",
     "text": [
      "26-35 age people average spending mean is 9252.15397848 \n",
      "26-35 age people average spending standard deviation is 39.166152177381804 \n"
     ]
    }
   ],
   "source": [
    "# Age group wise Spending sample average to find out an interval within which the population average will lie.\n",
    "\n",
    "num_samples = 15000\n",
    "num_repititions = 10000\n",
    "collect_age_sample_means = []\n",
    "for rep in range(num_repititions):\n",
    "    sample_mean = Age_df.sample(num_samples).mean()\n",
    "    collect_age_sample_means.append(sample_mean)\n",
    "    \n",
    "age_final_mean=np.mean(collect_age_sample_means)    \n",
    "\n",
    "print(\"26-35 age people average spending mean is {} \".format(age_final_mean))\n",
    "print(\"26-35 age people average spending standard deviation is {} \".format(np.std(collect_age_sample_means)))"
   ]
  },
  {
   "cell_type": "markdown",
   "metadata": {},
   "source": [
    "# Finding out an 90%,95%, 99%Confidence Interval Using CLT.\n",
    "\n",
    "## Confidence intervals and distribution of the mean of the expenses by Age-Groups"
   ]
  },
  {
   "cell_type": "code",
   "execution_count": 165,
   "metadata": {},
   "outputs": [
    {
     "name": "stdout",
     "output_type": "stream",
     "text": [
      "90%  Confidence interval:  (9184.894295632455, 9319.413661327546)\n",
      "95%  Confidence interval:  (9171.770455076836, 9332.537501883166)\n",
      "99%  Confidence interval:  (9146.753134017688, 9357.554822942313)\n"
     ]
    }
   ],
   "source": [
    "#  the z-critical value\n",
    "z_critical=[1.64,1.96,2.57]\n",
    "conf_perc=[\"90%\",\"95%\",\"99%\"]\n",
    "confidence_interval=[]\n",
    "for i in range(0,3):\n",
    "    margin_of_error = z_critical[i] * (asd/np.sqrt(num_samples))\n",
    "\n",
    "    confidence_interval.append ((age_final_mean - margin_of_error,\n",
    "                       age_final_mean + margin_of_error)  )\n",
    "\n",
    "    print(conf_perc[i],\" Confidence interval: \", confidence_interval[i])"
   ]
  },
  {
   "cell_type": "code",
   "execution_count": 166,
   "metadata": {},
   "outputs": [
    {
     "data": {
      "image/png": "[encoded data removed]",
      "text/plain": [
       "<Figure size 432x288 with 1 Axes>"
      ]
     },
     "metadata": {
      "needs_background": "light"
     },
     "output_type": "display_data"
    },
    {
     "data": {
      "image/png": "[encoded data removed]",
      "text/plain": [
       "<Figure size 432x288 with 1 Axes>"
      ]
     },
     "metadata": {
      "needs_background": "light"
     },
     "output_type": "display_data"
    },
    {
     "data": {
      "image/png": "[encoded data removed]",
      "text/plain": [
       "<Figure size 432x288 with 1 Axes>"
      ]
     },
     "metadata": {
      "needs_background": "light"
     },
     "output_type": "display_data"
    }
   ],
   "source": [
    "plt.hist(collect_age_sample_means,bins=100)\n",
    "plt.axvline(x=confidence_interval[0][0], c=\"r\")\n",
    "plt.axvline(x=confidence_interval[0][1], c=\"r\")\n",
    "plt.title(\"90% Confidence Interval for 26-35 Age group average purchase\")\n",
    "plt.show()\n",
    "\n",
    "plt.hist(collect_age_sample_means,bins=100)\n",
    "plt.axvline(x=confidence_interval[1][0], c=\"r\")\n",
    "plt.axvline(x=confidence_interval[1][1], c=\"r\")\n",
    "plt.title(\"95% Confidence Interval for 26-35 Age group average purchase\")\n",
    "plt.show()\n",
    "\n",
    "plt.hist(collect_age_sample_means,bins=100)\n",
    "plt.axvline(x=confidence_interval[2][0], c=\"r\")\n",
    "plt.axvline(x=confidence_interval[2][1], c=\"r\")\n",
    "plt.title(\"99% Confidence Interval for 26-35 Age group average purchase\")\n",
    "plt.show()"
   ]
  },
  {
   "cell_type": "markdown",
   "metadata": {},
   "source": [
    "## (36-45) Age Group Purchase Interval"
   ]
  },
  {
   "cell_type": "code",
   "execution_count": 164,
   "metadata": {},
   "outputs": [
    {
     "name": "stdout",
     "output_type": "stream",
     "text": [
      "36-45 Age Population average spend amount is 9331.350694917874\n",
      "36-45 Age Population standard deviation is 5022.923879204652\n"
     ]
    }
   ],
   "source": [
    "Age_df=df.loc[(df[\"Age\"]==\"36-45\"),\"Purchase\"]\n",
    "apm=Age_df.mean()\n",
    "asd=Age_df.std()\n",
    "print(\"36-45 Age Population average spend amount is {}\".format(apm))\n",
    "print(\"36-45 Age Population standard deviation is {}\".format(asd))"
   ]
  },
  {
   "cell_type": "code",
   "execution_count": 167,
   "metadata": {},
   "outputs": [
    {
     "name": "stdout",
     "output_type": "stream",
     "text": [
      "36-45 age people average spending mean is 9331.757302000002 \n",
      "36-45 age people average spending standard deviation is 38.35157797616893 \n"
     ]
    }
   ],
   "source": [
    "# Age group wise Spending sample average to find out an interval within which the population average will lie.\n",
    "\n",
    "num_samples = 15000\n",
    "num_repititions = 10000\n",
    "collect_age_sample_means = []\n",
    "for rep in range(num_repititions):\n",
    "    sample_mean = Age_df.sample(num_samples).mean()\n",
    "    collect_age_sample_means.append(sample_mean)\n",
    "    \n",
    "age_final_mean=np.mean(collect_age_sample_means)    \n",
    "\n",
    "print(\"36-45 age people average spending mean is {} \".format(age_final_mean))\n",
    "print(\"36-45 age people average spending standard deviation is {} \".format(np.std(collect_age_sample_means)))"
   ]
  },
  {
   "cell_type": "code",
   "execution_count": 168,
   "metadata": {},
   "outputs": [
    {
     "name": "stdout",
     "output_type": "stream",
     "text": [
      "90%  Confidence interval:  (9264.497619152457, 9399.016984847547)\n",
      "95%  Confidence interval:  (9251.373778596837, 9412.140825403167)\n",
      "99%  Confidence interval:  (9226.35645753769, 9437.158146462314)\n"
     ]
    }
   ],
   "source": [
    "#  the z-critical value\n",
    "z_critical=[1.64,1.96,2.57]\n",
    "conf_perc=[\"90%\",\"95%\",\"99%\"]\n",
    "confidence_interval=[]\n",
    "for i in range(0,3):\n",
    "    margin_of_error = z_critical[i] * (asd/np.sqrt(num_samples))\n",
    "\n",
    "    confidence_interval.append ((age_final_mean - margin_of_error,\n",
    "                       age_final_mean + margin_of_error)  )\n",
    "\n",
    "    print(conf_perc[i],\" Confidence interval: \", confidence_interval[i])"
   ]
  },
  {
   "cell_type": "code",
   "execution_count": 169,
   "metadata": {},
   "outputs": [
    {
     "data": {
      "image/png": "[encoded data removed]",
      "text/plain": [
       "<Figure size 432x288 with 1 Axes>"
      ]
     },
     "metadata": {
      "needs_background": "light"
     },
     "output_type": "display_data"
    },
    {
     "data": {
      "image/png": "[encoded data removed]",
      "text/plain": [
       "<Figure size 432x288 with 1 Axes>"
      ]
     },
     "metadata": {
      "needs_background": "light"
     },
     "output_type": "display_data"
    },
    {
     "data": {
      "image/png": "[encoded data removed]",
      "text/plain": [
       "<Figure size 432x288 with 1 Axes>"
      ]
     },
     "metadata": {
      "needs_background": "light"
     },
     "output_type": "display_data"
    }
   ],
   "source": [
    "plt.hist(collect_age_sample_means,bins=100)\n",
    "plt.axvline(x=confidence_interval[0][0], c=\"r\")\n",
    "plt.axvline(x=confidence_interval[0][1], c=\"r\")\n",
    "plt.title(\"90% Confidence Interval for 36-45 Age group average purchase\")\n",
    "plt.show()\n",
    "\n",
    "plt.hist(collect_age_sample_means,bins=100)\n",
    "plt.axvline(x=confidence_interval[1][0], c=\"r\")\n",
    "plt.axvline(x=confidence_interval[1][1], c=\"r\")\n",
    "plt.title(\"95% Confidence Interval for 36-45 Age group average purchase\")\n",
    "plt.show()\n",
    "\n",
    "plt.hist(collect_age_sample_means,bins=100)\n",
    "plt.axvline(x=confidence_interval[2][0], c=\"r\")\n",
    "plt.axvline(x=confidence_interval[2][1], c=\"r\")\n",
    "plt.title(\"99% Confidence Interval for 36-45 Age group average purchase\")\n",
    "plt.show()"
   ]
  },
  {
   "cell_type": "markdown",
   "metadata": {},
   "source": [
    "### (18-25) Age Group Purchase Interval"
   ]
  },
  {
   "cell_type": "code",
   "execution_count": 170,
   "metadata": {},
   "outputs": [
    {
     "name": "stdout",
     "output_type": "stream",
     "text": [
      "18-25 Age Population average spend amount is 9169.663606261289\n",
      "18-25 Age Population standard deviation is 5034.321997176577\n"
     ]
    }
   ],
   "source": [
    "Age_df=df.loc[(df[\"Age\"]==\"18-25\"),\"Purchase\"]\n",
    "apm=Age_df.mean()\n",
    "asd=Age_df.std()\n",
    "print(\"18-25 Age Population average spend amount is {}\".format(apm))\n",
    "print(\"18-25 Age Population standard deviation is {}\".format(asd))"
   ]
  },
  {
   "cell_type": "code",
   "execution_count": 171,
   "metadata": {},
   "outputs": [
    {
     "name": "stdout",
     "output_type": "stream",
     "text": [
      "18-25 age people average spending mean is 9169.91077366 \n",
      "18-25 age people average spending standard deviation is 38.00528197425262 \n"
     ]
    }
   ],
   "source": [
    "# Age group Spending sample average to find out an interval within which the population average will lie.\n",
    "\n",
    "num_samples = 15000\n",
    "num_repititions = 10000\n",
    "collect_age_sample_means = []\n",
    "for rep in range(num_repititions):\n",
    "    sample_mean = Age_df.sample(num_samples).mean()\n",
    "    collect_age_sample_means.append(sample_mean)\n",
    "    \n",
    "age_final_mean=np.mean(collect_age_sample_means)    \n",
    "\n",
    "print(\"18-25 age people average spending mean is {} \".format(age_final_mean))\n",
    "print(\"18-25 age people average spending standard deviation is {} \".format(np.std(collect_age_sample_means)))"
   ]
  },
  {
   "cell_type": "code",
   "execution_count": 172,
   "metadata": {},
   "outputs": [
    {
     "name": "stdout",
     "output_type": "stream",
     "text": [
      "90%  Confidence interval:  (9102.498463813065, 9237.323083506935)\n",
      "95%  Confidence interval:  (9089.344842379514, 9250.476704940485)\n",
      "99%  Confidence interval:  (9064.270751521814, 9275.550795798186)\n"
     ]
    }
   ],
   "source": [
    "#  the z-critical value\n",
    "z_critical=[1.64,1.96,2.57]\n",
    "conf_perc=[\"90%\",\"95%\",\"99%\"]\n",
    "confidence_interval=[]\n",
    "for i in range(0,3):\n",
    "    margin_of_error = z_critical[i] * (asd/np.sqrt(num_samples))\n",
    "\n",
    "    confidence_interval.append ((age_final_mean - margin_of_error,\n",
    "                       age_final_mean + margin_of_error)  )\n",
    "\n",
    "    print(conf_perc[i],\" Confidence interval: \", confidence_interval[i])"
   ]
  },
  {
   "cell_type": "code",
   "execution_count": 173,
   "metadata": {},
   "outputs": [
    {
     "data": {
      "image/png": "[encoded data removed]",
      "text/plain": [
       "<Figure size 432x288 with 1 Axes>"
      ]
     },
     "metadata": {
      "needs_background": "light"
     },
     "output_type": "display_data"
    },
    {
     "data": {
      "image/png": "[encoded data removed]",
      "text/plain": [
       "<Figure size 432x288 with 1 Axes>"
      ]
     },
     "metadata": {
      "needs_background": "light"
     },
     "output_type": "display_data"
    },
    {
     "data": {
      "image/png": "[encoded data removed]",
      "text/plain": [
       "<Figure size 432x288 with 1 Axes>"
      ]
     },
     "metadata": {
      "needs_background": "light"
     },
     "output_type": "display_data"
    }
   ],
   "source": [
    "plt.hist(collect_age_sample_means,bins=100)\n",
    "plt.axvline(x=confidence_interval[0][0], c=\"r\")\n",
    "plt.axvline(x=confidence_interval[0][1], c=\"r\")\n",
    "plt.title(\"90% Confidence Interval for 18-25 Age group average purchase\")\n",
    "plt.show()\n",
    "\n",
    "plt.hist(collect_age_sample_means,bins=100)\n",
    "plt.axvline(x=confidence_interval[1][0], c=\"r\")\n",
    "plt.axvline(x=confidence_interval[1][1], c=\"r\")\n",
    "plt.title(\"95% Confidence Interval for 18-25 Age group average purchase\")\n",
    "plt.show()\n",
    "\n",
    "plt.hist(collect_age_sample_means,bins=100)\n",
    "plt.axvline(x=confidence_interval[2][0], c=\"r\")\n",
    "plt.axvline(x=confidence_interval[2][1], c=\"r\")\n",
    "plt.title(\"99% Confidence Interval for 18-25 Age group average purchase\")\n",
    "plt.show()"
   ]
  },
  {
   "cell_type": "markdown",
   "metadata": {},
   "source": [
    "### Answering questions\n",
    "#### age group spending more money per transaction? \n",
    "\n",
    "Age group wise money per transaction average is calculated above and written below-\n",
    "\n",
    "\n",
    "    26-35 age people average spending mean is 9252.15397848 \n",
    "    26-35 age people average spending standard deviation is 39.166152177381804  \n",
    "\n",
    "    36-45 age people average spending mean is 9331.757302000002 \n",
    "    36-45 age people average spending standard deviation is 38.35157797616893 \n",
    "    \n",
    "    18-25 age people average spending mean is 9169.91077366 \n",
    "    18-25 age people average spending standard deviation is 38.00528197425262\n",
    "\n",
    "\n",
    "\n",
    "#### Are confidence intervals of average of different age group spending overlapping? How can Walmart leverage this conclusion to make changes or improvements? \n",
    "\n",
    "There is overlapping in the confidence intervals of average of different age groups. All age groups purchase amount doesnt have much difference so lie in same bucket. Focus on everyone"
   ]
  },
  {
   "cell_type": "markdown",
   "metadata": {},
   "source": [
    "#### Confidence intervals and distribution of the mean of the expenses by different age group customers."
   ]
  },
  {
   "cell_type": "raw",
   "metadata": {},
   "source": [
    "26-35 customers confidence Interval-\n",
    "90%  Confidence interval:  (9184.894295632455, 9319.413661327546)\n",
    "95%  Confidence interval:  (9171.770455076836, 9332.537501883166)\n",
    "99%  Confidence interval:  (9146.753134017688, 9357.554822942313)\n",
    "    \n",
    "36-45 customers confidence Interval-\n",
    "90%  Confidence interval:  (9264.497619152457, 9399.016984847547)\n",
    "95%  Confidence interval:  (9251.373778596837, 9412.140825403167)\n",
    "99%  Confidence interval:  (9226.35645753769, 9437.158146462314)\n",
    "    \n",
    "18-25 customers confidence Interval-\n",
    "90%  Confidence interval:  (9102.498463813065, 9237.323083506935)\n",
    "95%  Confidence interval:  (9089.344842379514, 9250.476704940485)\n",
    "99%  Confidence interval:  (9064.270751521814, 9275.550795798186)"
   ]
  },
  {
   "cell_type": "code",
   "execution_count": 174,
   "metadata": {},
   "outputs": [
    {
     "data": {
      "text/html": [
       "<div>\n",
       "<style scoped>\n",
       "    .dataframe tbody tr th:only-of-type {\n",
       "        vertical-align: middle;\n",
       "    }\n",
       "\n",
       "    .dataframe tbody tr th {\n",
       "        vertical-align: top;\n",
       "    }\n",
       "\n",
       "    .dataframe thead th {\n",
       "        text-align: right;\n",
       "    }\n",
       "</style>\n",
       "<table border=\"1\" class=\"dataframe\">\n",
       "  <thead>\n",
       "    <tr style=\"text-align: right;\">\n",
       "      <th></th>\n",
       "      <th>User_ID</th>\n",
       "      <th>Product_ID</th>\n",
       "      <th>Gender</th>\n",
       "      <th>Age</th>\n",
       "      <th>Occupation</th>\n",
       "      <th>City_Category</th>\n",
       "      <th>Stay_In_Current_City_Years</th>\n",
       "      <th>Marital_Status</th>\n",
       "      <th>Product_Category</th>\n",
       "      <th>Purchase</th>\n",
       "    </tr>\n",
       "  </thead>\n",
       "  <tbody>\n",
       "    <tr>\n",
       "      <th>0</th>\n",
       "      <td>1000001</td>\n",
       "      <td>P00069042</td>\n",
       "      <td>F</td>\n",
       "      <td>0-17</td>\n",
       "      <td>10</td>\n",
       "      <td>A</td>\n",
       "      <td>2</td>\n",
       "      <td>Unmarried</td>\n",
       "      <td>3</td>\n",
       "      <td>8370</td>\n",
       "    </tr>\n",
       "    <tr>\n",
       "      <th>1</th>\n",
       "      <td>1000001</td>\n",
       "      <td>P00248942</td>\n",
       "      <td>F</td>\n",
       "      <td>0-17</td>\n",
       "      <td>10</td>\n",
       "      <td>A</td>\n",
       "      <td>2</td>\n",
       "      <td>Unmarried</td>\n",
       "      <td>1</td>\n",
       "      <td>15200</td>\n",
       "    </tr>\n",
       "    <tr>\n",
       "      <th>2</th>\n",
       "      <td>1000001</td>\n",
       "      <td>P00087842</td>\n",
       "      <td>F</td>\n",
       "      <td>0-17</td>\n",
       "      <td>10</td>\n",
       "      <td>A</td>\n",
       "      <td>2</td>\n",
       "      <td>Unmarried</td>\n",
       "      <td>12</td>\n",
       "      <td>1422</td>\n",
       "    </tr>\n",
       "    <tr>\n",
       "      <th>3</th>\n",
       "      <td>1000001</td>\n",
       "      <td>P00085442</td>\n",
       "      <td>F</td>\n",
       "      <td>0-17</td>\n",
       "      <td>10</td>\n",
       "      <td>A</td>\n",
       "      <td>2</td>\n",
       "      <td>Unmarried</td>\n",
       "      <td>12</td>\n",
       "      <td>1057</td>\n",
       "    </tr>\n",
       "    <tr>\n",
       "      <th>4</th>\n",
       "      <td>1000002</td>\n",
       "      <td>P00285442</td>\n",
       "      <td>M</td>\n",
       "      <td>55+</td>\n",
       "      <td>16</td>\n",
       "      <td>C</td>\n",
       "      <td>4+</td>\n",
       "      <td>Unmarried</td>\n",
       "      <td>8</td>\n",
       "      <td>7969</td>\n",
       "    </tr>\n",
       "  </tbody>\n",
       "</table>\n",
       "</div>"
      ],
      "text/plain": [
       "   User_ID Product_ID Gender   Age  Occupation City_Category  \\\n",
       "0  1000001  P00069042      F  0-17          10             A   \n",
       "1  1000001  P00248942      F  0-17          10             A   \n",
       "2  1000001  P00087842      F  0-17          10             A   \n",
       "3  1000001  P00085442      F  0-17          10             A   \n",
       "4  1000002  P00285442      M   55+          16             C   \n",
       "\n",
       "  Stay_In_Current_City_Years Marital_Status  Product_Category  Purchase  \n",
       "0                          2      Unmarried                 3      8370  \n",
       "1                          2      Unmarried                 1     15200  \n",
       "2                          2      Unmarried                12      1422  \n",
       "3                          2      Unmarried                12      1057  \n",
       "4                         4+      Unmarried                 8      7969  "
      ]
     },
     "execution_count": 174,
     "metadata": {},
     "output_type": "execute_result"
    }
   ],
   "source": [
    "df.head()"
   ]
  },
  {
   "cell_type": "markdown",
   "metadata": {},
   "source": [
    "## Business Insights"
   ]
  },
  {
   "cell_type": "markdown",
   "metadata": {},
   "source": [
    "1. Median of purchase amounts is 8047, Max is 23961 and min is 12.\n",
    "2. 26-35 age group is on top and 7 unique age.\n",
    "3. city_category B is on top and 3 types of categories data available.\n",
    "4. 1 year stay in current city people are on top.\n",
    "5. Males ratio(3/4) is much higher as compare to female(1/4).\n",
    "6. (26-35) Age group is frequent user of walmart then 36-45 and so on.\n",
    "7. People having occupation 4,0,and 7 are top three frequent walmart user\n",
    "8. B city category is most common user of Walmart.\n",
    "9. people stay in the current city for 1 year are frequent to walmart.\n",
    "10. 0 martial status people are more frequent to walmart.\n",
    "11. Out of 21 Product category, 5,1 and 8 are most taken ones.\n",
    "12. Purchase amount greater than 21000- 22000 are seems to be outliers\n",
    "13. Out of total purchase, male purchase far more number of times than female.\n",
    "14. Out of top 10 Product Category, 5,1 and 8 are most purchased ones.\n",
    "15. In all given Age categories, 26-35 age group people are more frequent to walmart\n",
    "16. People having Occupation 4,0,7 are more frequent to Walmart.\n",
    "17. People stay in current city for 1 year are more frequent to walmart and after then sudden decrease.\n",
    "18. B category of city is more frequent to walmart.\n",
    "19. Male average spend is more than Female.\n",
    "20. 36-45 age people average spending mean is 9331.757302000002 greater than other age groups\n",
    "21. Unmarried are spending more money per transaction than married but there is no big difference between the two.\n",
    "22. Males are more purchasing product 5,1,8 and Females are purchasing 5, 8, 1 but less than males.\n",
    "23. Age group 26-35 are buying more 5,1,8 and 5 by 36-45 and 18-25 also.\n",
    "24. People staying for 1,2 years are purchasing more 5,1,8.\n",
    "25. C is buying more 1 category,B is focusing more on 5,1,8.,A is focusing more on 5,1.\n",
    "26. People having occupation 4,0,7 are more common buyers of 5,1,8.\n",
    "27. Confidence intervals and distribution of the mean of the expenses by different age group customers.\n",
    "    26-35 customers confidence Interval-\n",
    "    90%  Confidence interval:  (9184.894295632455, 9319.413661327546)\n",
    "    95%  Confidence interval:  (9171.770455076836, 9332.537501883166)\n",
    "    99%  Confidence interval:  (9146.753134017688, 9357.554822942313)\n",
    "\n",
    "    36-45 customers confidence Interval-\n",
    "    90%  Confidence interval:  (9264.497619152457, 9399.016984847547)\n",
    "    95%  Confidence interval:  (9251.373778596837, 9412.140825403167)\n",
    "    99%  Confidence interval:  (9226.35645753769, 9437.158146462314)\n",
    "\n",
    "    18-25 customers confidence Interval-\n",
    "    90%  Confidence interval:  (9102.498463813065, 9237.323083506935)\n",
    "    95%  Confidence interval:  (9089.344842379514, 9250.476704940485)\n",
    "    99%  Confidence interval:  (9064.270751521814, 9275.550795798186)\n",
    "28. Confidence intervals and distribution of the mean of the expenses by female and male customers.\n",
    "    Male customers confidence Interval-\n",
    "    90%  Confidence interval:  (9369.227062179263, 9505.601183834071)\n",
    "    95%  Confidence interval:  (9355.922269822697, 9518.905976190637)\n",
    "    99%  Confidence interval:  (9330.560009392992, 9544.268236620343)\n",
    "\n",
    "    Female customers confidence Interval-\n",
    "    90%  Confidence interval:  (8671.38387295624, 8799.055096457092)\n",
    "    95%  Confidence interval:  (8658.928143834206, 8811.510825579126)\n",
    "    99%  Confidence interval:  (8635.184410195328, 8835.254559218003)\n",
    "29. Confidence intervals and distribution of the mean of the expenses by married and unmarried customers.\n",
    "    Married customers confidence Interval-\n",
    "    90%  Confidence interval:  (9195.040002417667, 9329.397971849)\n",
    "    95%  Confidence interval:  (9181.931907839, 9342.506066427668)\n",
    "    99%  Confidence interval:  (9156.944602548416, 9367.493371718252)\n",
    "\n",
    "    Unmarried customers confidence Interval-\n",
    "    90%  Confidence interval:  (9198.417906167697, 9333.055750845635)\n",
    "    95%  Confidence interval:  (9185.282506686923, 9346.19115032641)\n",
    "    99%  Confidence interval:  (9160.243151426695, 9371.230505586636)"
   ]
  },
  {
   "cell_type": "markdown",
   "metadata": {},
   "source": [
    "## Recommendations"
   ]
  },
  {
   "cell_type": "markdown",
   "metadata": {},
   "source": [
    "1. Recommend to target Male customers(Purchase amount Confidence Interval is (9355.922269822697, 9518.905976190637)) as there average spend is more than female based on Purchase amount Confidence Interval (8658.928143834206, 8811.510825579126)) will give more business and to make business from female give some discounts or offers occassionally.\n",
    "\n",
    "2. Target city category B who are staying in current city for about 1-2 years will give more profit, give them offers as they might be in home setup mode.\n",
    "\n",
    "3. 5,1 and 8 are mostly purchased by males, so give offers on these products for more sale and females purchased 5 and 8 more so advertise them more accordingly.Out of 21 product category, only 4-5 categories are most bought ones, so target other categories also or give some product in combos under that.\n",
    "\n",
    "4. Target Occupation 4,0,7 for products 1,5 and 8 having age group of 26-35. For others give combos or offers to increase sale.\n",
    "\n",
    "5. Unmarried people are more frequent to walmart although there is no as such difference in the average spend of married and unmarried ans same with different age group, there confidence interval of average spent is overlapping so target everyone."
   ]
  }
 ],
 "metadata": {
  "kernelspec": {
   "display_name": "Python 3",
   "language": "python",
   "name": "python3"
  },
  "language_info": {
   "codemirror_mode": {
    "name": "ipython",
    "version": 3
   },
   "file_extension": ".py",
   "mimetype": "text/x-python",
   "name": "python",
   "nbconvert_exporter": "python",
   "pygments_lexer": "ipython3",
   "version": "3.7.1"
  }
 },
 "nbformat": 4,
 "nbformat_minor": 2
}
