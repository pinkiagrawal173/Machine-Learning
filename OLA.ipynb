{
 "cells": [
  {
   "cell_type": "code",
   "execution_count": 1,
   "metadata": {},
   "outputs": [
    {
     "ename": "ModuleNotFoundError",
     "evalue": "No module named 'imblearn'",
     "output_type": "error",
     "traceback": [
      "\u001b[1;31m---------------------------------------------------------------------------\u001b[0m",
      "\u001b[1;31mModuleNotFoundError\u001b[0m                       Traceback (most recent call last)",
      "\u001b[1;32m<ipython-input-1-1588401a5e36>\u001b[0m in \u001b[0;36m<module>\u001b[1;34m\u001b[0m\n\u001b[0;32m     19\u001b[0m \u001b[1;32mfrom\u001b[0m \u001b[0msklearn\u001b[0m\u001b[1;33m.\u001b[0m\u001b[0mlinear_model\u001b[0m \u001b[1;32mimport\u001b[0m \u001b[0mLogisticRegression\u001b[0m\u001b[1;33m\u001b[0m\u001b[1;33m\u001b[0m\u001b[0m\n\u001b[0;32m     20\u001b[0m \u001b[1;32mfrom\u001b[0m \u001b[0msklearn\u001b[0m\u001b[1;33m.\u001b[0m\u001b[0mimpute\u001b[0m \u001b[1;32mimport\u001b[0m \u001b[0mKNNImputer\u001b[0m\u001b[1;33m\u001b[0m\u001b[1;33m\u001b[0m\u001b[0m\n\u001b[1;32m---> 21\u001b[1;33m \u001b[1;32mfrom\u001b[0m \u001b[0mimblearn\u001b[0m\u001b[1;33m.\u001b[0m\u001b[0mover_sampling\u001b[0m \u001b[1;32mimport\u001b[0m \u001b[0mSMOTE\u001b[0m\u001b[1;33m\u001b[0m\u001b[1;33m\u001b[0m\u001b[0m\n\u001b[0m\u001b[0;32m     22\u001b[0m \u001b[1;32mfrom\u001b[0m \u001b[0msklearn\u001b[0m\u001b[1;33m.\u001b[0m\u001b[0mensemble\u001b[0m \u001b[1;32mimport\u001b[0m \u001b[0mRandomForestClassifier\u001b[0m \u001b[1;32mas\u001b[0m \u001b[0mRFC\u001b[0m\u001b[1;33m\u001b[0m\u001b[1;33m\u001b[0m\u001b[0m\n\u001b[0;32m     23\u001b[0m \u001b[1;32mfrom\u001b[0m \u001b[0msklearn\u001b[0m\u001b[1;33m.\u001b[0m\u001b[0mmodel_selection\u001b[0m \u001b[1;32mimport\u001b[0m \u001b[0mRandomizedSearchCV\u001b[0m\u001b[1;33m\u001b[0m\u001b[1;33m\u001b[0m\u001b[0m\n",
      "\u001b[1;31mModuleNotFoundError\u001b[0m: No module named 'imblearn'"
     ]
    }
   ],
   "source": [
    "import pandas as pd\n",
    "import numpy as np\n",
    "import matplotlib.pyplot as plt\n",
    "import seaborn as sns\n",
    "import scipy.stats as stats\n",
    "import warnings\n",
    "import statsmodels.api as sm\n",
    "from sklearn.linear_model import LinearRegression\n",
    "from sklearn.linear_model import Ridge\n",
    "from sklearn.linear_model import Lasso\n",
    "from sklearn.model_selection import train_test_split\n",
    "from sklearn.preprocessing import minmax_scale\n",
    "from sklearn.preprocessing import StandardScaler\n",
    "from sklearn.metrics import r2_score,accuracy_score,classification_report,precision_recall_curve,roc_auc_score,roc_curve,precision_recall_curve\n",
    "from sklearn import metrics\n",
    "from statsmodels.stats.outliers_influence import variance_inflation_factor\n",
    "from sklearn.model_selection import GridSearchCV\n",
    "from category_encoders import TargetEncoder\n",
    "from sklearn.linear_model import LogisticRegression\n",
    "from sklearn.impute import KNNImputer\n",
    "from imblearn.over_sampling import SMOTE \n",
    "from sklearn.ensemble import RandomForestClassifier as RFC\n",
    "from sklearn.model_selection import RandomizedSearchCV\n",
    "from sklearn.ensemble import GradientBoostingClassifier as GBC\n",
    "from sklearn.tree import DecisionTreeClassifier as DTC"
   ]
  },
  {
   "cell_type": "raw",
   "metadata": {},
   "source": [
    "Import Dataset"
   ]
  },
  {
   "cell_type": "code",
   "execution_count": 2,
   "metadata": {},
   "outputs": [],
   "source": [
    "df = pd.read_csv('ola_driver_scaler.csv')"
   ]
  },
  {
   "cell_type": "code",
   "execution_count": 3,
   "metadata": {},
   "outputs": [
    {
     "data": {
      "text/html": [
       "<div>\n",
       "<style scoped>\n",
       "    .dataframe tbody tr th:only-of-type {\n",
       "        vertical-align: middle;\n",
       "    }\n",
       "\n",
       "    .dataframe tbody tr th {\n",
       "        vertical-align: top;\n",
       "    }\n",
       "\n",
       "    .dataframe thead th {\n",
       "        text-align: right;\n",
       "    }\n",
       "</style>\n",
       "<table border=\"1\" class=\"dataframe\">\n",
       "  <thead>\n",
       "    <tr style=\"text-align: right;\">\n",
       "      <th></th>\n",
       "      <th>Unnamed: 0</th>\n",
       "      <th>MMM-YY</th>\n",
       "      <th>Driver_ID</th>\n",
       "      <th>Age</th>\n",
       "      <th>Gender</th>\n",
       "      <th>City</th>\n",
       "      <th>Education_Level</th>\n",
       "      <th>Income</th>\n",
       "      <th>Dateofjoining</th>\n",
       "      <th>LastWorkingDate</th>\n",
       "      <th>Joining Designation</th>\n",
       "      <th>Grade</th>\n",
       "      <th>Total Business Value</th>\n",
       "      <th>Quarterly Rating</th>\n",
       "    </tr>\n",
       "  </thead>\n",
       "  <tbody>\n",
       "    <tr>\n",
       "      <th>0</th>\n",
       "      <td>0</td>\n",
       "      <td>01/01/19</td>\n",
       "      <td>1</td>\n",
       "      <td>28.0</td>\n",
       "      <td>0.0</td>\n",
       "      <td>C23</td>\n",
       "      <td>2</td>\n",
       "      <td>57387</td>\n",
       "      <td>24/12/18</td>\n",
       "      <td>NaN</td>\n",
       "      <td>1</td>\n",
       "      <td>1</td>\n",
       "      <td>2381060</td>\n",
       "      <td>2</td>\n",
       "    </tr>\n",
       "    <tr>\n",
       "      <th>1</th>\n",
       "      <td>1</td>\n",
       "      <td>02/01/19</td>\n",
       "      <td>1</td>\n",
       "      <td>28.0</td>\n",
       "      <td>0.0</td>\n",
       "      <td>C23</td>\n",
       "      <td>2</td>\n",
       "      <td>57387</td>\n",
       "      <td>24/12/18</td>\n",
       "      <td>NaN</td>\n",
       "      <td>1</td>\n",
       "      <td>1</td>\n",
       "      <td>-665480</td>\n",
       "      <td>2</td>\n",
       "    </tr>\n",
       "    <tr>\n",
       "      <th>2</th>\n",
       "      <td>2</td>\n",
       "      <td>03/01/19</td>\n",
       "      <td>1</td>\n",
       "      <td>28.0</td>\n",
       "      <td>0.0</td>\n",
       "      <td>C23</td>\n",
       "      <td>2</td>\n",
       "      <td>57387</td>\n",
       "      <td>24/12/18</td>\n",
       "      <td>03/11/19</td>\n",
       "      <td>1</td>\n",
       "      <td>1</td>\n",
       "      <td>0</td>\n",
       "      <td>2</td>\n",
       "    </tr>\n",
       "    <tr>\n",
       "      <th>3</th>\n",
       "      <td>3</td>\n",
       "      <td>11/01/20</td>\n",
       "      <td>2</td>\n",
       "      <td>31.0</td>\n",
       "      <td>0.0</td>\n",
       "      <td>C7</td>\n",
       "      <td>2</td>\n",
       "      <td>67016</td>\n",
       "      <td>11/06/20</td>\n",
       "      <td>NaN</td>\n",
       "      <td>2</td>\n",
       "      <td>2</td>\n",
       "      <td>0</td>\n",
       "      <td>1</td>\n",
       "    </tr>\n",
       "    <tr>\n",
       "      <th>4</th>\n",
       "      <td>4</td>\n",
       "      <td>12/01/20</td>\n",
       "      <td>2</td>\n",
       "      <td>31.0</td>\n",
       "      <td>0.0</td>\n",
       "      <td>C7</td>\n",
       "      <td>2</td>\n",
       "      <td>67016</td>\n",
       "      <td>11/06/20</td>\n",
       "      <td>NaN</td>\n",
       "      <td>2</td>\n",
       "      <td>2</td>\n",
       "      <td>0</td>\n",
       "      <td>1</td>\n",
       "    </tr>\n",
       "  </tbody>\n",
       "</table>\n",
       "</div>"
      ],
      "text/plain": [
       "   Unnamed: 0    MMM-YY  Driver_ID   Age  Gender City  Education_Level  \\\n",
       "0           0  01/01/19          1  28.0     0.0  C23                2   \n",
       "1           1  02/01/19          1  28.0     0.0  C23                2   \n",
       "2           2  03/01/19          1  28.0     0.0  C23                2   \n",
       "3           3  11/01/20          2  31.0     0.0   C7                2   \n",
       "4           4  12/01/20          2  31.0     0.0   C7                2   \n",
       "\n",
       "   Income Dateofjoining LastWorkingDate  Joining Designation  Grade  \\\n",
       "0   57387      24/12/18             NaN                    1      1   \n",
       "1   57387      24/12/18             NaN                    1      1   \n",
       "2   57387      24/12/18        03/11/19                    1      1   \n",
       "3   67016      11/06/20             NaN                    2      2   \n",
       "4   67016      11/06/20             NaN                    2      2   \n",
       "\n",
       "   Total Business Value  Quarterly Rating  \n",
       "0               2381060                 2  \n",
       "1               -665480                 2  \n",
       "2                     0                 2  \n",
       "3                     0                 1  \n",
       "4                     0                 1  "
      ]
     },
     "execution_count": 3,
     "metadata": {},
     "output_type": "execute_result"
    }
   ],
   "source": [
    "df.head()"
   ]
  },
  {
   "cell_type": "code",
   "execution_count": 4,
   "metadata": {},
   "outputs": [
    {
     "name": "stdout",
     "output_type": "stream",
     "text": [
      "<class 'pandas.core.frame.DataFrame'>\n",
      "RangeIndex: 19104 entries, 0 to 19103\n",
      "Data columns (total 14 columns):\n",
      " #   Column                Non-Null Count  Dtype  \n",
      "---  ------                --------------  -----  \n",
      " 0   Unnamed: 0            19104 non-null  int64  \n",
      " 1   MMM-YY                19104 non-null  object \n",
      " 2   Driver_ID             19104 non-null  int64  \n",
      " 3   Age                   19043 non-null  float64\n",
      " 4   Gender                19052 non-null  float64\n",
      " 5   City                  19104 non-null  object \n",
      " 6   Education_Level       19104 non-null  int64  \n",
      " 7   Income                19104 non-null  int64  \n",
      " 8   Dateofjoining         19104 non-null  object \n",
      " 9   LastWorkingDate       1616 non-null   object \n",
      " 10  Joining Designation   19104 non-null  int64  \n",
      " 11  Grade                 19104 non-null  int64  \n",
      " 12  Total Business Value  19104 non-null  int64  \n",
      " 13  Quarterly Rating      19104 non-null  int64  \n",
      "dtypes: float64(2), int64(8), object(4)\n",
      "memory usage: 2.0+ MB\n"
     ]
    }
   ],
   "source": [
    "df.info()"
   ]
  },
  {
   "cell_type": "code",
   "execution_count": 5,
   "metadata": {
    "scrolled": true
   },
   "outputs": [
    {
     "data": {
      "text/html": [
       "<div>\n",
       "<style scoped>\n",
       "    .dataframe tbody tr th:only-of-type {\n",
       "        vertical-align: middle;\n",
       "    }\n",
       "\n",
       "    .dataframe tbody tr th {\n",
       "        vertical-align: top;\n",
       "    }\n",
       "\n",
       "    .dataframe thead th {\n",
       "        text-align: right;\n",
       "    }\n",
       "</style>\n",
       "<table border=\"1\" class=\"dataframe\">\n",
       "  <thead>\n",
       "    <tr style=\"text-align: right;\">\n",
       "      <th></th>\n",
       "      <th>count</th>\n",
       "      <th>mean</th>\n",
       "      <th>std</th>\n",
       "      <th>min</th>\n",
       "      <th>25%</th>\n",
       "      <th>50%</th>\n",
       "      <th>75%</th>\n",
       "      <th>max</th>\n",
       "    </tr>\n",
       "  </thead>\n",
       "  <tbody>\n",
       "    <tr>\n",
       "      <th>Unnamed: 0</th>\n",
       "      <td>19104.0</td>\n",
       "      <td>9551.500000</td>\n",
       "      <td>5.514994e+03</td>\n",
       "      <td>0.0</td>\n",
       "      <td>4775.75</td>\n",
       "      <td>9551.5</td>\n",
       "      <td>14327.25</td>\n",
       "      <td>19103.0</td>\n",
       "    </tr>\n",
       "    <tr>\n",
       "      <th>Driver_ID</th>\n",
       "      <td>19104.0</td>\n",
       "      <td>1415.591133</td>\n",
       "      <td>8.107053e+02</td>\n",
       "      <td>1.0</td>\n",
       "      <td>710.00</td>\n",
       "      <td>1417.0</td>\n",
       "      <td>2137.00</td>\n",
       "      <td>2788.0</td>\n",
       "    </tr>\n",
       "    <tr>\n",
       "      <th>Age</th>\n",
       "      <td>19043.0</td>\n",
       "      <td>34.668435</td>\n",
       "      <td>6.257912e+00</td>\n",
       "      <td>21.0</td>\n",
       "      <td>30.00</td>\n",
       "      <td>34.0</td>\n",
       "      <td>39.00</td>\n",
       "      <td>58.0</td>\n",
       "    </tr>\n",
       "    <tr>\n",
       "      <th>Gender</th>\n",
       "      <td>19052.0</td>\n",
       "      <td>0.418749</td>\n",
       "      <td>4.933670e-01</td>\n",
       "      <td>0.0</td>\n",
       "      <td>0.00</td>\n",
       "      <td>0.0</td>\n",
       "      <td>1.00</td>\n",
       "      <td>1.0</td>\n",
       "    </tr>\n",
       "    <tr>\n",
       "      <th>Education_Level</th>\n",
       "      <td>19104.0</td>\n",
       "      <td>1.021671</td>\n",
       "      <td>8.001671e-01</td>\n",
       "      <td>0.0</td>\n",
       "      <td>0.00</td>\n",
       "      <td>1.0</td>\n",
       "      <td>2.00</td>\n",
       "      <td>2.0</td>\n",
       "    </tr>\n",
       "    <tr>\n",
       "      <th>Income</th>\n",
       "      <td>19104.0</td>\n",
       "      <td>65652.025126</td>\n",
       "      <td>3.091452e+04</td>\n",
       "      <td>10747.0</td>\n",
       "      <td>42383.00</td>\n",
       "      <td>60087.0</td>\n",
       "      <td>83969.00</td>\n",
       "      <td>188418.0</td>\n",
       "    </tr>\n",
       "    <tr>\n",
       "      <th>Joining Designation</th>\n",
       "      <td>19104.0</td>\n",
       "      <td>1.690536</td>\n",
       "      <td>8.369837e-01</td>\n",
       "      <td>1.0</td>\n",
       "      <td>1.00</td>\n",
       "      <td>1.0</td>\n",
       "      <td>2.00</td>\n",
       "      <td>5.0</td>\n",
       "    </tr>\n",
       "    <tr>\n",
       "      <th>Grade</th>\n",
       "      <td>19104.0</td>\n",
       "      <td>2.252670</td>\n",
       "      <td>1.026512e+00</td>\n",
       "      <td>1.0</td>\n",
       "      <td>1.00</td>\n",
       "      <td>2.0</td>\n",
       "      <td>3.00</td>\n",
       "      <td>5.0</td>\n",
       "    </tr>\n",
       "    <tr>\n",
       "      <th>Total Business Value</th>\n",
       "      <td>19104.0</td>\n",
       "      <td>571662.074958</td>\n",
       "      <td>1.128312e+06</td>\n",
       "      <td>-6000000.0</td>\n",
       "      <td>0.00</td>\n",
       "      <td>250000.0</td>\n",
       "      <td>699700.00</td>\n",
       "      <td>33747720.0</td>\n",
       "    </tr>\n",
       "    <tr>\n",
       "      <th>Quarterly Rating</th>\n",
       "      <td>19104.0</td>\n",
       "      <td>2.008899</td>\n",
       "      <td>1.009832e+00</td>\n",
       "      <td>1.0</td>\n",
       "      <td>1.00</td>\n",
       "      <td>2.0</td>\n",
       "      <td>3.00</td>\n",
       "      <td>4.0</td>\n",
       "    </tr>\n",
       "  </tbody>\n",
       "</table>\n",
       "</div>"
      ],
      "text/plain": [
       "                        count           mean           std        min  \\\n",
       "Unnamed: 0            19104.0    9551.500000  5.514994e+03        0.0   \n",
       "Driver_ID             19104.0    1415.591133  8.107053e+02        1.0   \n",
       "Age                   19043.0      34.668435  6.257912e+00       21.0   \n",
       "Gender                19052.0       0.418749  4.933670e-01        0.0   \n",
       "Education_Level       19104.0       1.021671  8.001671e-01        0.0   \n",
       "Income                19104.0   65652.025126  3.091452e+04    10747.0   \n",
       "Joining Designation   19104.0       1.690536  8.369837e-01        1.0   \n",
       "Grade                 19104.0       2.252670  1.026512e+00        1.0   \n",
       "Total Business Value  19104.0  571662.074958  1.128312e+06 -6000000.0   \n",
       "Quarterly Rating      19104.0       2.008899  1.009832e+00        1.0   \n",
       "\n",
       "                           25%       50%        75%         max  \n",
       "Unnamed: 0             4775.75    9551.5   14327.25     19103.0  \n",
       "Driver_ID               710.00    1417.0    2137.00      2788.0  \n",
       "Age                      30.00      34.0      39.00        58.0  \n",
       "Gender                    0.00       0.0       1.00         1.0  \n",
       "Education_Level           0.00       1.0       2.00         2.0  \n",
       "Income                42383.00   60087.0   83969.00    188418.0  \n",
       "Joining Designation       1.00       1.0       2.00         5.0  \n",
       "Grade                     1.00       2.0       3.00         5.0  \n",
       "Total Business Value      0.00  250000.0  699700.00  33747720.0  \n",
       "Quarterly Rating          1.00       2.0       3.00         4.0  "
      ]
     },
     "execution_count": 5,
     "metadata": {},
     "output_type": "execute_result"
    }
   ],
   "source": [
    "df.describe().T"
   ]
  },
  {
   "cell_type": "raw",
   "metadata": {},
   "source": [
    "Unique values in each feaure"
   ]
  },
  {
   "cell_type": "code",
   "execution_count": 6,
   "metadata": {},
   "outputs": [
    {
     "name": "stdout",
     "output_type": "stream",
     "text": [
      "Unnamed: 0 19104\n",
      "MMM-YY 24\n",
      "Driver_ID 2381\n",
      "Age 36\n",
      "Gender 2\n",
      "City 29\n",
      "Education_Level 3\n",
      "Income 2383\n",
      "Dateofjoining 869\n",
      "LastWorkingDate 493\n",
      "Joining Designation 5\n",
      "Grade 5\n",
      "Total Business Value 10181\n",
      "Quarterly Rating 4\n"
     ]
    }
   ],
   "source": [
    "for i in df.columns:\n",
    "    print(i,df[i].nunique())"
   ]
  },
  {
   "cell_type": "raw",
   "metadata": {},
   "source": [
    "dropping useless feature"
   ]
  },
  {
   "cell_type": "code",
   "execution_count": 7,
   "metadata": {},
   "outputs": [],
   "source": [
    "df.drop(['Unnamed: 0'],axis = 1, inplace = True)"
   ]
  },
  {
   "cell_type": "code",
   "execution_count": 8,
   "metadata": {
    "scrolled": false
   },
   "outputs": [
    {
     "data": {
      "text/html": [
       "<div>\n",
       "<style scoped>\n",
       "    .dataframe tbody tr th:only-of-type {\n",
       "        vertical-align: middle;\n",
       "    }\n",
       "\n",
       "    .dataframe tbody tr th {\n",
       "        vertical-align: top;\n",
       "    }\n",
       "\n",
       "    .dataframe thead th {\n",
       "        text-align: right;\n",
       "    }\n",
       "</style>\n",
       "<table border=\"1\" class=\"dataframe\">\n",
       "  <thead>\n",
       "    <tr style=\"text-align: right;\">\n",
       "      <th></th>\n",
       "      <th>MMM-YY</th>\n",
       "      <th>Driver_ID</th>\n",
       "      <th>Age</th>\n",
       "      <th>Gender</th>\n",
       "      <th>City</th>\n",
       "      <th>Education_Level</th>\n",
       "      <th>Income</th>\n",
       "      <th>Dateofjoining</th>\n",
       "      <th>LastWorkingDate</th>\n",
       "      <th>Joining Designation</th>\n",
       "      <th>Grade</th>\n",
       "      <th>Total Business Value</th>\n",
       "      <th>Quarterly Rating</th>\n",
       "    </tr>\n",
       "  </thead>\n",
       "  <tbody>\n",
       "    <tr>\n",
       "      <th>0</th>\n",
       "      <td>01/01/19</td>\n",
       "      <td>1</td>\n",
       "      <td>28.0</td>\n",
       "      <td>0.0</td>\n",
       "      <td>C23</td>\n",
       "      <td>2</td>\n",
       "      <td>57387</td>\n",
       "      <td>24/12/18</td>\n",
       "      <td>NaN</td>\n",
       "      <td>1</td>\n",
       "      <td>1</td>\n",
       "      <td>2381060</td>\n",
       "      <td>2</td>\n",
       "    </tr>\n",
       "    <tr>\n",
       "      <th>1</th>\n",
       "      <td>02/01/19</td>\n",
       "      <td>1</td>\n",
       "      <td>28.0</td>\n",
       "      <td>0.0</td>\n",
       "      <td>C23</td>\n",
       "      <td>2</td>\n",
       "      <td>57387</td>\n",
       "      <td>24/12/18</td>\n",
       "      <td>NaN</td>\n",
       "      <td>1</td>\n",
       "      <td>1</td>\n",
       "      <td>-665480</td>\n",
       "      <td>2</td>\n",
       "    </tr>\n",
       "    <tr>\n",
       "      <th>2</th>\n",
       "      <td>03/01/19</td>\n",
       "      <td>1</td>\n",
       "      <td>28.0</td>\n",
       "      <td>0.0</td>\n",
       "      <td>C23</td>\n",
       "      <td>2</td>\n",
       "      <td>57387</td>\n",
       "      <td>24/12/18</td>\n",
       "      <td>03/11/19</td>\n",
       "      <td>1</td>\n",
       "      <td>1</td>\n",
       "      <td>0</td>\n",
       "      <td>2</td>\n",
       "    </tr>\n",
       "    <tr>\n",
       "      <th>3</th>\n",
       "      <td>11/01/20</td>\n",
       "      <td>2</td>\n",
       "      <td>31.0</td>\n",
       "      <td>0.0</td>\n",
       "      <td>C7</td>\n",
       "      <td>2</td>\n",
       "      <td>67016</td>\n",
       "      <td>11/06/20</td>\n",
       "      <td>NaN</td>\n",
       "      <td>2</td>\n",
       "      <td>2</td>\n",
       "      <td>0</td>\n",
       "      <td>1</td>\n",
       "    </tr>\n",
       "    <tr>\n",
       "      <th>4</th>\n",
       "      <td>12/01/20</td>\n",
       "      <td>2</td>\n",
       "      <td>31.0</td>\n",
       "      <td>0.0</td>\n",
       "      <td>C7</td>\n",
       "      <td>2</td>\n",
       "      <td>67016</td>\n",
       "      <td>11/06/20</td>\n",
       "      <td>NaN</td>\n",
       "      <td>2</td>\n",
       "      <td>2</td>\n",
       "      <td>0</td>\n",
       "      <td>1</td>\n",
       "    </tr>\n",
       "    <tr>\n",
       "      <th>5</th>\n",
       "      <td>12/01/19</td>\n",
       "      <td>4</td>\n",
       "      <td>43.0</td>\n",
       "      <td>0.0</td>\n",
       "      <td>C13</td>\n",
       "      <td>2</td>\n",
       "      <td>65603</td>\n",
       "      <td>12/07/19</td>\n",
       "      <td>NaN</td>\n",
       "      <td>2</td>\n",
       "      <td>2</td>\n",
       "      <td>0</td>\n",
       "      <td>1</td>\n",
       "    </tr>\n",
       "    <tr>\n",
       "      <th>6</th>\n",
       "      <td>01/01/20</td>\n",
       "      <td>4</td>\n",
       "      <td>43.0</td>\n",
       "      <td>0.0</td>\n",
       "      <td>C13</td>\n",
       "      <td>2</td>\n",
       "      <td>65603</td>\n",
       "      <td>12/07/19</td>\n",
       "      <td>NaN</td>\n",
       "      <td>2</td>\n",
       "      <td>2</td>\n",
       "      <td>0</td>\n",
       "      <td>1</td>\n",
       "    </tr>\n",
       "    <tr>\n",
       "      <th>7</th>\n",
       "      <td>02/01/20</td>\n",
       "      <td>4</td>\n",
       "      <td>43.0</td>\n",
       "      <td>0.0</td>\n",
       "      <td>C13</td>\n",
       "      <td>2</td>\n",
       "      <td>65603</td>\n",
       "      <td>12/07/19</td>\n",
       "      <td>NaN</td>\n",
       "      <td>2</td>\n",
       "      <td>2</td>\n",
       "      <td>0</td>\n",
       "      <td>1</td>\n",
       "    </tr>\n",
       "    <tr>\n",
       "      <th>8</th>\n",
       "      <td>03/01/20</td>\n",
       "      <td>4</td>\n",
       "      <td>43.0</td>\n",
       "      <td>0.0</td>\n",
       "      <td>C13</td>\n",
       "      <td>2</td>\n",
       "      <td>65603</td>\n",
       "      <td>12/07/19</td>\n",
       "      <td>NaN</td>\n",
       "      <td>2</td>\n",
       "      <td>2</td>\n",
       "      <td>350000</td>\n",
       "      <td>1</td>\n",
       "    </tr>\n",
       "    <tr>\n",
       "      <th>9</th>\n",
       "      <td>04/01/20</td>\n",
       "      <td>4</td>\n",
       "      <td>43.0</td>\n",
       "      <td>0.0</td>\n",
       "      <td>C13</td>\n",
       "      <td>2</td>\n",
       "      <td>65603</td>\n",
       "      <td>12/07/19</td>\n",
       "      <td>27/04/20</td>\n",
       "      <td>2</td>\n",
       "      <td>2</td>\n",
       "      <td>0</td>\n",
       "      <td>1</td>\n",
       "    </tr>\n",
       "  </tbody>\n",
       "</table>\n",
       "</div>"
      ],
      "text/plain": [
       "     MMM-YY  Driver_ID   Age  Gender City  Education_Level  Income  \\\n",
       "0  01/01/19          1  28.0     0.0  C23                2   57387   \n",
       "1  02/01/19          1  28.0     0.0  C23                2   57387   \n",
       "2  03/01/19          1  28.0     0.0  C23                2   57387   \n",
       "3  11/01/20          2  31.0     0.0   C7                2   67016   \n",
       "4  12/01/20          2  31.0     0.0   C7                2   67016   \n",
       "5  12/01/19          4  43.0     0.0  C13                2   65603   \n",
       "6  01/01/20          4  43.0     0.0  C13                2   65603   \n",
       "7  02/01/20          4  43.0     0.0  C13                2   65603   \n",
       "8  03/01/20          4  43.0     0.0  C13                2   65603   \n",
       "9  04/01/20          4  43.0     0.0  C13                2   65603   \n",
       "\n",
       "  Dateofjoining LastWorkingDate  Joining Designation  Grade  \\\n",
       "0      24/12/18             NaN                    1      1   \n",
       "1      24/12/18             NaN                    1      1   \n",
       "2      24/12/18        03/11/19                    1      1   \n",
       "3      11/06/20             NaN                    2      2   \n",
       "4      11/06/20             NaN                    2      2   \n",
       "5      12/07/19             NaN                    2      2   \n",
       "6      12/07/19             NaN                    2      2   \n",
       "7      12/07/19             NaN                    2      2   \n",
       "8      12/07/19             NaN                    2      2   \n",
       "9      12/07/19        27/04/20                    2      2   \n",
       "\n",
       "   Total Business Value  Quarterly Rating  \n",
       "0               2381060                 2  \n",
       "1               -665480                 2  \n",
       "2                     0                 2  \n",
       "3                     0                 1  \n",
       "4                     0                 1  \n",
       "5                     0                 1  \n",
       "6                     0                 1  \n",
       "7                     0                 1  \n",
       "8                350000                 1  \n",
       "9                     0                 1  "
      ]
     },
     "execution_count": 8,
     "metadata": {},
     "output_type": "execute_result"
    }
   ],
   "source": [
    "df.head(10)"
   ]
  },
  {
   "cell_type": "raw",
   "metadata": {},
   "source": [
    "Interpreting the target feature"
   ]
  },
  {
   "cell_type": "code",
   "execution_count": 9,
   "metadata": {},
   "outputs": [],
   "source": [
    "df['churn'] = df['LastWorkingDate'].fillna(0)"
   ]
  },
  {
   "cell_type": "code",
   "execution_count": 10,
   "metadata": {},
   "outputs": [],
   "source": [
    "df['churn'] =[1 if x != 0 else x for x in df['churn']]"
   ]
  },
  {
   "cell_type": "code",
   "execution_count": 11,
   "metadata": {
    "scrolled": true
   },
   "outputs": [
    {
     "data": {
      "text/html": [
       "<div>\n",
       "<style scoped>\n",
       "    .dataframe tbody tr th:only-of-type {\n",
       "        vertical-align: middle;\n",
       "    }\n",
       "\n",
       "    .dataframe tbody tr th {\n",
       "        vertical-align: top;\n",
       "    }\n",
       "\n",
       "    .dataframe thead th {\n",
       "        text-align: right;\n",
       "    }\n",
       "</style>\n",
       "<table border=\"1\" class=\"dataframe\">\n",
       "  <thead>\n",
       "    <tr style=\"text-align: right;\">\n",
       "      <th></th>\n",
       "      <th>MMM-YY</th>\n",
       "      <th>Driver_ID</th>\n",
       "      <th>Age</th>\n",
       "      <th>Gender</th>\n",
       "      <th>City</th>\n",
       "      <th>Education_Level</th>\n",
       "      <th>Income</th>\n",
       "      <th>Dateofjoining</th>\n",
       "      <th>LastWorkingDate</th>\n",
       "      <th>Joining Designation</th>\n",
       "      <th>Grade</th>\n",
       "      <th>Total Business Value</th>\n",
       "      <th>Quarterly Rating</th>\n",
       "      <th>churn</th>\n",
       "    </tr>\n",
       "  </thead>\n",
       "  <tbody>\n",
       "    <tr>\n",
       "      <th>0</th>\n",
       "      <td>01/01/19</td>\n",
       "      <td>1</td>\n",
       "      <td>28.0</td>\n",
       "      <td>0.0</td>\n",
       "      <td>C23</td>\n",
       "      <td>2</td>\n",
       "      <td>57387</td>\n",
       "      <td>24/12/18</td>\n",
       "      <td>NaN</td>\n",
       "      <td>1</td>\n",
       "      <td>1</td>\n",
       "      <td>2381060</td>\n",
       "      <td>2</td>\n",
       "      <td>0</td>\n",
       "    </tr>\n",
       "    <tr>\n",
       "      <th>1</th>\n",
       "      <td>02/01/19</td>\n",
       "      <td>1</td>\n",
       "      <td>28.0</td>\n",
       "      <td>0.0</td>\n",
       "      <td>C23</td>\n",
       "      <td>2</td>\n",
       "      <td>57387</td>\n",
       "      <td>24/12/18</td>\n",
       "      <td>NaN</td>\n",
       "      <td>1</td>\n",
       "      <td>1</td>\n",
       "      <td>-665480</td>\n",
       "      <td>2</td>\n",
       "      <td>0</td>\n",
       "    </tr>\n",
       "    <tr>\n",
       "      <th>2</th>\n",
       "      <td>03/01/19</td>\n",
       "      <td>1</td>\n",
       "      <td>28.0</td>\n",
       "      <td>0.0</td>\n",
       "      <td>C23</td>\n",
       "      <td>2</td>\n",
       "      <td>57387</td>\n",
       "      <td>24/12/18</td>\n",
       "      <td>03/11/19</td>\n",
       "      <td>1</td>\n",
       "      <td>1</td>\n",
       "      <td>0</td>\n",
       "      <td>2</td>\n",
       "      <td>1</td>\n",
       "    </tr>\n",
       "    <tr>\n",
       "      <th>3</th>\n",
       "      <td>11/01/20</td>\n",
       "      <td>2</td>\n",
       "      <td>31.0</td>\n",
       "      <td>0.0</td>\n",
       "      <td>C7</td>\n",
       "      <td>2</td>\n",
       "      <td>67016</td>\n",
       "      <td>11/06/20</td>\n",
       "      <td>NaN</td>\n",
       "      <td>2</td>\n",
       "      <td>2</td>\n",
       "      <td>0</td>\n",
       "      <td>1</td>\n",
       "      <td>0</td>\n",
       "    </tr>\n",
       "    <tr>\n",
       "      <th>4</th>\n",
       "      <td>12/01/20</td>\n",
       "      <td>2</td>\n",
       "      <td>31.0</td>\n",
       "      <td>0.0</td>\n",
       "      <td>C7</td>\n",
       "      <td>2</td>\n",
       "      <td>67016</td>\n",
       "      <td>11/06/20</td>\n",
       "      <td>NaN</td>\n",
       "      <td>2</td>\n",
       "      <td>2</td>\n",
       "      <td>0</td>\n",
       "      <td>1</td>\n",
       "      <td>0</td>\n",
       "    </tr>\n",
       "  </tbody>\n",
       "</table>\n",
       "</div>"
      ],
      "text/plain": [
       "     MMM-YY  Driver_ID   Age  Gender City  Education_Level  Income  \\\n",
       "0  01/01/19          1  28.0     0.0  C23                2   57387   \n",
       "1  02/01/19          1  28.0     0.0  C23                2   57387   \n",
       "2  03/01/19          1  28.0     0.0  C23                2   57387   \n",
       "3  11/01/20          2  31.0     0.0   C7                2   67016   \n",
       "4  12/01/20          2  31.0     0.0   C7                2   67016   \n",
       "\n",
       "  Dateofjoining LastWorkingDate  Joining Designation  Grade  \\\n",
       "0      24/12/18             NaN                    1      1   \n",
       "1      24/12/18             NaN                    1      1   \n",
       "2      24/12/18        03/11/19                    1      1   \n",
       "3      11/06/20             NaN                    2      2   \n",
       "4      11/06/20             NaN                    2      2   \n",
       "\n",
       "   Total Business Value  Quarterly Rating  churn  \n",
       "0               2381060                 2      0  \n",
       "1               -665480                 2      0  \n",
       "2                     0                 2      1  \n",
       "3                     0                 1      0  \n",
       "4                     0                 1      0  "
      ]
     },
     "execution_count": 11,
     "metadata": {},
     "output_type": "execute_result"
    }
   ],
   "source": [
    "df.head()"
   ]
  },
  {
   "cell_type": "raw",
   "metadata": {},
   "source": [
    "Categorical columns"
   ]
  },
  {
   "cell_type": "code",
   "execution_count": 12,
   "metadata": {},
   "outputs": [],
   "source": [
    "cat_col =[]\n",
    "con_col =[]\n",
    "for i in df.columns:\n",
    "    if df[i].nunique() < 40:\n",
    "        cat_col.append(i)\n",
    "    else:\n",
    "        con_col.append(i)"
   ]
  },
  {
   "cell_type": "code",
   "execution_count": 13,
   "metadata": {},
   "outputs": [
    {
     "data": {
      "text/plain": [
       "['MMM-YY',\n",
       " 'Age',\n",
       " 'Gender',\n",
       " 'City',\n",
       " 'Education_Level',\n",
       " 'Joining Designation',\n",
       " 'Grade',\n",
       " 'Quarterly Rating',\n",
       " 'churn']"
      ]
     },
     "execution_count": 13,
     "metadata": {},
     "output_type": "execute_result"
    }
   ],
   "source": [
    "cat_col"
   ]
  },
  {
   "cell_type": "code",
   "execution_count": 14,
   "metadata": {},
   "outputs": [
    {
     "name": "stdout",
     "output_type": "stream",
     "text": [
      "MMM-YY 24\n",
      "Driver_ID 2381\n",
      "Age 36\n",
      "Gender 2\n",
      "City 29\n",
      "Education_Level 3\n",
      "Income 2383\n",
      "Dateofjoining 869\n",
      "LastWorkingDate 493\n",
      "Joining Designation 5\n",
      "Grade 5\n",
      "Total Business Value 10181\n",
      "Quarterly Rating 4\n",
      "churn 2\n"
     ]
    }
   ],
   "source": [
    "for i in df.columns:\n",
    "    print(i,df[i].nunique())"
   ]
  },
  {
   "cell_type": "raw",
   "metadata": {},
   "source": [
    "Converting the datatypes"
   ]
  },
  {
   "cell_type": "code",
   "execution_count": 15,
   "metadata": {},
   "outputs": [],
   "source": [
    "df['MMM-YY']=df['MMM-YY'].astype('datetime64[ns]')"
   ]
  },
  {
   "cell_type": "code",
   "execution_count": 16,
   "metadata": {},
   "outputs": [],
   "source": [
    "df['Dateofjoining'] = df['Dateofjoining'].astype('datetime64[ns]')\n",
    "df['LastWorkingDate'] = df['LastWorkingDate'].astype('datetime64[ns]')"
   ]
  },
  {
   "cell_type": "code",
   "execution_count": 17,
   "metadata": {},
   "outputs": [
    {
     "data": {
      "text/plain": [
       "24"
      ]
     },
     "execution_count": 17,
     "metadata": {},
     "output_type": "execute_result"
    }
   ],
   "source": [
    "df['MMM-YY'].nunique()"
   ]
  },
  {
   "cell_type": "code",
   "execution_count": 18,
   "metadata": {},
   "outputs": [],
   "source": [
    "df['month'] = df['MMM-YY'].dt.month"
   ]
  },
  {
   "cell_type": "code",
   "execution_count": 19,
   "metadata": {},
   "outputs": [],
   "source": [
    "df['year'] = df['MMM-YY'].dt.year"
   ]
  },
  {
   "cell_type": "code",
   "execution_count": 20,
   "metadata": {},
   "outputs": [
    {
     "data": {
      "text/html": [
       "<div>\n",
       "<style scoped>\n",
       "    .dataframe tbody tr th:only-of-type {\n",
       "        vertical-align: middle;\n",
       "    }\n",
       "\n",
       "    .dataframe tbody tr th {\n",
       "        vertical-align: top;\n",
       "    }\n",
       "\n",
       "    .dataframe thead th {\n",
       "        text-align: right;\n",
       "    }\n",
       "</style>\n",
       "<table border=\"1\" class=\"dataframe\">\n",
       "  <thead>\n",
       "    <tr style=\"text-align: right;\">\n",
       "      <th></th>\n",
       "      <th>MMM-YY</th>\n",
       "      <th>Driver_ID</th>\n",
       "      <th>Age</th>\n",
       "      <th>Gender</th>\n",
       "      <th>City</th>\n",
       "      <th>Education_Level</th>\n",
       "      <th>Income</th>\n",
       "      <th>Dateofjoining</th>\n",
       "      <th>LastWorkingDate</th>\n",
       "      <th>Joining Designation</th>\n",
       "      <th>Grade</th>\n",
       "      <th>Total Business Value</th>\n",
       "      <th>Quarterly Rating</th>\n",
       "      <th>churn</th>\n",
       "      <th>month</th>\n",
       "      <th>year</th>\n",
       "    </tr>\n",
       "  </thead>\n",
       "  <tbody>\n",
       "    <tr>\n",
       "      <th>0</th>\n",
       "      <td>2019-01-01</td>\n",
       "      <td>1</td>\n",
       "      <td>28.0</td>\n",
       "      <td>0.0</td>\n",
       "      <td>C23</td>\n",
       "      <td>2</td>\n",
       "      <td>57387</td>\n",
       "      <td>2018-12-24</td>\n",
       "      <td>NaT</td>\n",
       "      <td>1</td>\n",
       "      <td>1</td>\n",
       "      <td>2381060</td>\n",
       "      <td>2</td>\n",
       "      <td>0</td>\n",
       "      <td>1</td>\n",
       "      <td>2019</td>\n",
       "    </tr>\n",
       "    <tr>\n",
       "      <th>1</th>\n",
       "      <td>2019-02-01</td>\n",
       "      <td>1</td>\n",
       "      <td>28.0</td>\n",
       "      <td>0.0</td>\n",
       "      <td>C23</td>\n",
       "      <td>2</td>\n",
       "      <td>57387</td>\n",
       "      <td>2018-12-24</td>\n",
       "      <td>NaT</td>\n",
       "      <td>1</td>\n",
       "      <td>1</td>\n",
       "      <td>-665480</td>\n",
       "      <td>2</td>\n",
       "      <td>0</td>\n",
       "      <td>2</td>\n",
       "      <td>2019</td>\n",
       "    </tr>\n",
       "    <tr>\n",
       "      <th>2</th>\n",
       "      <td>2019-03-01</td>\n",
       "      <td>1</td>\n",
       "      <td>28.0</td>\n",
       "      <td>0.0</td>\n",
       "      <td>C23</td>\n",
       "      <td>2</td>\n",
       "      <td>57387</td>\n",
       "      <td>2018-12-24</td>\n",
       "      <td>2019-03-11</td>\n",
       "      <td>1</td>\n",
       "      <td>1</td>\n",
       "      <td>0</td>\n",
       "      <td>2</td>\n",
       "      <td>1</td>\n",
       "      <td>3</td>\n",
       "      <td>2019</td>\n",
       "    </tr>\n",
       "    <tr>\n",
       "      <th>3</th>\n",
       "      <td>2020-11-01</td>\n",
       "      <td>2</td>\n",
       "      <td>31.0</td>\n",
       "      <td>0.0</td>\n",
       "      <td>C7</td>\n",
       "      <td>2</td>\n",
       "      <td>67016</td>\n",
       "      <td>2020-11-06</td>\n",
       "      <td>NaT</td>\n",
       "      <td>2</td>\n",
       "      <td>2</td>\n",
       "      <td>0</td>\n",
       "      <td>1</td>\n",
       "      <td>0</td>\n",
       "      <td>11</td>\n",
       "      <td>2020</td>\n",
       "    </tr>\n",
       "    <tr>\n",
       "      <th>4</th>\n",
       "      <td>2020-12-01</td>\n",
       "      <td>2</td>\n",
       "      <td>31.0</td>\n",
       "      <td>0.0</td>\n",
       "      <td>C7</td>\n",
       "      <td>2</td>\n",
       "      <td>67016</td>\n",
       "      <td>2020-11-06</td>\n",
       "      <td>NaT</td>\n",
       "      <td>2</td>\n",
       "      <td>2</td>\n",
       "      <td>0</td>\n",
       "      <td>1</td>\n",
       "      <td>0</td>\n",
       "      <td>12</td>\n",
       "      <td>2020</td>\n",
       "    </tr>\n",
       "  </tbody>\n",
       "</table>\n",
       "</div>"
      ],
      "text/plain": [
       "      MMM-YY  Driver_ID   Age  Gender City  Education_Level  Income  \\\n",
       "0 2019-01-01          1  28.0     0.0  C23                2   57387   \n",
       "1 2019-02-01          1  28.0     0.0  C23                2   57387   \n",
       "2 2019-03-01          1  28.0     0.0  C23                2   57387   \n",
       "3 2020-11-01          2  31.0     0.0   C7                2   67016   \n",
       "4 2020-12-01          2  31.0     0.0   C7                2   67016   \n",
       "\n",
       "  Dateofjoining LastWorkingDate  Joining Designation  Grade  \\\n",
       "0    2018-12-24             NaT                    1      1   \n",
       "1    2018-12-24             NaT                    1      1   \n",
       "2    2018-12-24      2019-03-11                    1      1   \n",
       "3    2020-11-06             NaT                    2      2   \n",
       "4    2020-11-06             NaT                    2      2   \n",
       "\n",
       "   Total Business Value  Quarterly Rating  churn  month  year  \n",
       "0               2381060                 2      0      1  2019  \n",
       "1               -665480                 2      0      2  2019  \n",
       "2                     0                 2      1      3  2019  \n",
       "3                     0                 1      0     11  2020  \n",
       "4                     0                 1      0     12  2020  "
      ]
     },
     "execution_count": 20,
     "metadata": {},
     "output_type": "execute_result"
    }
   ],
   "source": [
    "df.head()"
   ]
  },
  {
   "cell_type": "raw",
   "metadata": {},
   "source": [
    "Imputation for missing values using target encoding"
   ]
  },
  {
   "cell_type": "code",
   "execution_count": 21,
   "metadata": {},
   "outputs": [
    {
     "name": "stderr",
     "output_type": "stream",
     "text": [
      "C:\\ProgramData\\Anaconda3\\lib\\site-packages\\category_encoders\\target_encoder.py:92: FutureWarning: Default parameter min_samples_leaf will change in version 2.6.See https://github.com/scikit-learn-contrib/category_encoders/issues/327\n",
      "  warnings.warn(\"Default parameter min_samples_leaf will change in version 2.6.\"\n",
      "C:\\ProgramData\\Anaconda3\\lib\\site-packages\\category_encoders\\target_encoder.py:97: FutureWarning: Default parameter smoothing will change in version 2.6.See https://github.com/scikit-learn-contrib/category_encoders/issues/327\n",
      "  warnings.warn(\"Default parameter smoothing will change in version 2.6.\"\n"
     ]
    }
   ],
   "source": [
    "te = TargetEncoder()"
   ]
  },
  {
   "cell_type": "code",
   "execution_count": 22,
   "metadata": {},
   "outputs": [],
   "source": [
    "te.fit(df['City'],df['churn'])\n",
    "df['City']=te.transform(df['City'])"
   ]
  },
  {
   "cell_type": "code",
   "execution_count": 23,
   "metadata": {},
   "outputs": [
    {
     "data": {
      "text/html": [
       "<div>\n",
       "<style scoped>\n",
       "    .dataframe tbody tr th:only-of-type {\n",
       "        vertical-align: middle;\n",
       "    }\n",
       "\n",
       "    .dataframe tbody tr th {\n",
       "        vertical-align: top;\n",
       "    }\n",
       "\n",
       "    .dataframe thead th {\n",
       "        text-align: right;\n",
       "    }\n",
       "</style>\n",
       "<table border=\"1\" class=\"dataframe\">\n",
       "  <thead>\n",
       "    <tr style=\"text-align: right;\">\n",
       "      <th></th>\n",
       "      <th>MMM-YY</th>\n",
       "      <th>Driver_ID</th>\n",
       "      <th>Age</th>\n",
       "      <th>Gender</th>\n",
       "      <th>City</th>\n",
       "      <th>Education_Level</th>\n",
       "      <th>Income</th>\n",
       "      <th>Dateofjoining</th>\n",
       "      <th>LastWorkingDate</th>\n",
       "      <th>Joining Designation</th>\n",
       "      <th>Grade</th>\n",
       "      <th>Total Business Value</th>\n",
       "      <th>Quarterly Rating</th>\n",
       "      <th>churn</th>\n",
       "      <th>month</th>\n",
       "      <th>year</th>\n",
       "    </tr>\n",
       "  </thead>\n",
       "  <tbody>\n",
       "    <tr>\n",
       "      <th>0</th>\n",
       "      <td>2019-01-01</td>\n",
       "      <td>1</td>\n",
       "      <td>28.0</td>\n",
       "      <td>0.0</td>\n",
       "      <td>0.105948</td>\n",
       "      <td>2</td>\n",
       "      <td>57387</td>\n",
       "      <td>2018-12-24</td>\n",
       "      <td>NaT</td>\n",
       "      <td>1</td>\n",
       "      <td>1</td>\n",
       "      <td>2381060</td>\n",
       "      <td>2</td>\n",
       "      <td>0</td>\n",
       "      <td>1</td>\n",
       "      <td>2019</td>\n",
       "    </tr>\n",
       "    <tr>\n",
       "      <th>1</th>\n",
       "      <td>2019-02-01</td>\n",
       "      <td>1</td>\n",
       "      <td>28.0</td>\n",
       "      <td>0.0</td>\n",
       "      <td>0.105948</td>\n",
       "      <td>2</td>\n",
       "      <td>57387</td>\n",
       "      <td>2018-12-24</td>\n",
       "      <td>NaT</td>\n",
       "      <td>1</td>\n",
       "      <td>1</td>\n",
       "      <td>-665480</td>\n",
       "      <td>2</td>\n",
       "      <td>0</td>\n",
       "      <td>2</td>\n",
       "      <td>2019</td>\n",
       "    </tr>\n",
       "    <tr>\n",
       "      <th>2</th>\n",
       "      <td>2019-03-01</td>\n",
       "      <td>1</td>\n",
       "      <td>28.0</td>\n",
       "      <td>0.0</td>\n",
       "      <td>0.105948</td>\n",
       "      <td>2</td>\n",
       "      <td>57387</td>\n",
       "      <td>2018-12-24</td>\n",
       "      <td>2019-03-11</td>\n",
       "      <td>1</td>\n",
       "      <td>1</td>\n",
       "      <td>0</td>\n",
       "      <td>2</td>\n",
       "      <td>1</td>\n",
       "      <td>3</td>\n",
       "      <td>2019</td>\n",
       "    </tr>\n",
       "    <tr>\n",
       "      <th>3</th>\n",
       "      <td>2020-11-01</td>\n",
       "      <td>2</td>\n",
       "      <td>31.0</td>\n",
       "      <td>0.0</td>\n",
       "      <td>0.085386</td>\n",
       "      <td>2</td>\n",
       "      <td>67016</td>\n",
       "      <td>2020-11-06</td>\n",
       "      <td>NaT</td>\n",
       "      <td>2</td>\n",
       "      <td>2</td>\n",
       "      <td>0</td>\n",
       "      <td>1</td>\n",
       "      <td>0</td>\n",
       "      <td>11</td>\n",
       "      <td>2020</td>\n",
       "    </tr>\n",
       "    <tr>\n",
       "      <th>4</th>\n",
       "      <td>2020-12-01</td>\n",
       "      <td>2</td>\n",
       "      <td>31.0</td>\n",
       "      <td>0.0</td>\n",
       "      <td>0.085386</td>\n",
       "      <td>2</td>\n",
       "      <td>67016</td>\n",
       "      <td>2020-11-06</td>\n",
       "      <td>NaT</td>\n",
       "      <td>2</td>\n",
       "      <td>2</td>\n",
       "      <td>0</td>\n",
       "      <td>1</td>\n",
       "      <td>0</td>\n",
       "      <td>12</td>\n",
       "      <td>2020</td>\n",
       "    </tr>\n",
       "  </tbody>\n",
       "</table>\n",
       "</div>"
      ],
      "text/plain": [
       "      MMM-YY  Driver_ID   Age  Gender      City  Education_Level  Income  \\\n",
       "0 2019-01-01          1  28.0     0.0  0.105948                2   57387   \n",
       "1 2019-02-01          1  28.0     0.0  0.105948                2   57387   \n",
       "2 2019-03-01          1  28.0     0.0  0.105948                2   57387   \n",
       "3 2020-11-01          2  31.0     0.0  0.085386                2   67016   \n",
       "4 2020-12-01          2  31.0     0.0  0.085386                2   67016   \n",
       "\n",
       "  Dateofjoining LastWorkingDate  Joining Designation  Grade  \\\n",
       "0    2018-12-24             NaT                    1      1   \n",
       "1    2018-12-24             NaT                    1      1   \n",
       "2    2018-12-24      2019-03-11                    1      1   \n",
       "3    2020-11-06             NaT                    2      2   \n",
       "4    2020-11-06             NaT                    2      2   \n",
       "\n",
       "   Total Business Value  Quarterly Rating  churn  month  year  \n",
       "0               2381060                 2      0      1  2019  \n",
       "1               -665480                 2      0      2  2019  \n",
       "2                     0                 2      1      3  2019  \n",
       "3                     0                 1      0     11  2020  \n",
       "4                     0                 1      0     12  2020  "
      ]
     },
     "execution_count": 23,
     "metadata": {},
     "output_type": "execute_result"
    }
   ],
   "source": [
    "df.head()"
   ]
  },
  {
   "cell_type": "code",
   "execution_count": 24,
   "metadata": {},
   "outputs": [],
   "source": [
    "# df.drop('MMM-YY',axis = 1,inplace = True)"
   ]
  },
  {
   "cell_type": "code",
   "execution_count": 25,
   "metadata": {},
   "outputs": [
    {
     "name": "stdout",
     "output_type": "stream",
     "text": [
      "<class 'pandas.core.frame.DataFrame'>\n",
      "RangeIndex: 19104 entries, 0 to 19103\n",
      "Data columns (total 16 columns):\n",
      " #   Column                Non-Null Count  Dtype         \n",
      "---  ------                --------------  -----         \n",
      " 0   MMM-YY                19104 non-null  datetime64[ns]\n",
      " 1   Driver_ID             19104 non-null  int64         \n",
      " 2   Age                   19043 non-null  float64       \n",
      " 3   Gender                19052 non-null  float64       \n",
      " 4   City                  19104 non-null  float64       \n",
      " 5   Education_Level       19104 non-null  int64         \n",
      " 6   Income                19104 non-null  int64         \n",
      " 7   Dateofjoining         19104 non-null  datetime64[ns]\n",
      " 8   LastWorkingDate       1616 non-null   datetime64[ns]\n",
      " 9   Joining Designation   19104 non-null  int64         \n",
      " 10  Grade                 19104 non-null  int64         \n",
      " 11  Total Business Value  19104 non-null  int64         \n",
      " 12  Quarterly Rating      19104 non-null  int64         \n",
      " 13  churn                 19104 non-null  int64         \n",
      " 14  month                 19104 non-null  int64         \n",
      " 15  year                  19104 non-null  int64         \n",
      "dtypes: datetime64[ns](3), float64(3), int64(10)\n",
      "memory usage: 2.3 MB\n"
     ]
    }
   ],
   "source": [
    "df.info()"
   ]
  },
  {
   "cell_type": "code",
   "execution_count": 26,
   "metadata": {},
   "outputs": [],
   "source": [
    "knnImputer = KNNImputer(n_neighbors=3)"
   ]
  },
  {
   "cell_type": "code",
   "execution_count": 27,
   "metadata": {},
   "outputs": [],
   "source": [
    "x=np.array(df['Age']).reshape(-1,1)"
   ]
  },
  {
   "cell_type": "code",
   "execution_count": 28,
   "metadata": {},
   "outputs": [],
   "source": [
    "x=knnImputer.fit_transform(x)"
   ]
  },
  {
   "cell_type": "code",
   "execution_count": 29,
   "metadata": {},
   "outputs": [
    {
     "data": {
      "text/plain": [
       "0    0\n",
       "dtype: int64"
      ]
     },
     "execution_count": 29,
     "metadata": {},
     "output_type": "execute_result"
    }
   ],
   "source": [
    "x=pd.DataFrame(x)\n",
    "x.isna().sum()"
   ]
  },
  {
   "cell_type": "code",
   "execution_count": 30,
   "metadata": {
    "scrolled": false
   },
   "outputs": [],
   "source": [
    "# df = df.drop('Age',inplace = True,axis =1)\n"
   ]
  },
  {
   "cell_type": "code",
   "execution_count": 31,
   "metadata": {},
   "outputs": [
    {
     "data": {
      "text/plain": [
       "pandas.core.frame.DataFrame"
      ]
     },
     "execution_count": 31,
     "metadata": {},
     "output_type": "execute_result"
    }
   ],
   "source": [
    "type(x)"
   ]
  },
  {
   "cell_type": "code",
   "execution_count": 32,
   "metadata": {},
   "outputs": [],
   "source": [
    "df['Age']=x[0]"
   ]
  },
  {
   "cell_type": "code",
   "execution_count": 33,
   "metadata": {},
   "outputs": [
    {
     "data": {
      "text/html": [
       "<div>\n",
       "<style scoped>\n",
       "    .dataframe tbody tr th:only-of-type {\n",
       "        vertical-align: middle;\n",
       "    }\n",
       "\n",
       "    .dataframe tbody tr th {\n",
       "        vertical-align: top;\n",
       "    }\n",
       "\n",
       "    .dataframe thead th {\n",
       "        text-align: right;\n",
       "    }\n",
       "</style>\n",
       "<table border=\"1\" class=\"dataframe\">\n",
       "  <thead>\n",
       "    <tr style=\"text-align: right;\">\n",
       "      <th></th>\n",
       "      <th>MMM-YY</th>\n",
       "      <th>Driver_ID</th>\n",
       "      <th>Age</th>\n",
       "      <th>Gender</th>\n",
       "      <th>City</th>\n",
       "      <th>Education_Level</th>\n",
       "      <th>Income</th>\n",
       "      <th>Dateofjoining</th>\n",
       "      <th>LastWorkingDate</th>\n",
       "      <th>Joining Designation</th>\n",
       "      <th>Grade</th>\n",
       "      <th>Total Business Value</th>\n",
       "      <th>Quarterly Rating</th>\n",
       "      <th>churn</th>\n",
       "      <th>month</th>\n",
       "      <th>year</th>\n",
       "    </tr>\n",
       "  </thead>\n",
       "  <tbody>\n",
       "    <tr>\n",
       "      <th>0</th>\n",
       "      <td>2019-01-01</td>\n",
       "      <td>1</td>\n",
       "      <td>28.0</td>\n",
       "      <td>0.0</td>\n",
       "      <td>0.105948</td>\n",
       "      <td>2</td>\n",
       "      <td>57387</td>\n",
       "      <td>2018-12-24</td>\n",
       "      <td>NaT</td>\n",
       "      <td>1</td>\n",
       "      <td>1</td>\n",
       "      <td>2381060</td>\n",
       "      <td>2</td>\n",
       "      <td>0</td>\n",
       "      <td>1</td>\n",
       "      <td>2019</td>\n",
       "    </tr>\n",
       "    <tr>\n",
       "      <th>1</th>\n",
       "      <td>2019-02-01</td>\n",
       "      <td>1</td>\n",
       "      <td>28.0</td>\n",
       "      <td>0.0</td>\n",
       "      <td>0.105948</td>\n",
       "      <td>2</td>\n",
       "      <td>57387</td>\n",
       "      <td>2018-12-24</td>\n",
       "      <td>NaT</td>\n",
       "      <td>1</td>\n",
       "      <td>1</td>\n",
       "      <td>-665480</td>\n",
       "      <td>2</td>\n",
       "      <td>0</td>\n",
       "      <td>2</td>\n",
       "      <td>2019</td>\n",
       "    </tr>\n",
       "    <tr>\n",
       "      <th>2</th>\n",
       "      <td>2019-03-01</td>\n",
       "      <td>1</td>\n",
       "      <td>28.0</td>\n",
       "      <td>0.0</td>\n",
       "      <td>0.105948</td>\n",
       "      <td>2</td>\n",
       "      <td>57387</td>\n",
       "      <td>2018-12-24</td>\n",
       "      <td>2019-03-11</td>\n",
       "      <td>1</td>\n",
       "      <td>1</td>\n",
       "      <td>0</td>\n",
       "      <td>2</td>\n",
       "      <td>1</td>\n",
       "      <td>3</td>\n",
       "      <td>2019</td>\n",
       "    </tr>\n",
       "    <tr>\n",
       "      <th>3</th>\n",
       "      <td>2020-11-01</td>\n",
       "      <td>2</td>\n",
       "      <td>31.0</td>\n",
       "      <td>0.0</td>\n",
       "      <td>0.085386</td>\n",
       "      <td>2</td>\n",
       "      <td>67016</td>\n",
       "      <td>2020-11-06</td>\n",
       "      <td>NaT</td>\n",
       "      <td>2</td>\n",
       "      <td>2</td>\n",
       "      <td>0</td>\n",
       "      <td>1</td>\n",
       "      <td>0</td>\n",
       "      <td>11</td>\n",
       "      <td>2020</td>\n",
       "    </tr>\n",
       "    <tr>\n",
       "      <th>4</th>\n",
       "      <td>2020-12-01</td>\n",
       "      <td>2</td>\n",
       "      <td>31.0</td>\n",
       "      <td>0.0</td>\n",
       "      <td>0.085386</td>\n",
       "      <td>2</td>\n",
       "      <td>67016</td>\n",
       "      <td>2020-11-06</td>\n",
       "      <td>NaT</td>\n",
       "      <td>2</td>\n",
       "      <td>2</td>\n",
       "      <td>0</td>\n",
       "      <td>1</td>\n",
       "      <td>0</td>\n",
       "      <td>12</td>\n",
       "      <td>2020</td>\n",
       "    </tr>\n",
       "    <tr>\n",
       "      <th>...</th>\n",
       "      <td>...</td>\n",
       "      <td>...</td>\n",
       "      <td>...</td>\n",
       "      <td>...</td>\n",
       "      <td>...</td>\n",
       "      <td>...</td>\n",
       "      <td>...</td>\n",
       "      <td>...</td>\n",
       "      <td>...</td>\n",
       "      <td>...</td>\n",
       "      <td>...</td>\n",
       "      <td>...</td>\n",
       "      <td>...</td>\n",
       "      <td>...</td>\n",
       "      <td>...</td>\n",
       "      <td>...</td>\n",
       "    </tr>\n",
       "    <tr>\n",
       "      <th>19099</th>\n",
       "      <td>2020-08-01</td>\n",
       "      <td>2788</td>\n",
       "      <td>30.0</td>\n",
       "      <td>0.0</td>\n",
       "      <td>0.076336</td>\n",
       "      <td>2</td>\n",
       "      <td>70254</td>\n",
       "      <td>2020-06-08</td>\n",
       "      <td>NaT</td>\n",
       "      <td>2</td>\n",
       "      <td>2</td>\n",
       "      <td>740280</td>\n",
       "      <td>3</td>\n",
       "      <td>0</td>\n",
       "      <td>8</td>\n",
       "      <td>2020</td>\n",
       "    </tr>\n",
       "    <tr>\n",
       "      <th>19100</th>\n",
       "      <td>2020-09-01</td>\n",
       "      <td>2788</td>\n",
       "      <td>30.0</td>\n",
       "      <td>0.0</td>\n",
       "      <td>0.076336</td>\n",
       "      <td>2</td>\n",
       "      <td>70254</td>\n",
       "      <td>2020-06-08</td>\n",
       "      <td>NaT</td>\n",
       "      <td>2</td>\n",
       "      <td>2</td>\n",
       "      <td>448370</td>\n",
       "      <td>3</td>\n",
       "      <td>0</td>\n",
       "      <td>9</td>\n",
       "      <td>2020</td>\n",
       "    </tr>\n",
       "    <tr>\n",
       "      <th>19101</th>\n",
       "      <td>2020-10-01</td>\n",
       "      <td>2788</td>\n",
       "      <td>30.0</td>\n",
       "      <td>0.0</td>\n",
       "      <td>0.076336</td>\n",
       "      <td>2</td>\n",
       "      <td>70254</td>\n",
       "      <td>2020-06-08</td>\n",
       "      <td>NaT</td>\n",
       "      <td>2</td>\n",
       "      <td>2</td>\n",
       "      <td>0</td>\n",
       "      <td>2</td>\n",
       "      <td>0</td>\n",
       "      <td>10</td>\n",
       "      <td>2020</td>\n",
       "    </tr>\n",
       "    <tr>\n",
       "      <th>19102</th>\n",
       "      <td>2020-11-01</td>\n",
       "      <td>2788</td>\n",
       "      <td>30.0</td>\n",
       "      <td>0.0</td>\n",
       "      <td>0.076336</td>\n",
       "      <td>2</td>\n",
       "      <td>70254</td>\n",
       "      <td>2020-06-08</td>\n",
       "      <td>NaT</td>\n",
       "      <td>2</td>\n",
       "      <td>2</td>\n",
       "      <td>200420</td>\n",
       "      <td>2</td>\n",
       "      <td>0</td>\n",
       "      <td>11</td>\n",
       "      <td>2020</td>\n",
       "    </tr>\n",
       "    <tr>\n",
       "      <th>19103</th>\n",
       "      <td>2020-12-01</td>\n",
       "      <td>2788</td>\n",
       "      <td>30.0</td>\n",
       "      <td>0.0</td>\n",
       "      <td>0.076336</td>\n",
       "      <td>2</td>\n",
       "      <td>70254</td>\n",
       "      <td>2020-06-08</td>\n",
       "      <td>NaT</td>\n",
       "      <td>2</td>\n",
       "      <td>2</td>\n",
       "      <td>411480</td>\n",
       "      <td>2</td>\n",
       "      <td>0</td>\n",
       "      <td>12</td>\n",
       "      <td>2020</td>\n",
       "    </tr>\n",
       "  </tbody>\n",
       "</table>\n",
       "<p>19104 rows × 16 columns</p>\n",
       "</div>"
      ],
      "text/plain": [
       "          MMM-YY  Driver_ID   Age  Gender      City  Education_Level  Income  \\\n",
       "0     2019-01-01          1  28.0     0.0  0.105948                2   57387   \n",
       "1     2019-02-01          1  28.0     0.0  0.105948                2   57387   \n",
       "2     2019-03-01          1  28.0     0.0  0.105948                2   57387   \n",
       "3     2020-11-01          2  31.0     0.0  0.085386                2   67016   \n",
       "4     2020-12-01          2  31.0     0.0  0.085386                2   67016   \n",
       "...          ...        ...   ...     ...       ...              ...     ...   \n",
       "19099 2020-08-01       2788  30.0     0.0  0.076336                2   70254   \n",
       "19100 2020-09-01       2788  30.0     0.0  0.076336                2   70254   \n",
       "19101 2020-10-01       2788  30.0     0.0  0.076336                2   70254   \n",
       "19102 2020-11-01       2788  30.0     0.0  0.076336                2   70254   \n",
       "19103 2020-12-01       2788  30.0     0.0  0.076336                2   70254   \n",
       "\n",
       "      Dateofjoining LastWorkingDate  Joining Designation  Grade  \\\n",
       "0        2018-12-24             NaT                    1      1   \n",
       "1        2018-12-24             NaT                    1      1   \n",
       "2        2018-12-24      2019-03-11                    1      1   \n",
       "3        2020-11-06             NaT                    2      2   \n",
       "4        2020-11-06             NaT                    2      2   \n",
       "...             ...             ...                  ...    ...   \n",
       "19099    2020-06-08             NaT                    2      2   \n",
       "19100    2020-06-08             NaT                    2      2   \n",
       "19101    2020-06-08             NaT                    2      2   \n",
       "19102    2020-06-08             NaT                    2      2   \n",
       "19103    2020-06-08             NaT                    2      2   \n",
       "\n",
       "       Total Business Value  Quarterly Rating  churn  month  year  \n",
       "0                   2381060                 2      0      1  2019  \n",
       "1                   -665480                 2      0      2  2019  \n",
       "2                         0                 2      1      3  2019  \n",
       "3                         0                 1      0     11  2020  \n",
       "4                         0                 1      0     12  2020  \n",
       "...                     ...               ...    ...    ...   ...  \n",
       "19099                740280                 3      0      8  2020  \n",
       "19100                448370                 3      0      9  2020  \n",
       "19101                     0                 2      0     10  2020  \n",
       "19102                200420                 2      0     11  2020  \n",
       "19103                411480                 2      0     12  2020  \n",
       "\n",
       "[19104 rows x 16 columns]"
      ]
     },
     "execution_count": 33,
     "metadata": {},
     "output_type": "execute_result"
    }
   ],
   "source": [
    "df"
   ]
  },
  {
   "cell_type": "raw",
   "metadata": {},
   "source": [
    "Checking for null values"
   ]
  },
  {
   "cell_type": "code",
   "execution_count": 34,
   "metadata": {},
   "outputs": [
    {
     "data": {
      "text/plain": [
       "MMM-YY                   0.00\n",
       "Driver_ID                0.00\n",
       "Age                      0.00\n",
       "Gender                   0.27\n",
       "City                     0.00\n",
       "Education_Level          0.00\n",
       "Income                   0.00\n",
       "Dateofjoining            0.00\n",
       "LastWorkingDate         91.54\n",
       "Joining Designation      0.00\n",
       "Grade                    0.00\n",
       "Total Business Value     0.00\n",
       "Quarterly Rating         0.00\n",
       "churn                    0.00\n",
       "month                    0.00\n",
       "year                     0.00\n",
       "dtype: float64"
      ]
     },
     "execution_count": 34,
     "metadata": {},
     "output_type": "execute_result"
    }
   ],
   "source": [
    "np.round(df.isna().sum()/len(df)*100,2)"
   ]
  },
  {
   "cell_type": "code",
   "execution_count": 35,
   "metadata": {},
   "outputs": [
    {
     "data": {
      "text/plain": [
       "(19104, 16)"
      ]
     },
     "execution_count": 35,
     "metadata": {},
     "output_type": "execute_result"
    }
   ],
   "source": [
    "df.shape"
   ]
  },
  {
   "cell_type": "raw",
   "metadata": {},
   "source": [
    "dropping missing values for gender"
   ]
  },
  {
   "cell_type": "code",
   "execution_count": 36,
   "metadata": {},
   "outputs": [],
   "source": [
    "df['Gender'].dropna(inplace=True,axis = 0)"
   ]
  },
  {
   "cell_type": "code",
   "execution_count": 37,
   "metadata": {},
   "outputs": [],
   "source": [
    "df = df[df['Gender'].notna()]"
   ]
  },
  {
   "cell_type": "code",
   "execution_count": 38,
   "metadata": {},
   "outputs": [
    {
     "data": {
      "text/plain": [
       "(19052, 16)"
      ]
     },
     "execution_count": 38,
     "metadata": {},
     "output_type": "execute_result"
    }
   ],
   "source": [
    "df.shape"
   ]
  },
  {
   "cell_type": "code",
   "execution_count": 39,
   "metadata": {},
   "outputs": [
    {
     "data": {
      "text/html": [
       "<div>\n",
       "<style scoped>\n",
       "    .dataframe tbody tr th:only-of-type {\n",
       "        vertical-align: middle;\n",
       "    }\n",
       "\n",
       "    .dataframe tbody tr th {\n",
       "        vertical-align: top;\n",
       "    }\n",
       "\n",
       "    .dataframe thead th {\n",
       "        text-align: right;\n",
       "    }\n",
       "</style>\n",
       "<table border=\"1\" class=\"dataframe\">\n",
       "  <thead>\n",
       "    <tr style=\"text-align: right;\">\n",
       "      <th></th>\n",
       "      <th>MMM-YY</th>\n",
       "      <th>Driver_ID</th>\n",
       "      <th>Age</th>\n",
       "      <th>Gender</th>\n",
       "      <th>City</th>\n",
       "      <th>Education_Level</th>\n",
       "      <th>Income</th>\n",
       "      <th>Dateofjoining</th>\n",
       "      <th>LastWorkingDate</th>\n",
       "      <th>Joining Designation</th>\n",
       "      <th>Grade</th>\n",
       "      <th>Total Business Value</th>\n",
       "      <th>Quarterly Rating</th>\n",
       "      <th>churn</th>\n",
       "      <th>month</th>\n",
       "      <th>year</th>\n",
       "    </tr>\n",
       "  </thead>\n",
       "  <tbody>\n",
       "    <tr>\n",
       "      <th>0</th>\n",
       "      <td>2019-01-01</td>\n",
       "      <td>1</td>\n",
       "      <td>28.0</td>\n",
       "      <td>0.0</td>\n",
       "      <td>0.105948</td>\n",
       "      <td>2</td>\n",
       "      <td>57387</td>\n",
       "      <td>2018-12-24</td>\n",
       "      <td>NaT</td>\n",
       "      <td>1</td>\n",
       "      <td>1</td>\n",
       "      <td>2381060</td>\n",
       "      <td>2</td>\n",
       "      <td>0</td>\n",
       "      <td>1</td>\n",
       "      <td>2019</td>\n",
       "    </tr>\n",
       "    <tr>\n",
       "      <th>1</th>\n",
       "      <td>2019-02-01</td>\n",
       "      <td>1</td>\n",
       "      <td>28.0</td>\n",
       "      <td>0.0</td>\n",
       "      <td>0.105948</td>\n",
       "      <td>2</td>\n",
       "      <td>57387</td>\n",
       "      <td>2018-12-24</td>\n",
       "      <td>NaT</td>\n",
       "      <td>1</td>\n",
       "      <td>1</td>\n",
       "      <td>-665480</td>\n",
       "      <td>2</td>\n",
       "      <td>0</td>\n",
       "      <td>2</td>\n",
       "      <td>2019</td>\n",
       "    </tr>\n",
       "    <tr>\n",
       "      <th>2</th>\n",
       "      <td>2019-03-01</td>\n",
       "      <td>1</td>\n",
       "      <td>28.0</td>\n",
       "      <td>0.0</td>\n",
       "      <td>0.105948</td>\n",
       "      <td>2</td>\n",
       "      <td>57387</td>\n",
       "      <td>2018-12-24</td>\n",
       "      <td>2019-03-11</td>\n",
       "      <td>1</td>\n",
       "      <td>1</td>\n",
       "      <td>0</td>\n",
       "      <td>2</td>\n",
       "      <td>1</td>\n",
       "      <td>3</td>\n",
       "      <td>2019</td>\n",
       "    </tr>\n",
       "    <tr>\n",
       "      <th>3</th>\n",
       "      <td>2020-11-01</td>\n",
       "      <td>2</td>\n",
       "      <td>31.0</td>\n",
       "      <td>0.0</td>\n",
       "      <td>0.085386</td>\n",
       "      <td>2</td>\n",
       "      <td>67016</td>\n",
       "      <td>2020-11-06</td>\n",
       "      <td>NaT</td>\n",
       "      <td>2</td>\n",
       "      <td>2</td>\n",
       "      <td>0</td>\n",
       "      <td>1</td>\n",
       "      <td>0</td>\n",
       "      <td>11</td>\n",
       "      <td>2020</td>\n",
       "    </tr>\n",
       "    <tr>\n",
       "      <th>4</th>\n",
       "      <td>2020-12-01</td>\n",
       "      <td>2</td>\n",
       "      <td>31.0</td>\n",
       "      <td>0.0</td>\n",
       "      <td>0.085386</td>\n",
       "      <td>2</td>\n",
       "      <td>67016</td>\n",
       "      <td>2020-11-06</td>\n",
       "      <td>NaT</td>\n",
       "      <td>2</td>\n",
       "      <td>2</td>\n",
       "      <td>0</td>\n",
       "      <td>1</td>\n",
       "      <td>0</td>\n",
       "      <td>12</td>\n",
       "      <td>2020</td>\n",
       "    </tr>\n",
       "  </tbody>\n",
       "</table>\n",
       "</div>"
      ],
      "text/plain": [
       "      MMM-YY  Driver_ID   Age  Gender      City  Education_Level  Income  \\\n",
       "0 2019-01-01          1  28.0     0.0  0.105948                2   57387   \n",
       "1 2019-02-01          1  28.0     0.0  0.105948                2   57387   \n",
       "2 2019-03-01          1  28.0     0.0  0.105948                2   57387   \n",
       "3 2020-11-01          2  31.0     0.0  0.085386                2   67016   \n",
       "4 2020-12-01          2  31.0     0.0  0.085386                2   67016   \n",
       "\n",
       "  Dateofjoining LastWorkingDate  Joining Designation  Grade  \\\n",
       "0    2018-12-24             NaT                    1      1   \n",
       "1    2018-12-24             NaT                    1      1   \n",
       "2    2018-12-24      2019-03-11                    1      1   \n",
       "3    2020-11-06             NaT                    2      2   \n",
       "4    2020-11-06             NaT                    2      2   \n",
       "\n",
       "   Total Business Value  Quarterly Rating  churn  month  year  \n",
       "0               2381060                 2      0      1  2019  \n",
       "1               -665480                 2      0      2  2019  \n",
       "2                     0                 2      1      3  2019  \n",
       "3                     0                 1      0     11  2020  \n",
       "4                     0                 1      0     12  2020  "
      ]
     },
     "execution_count": 39,
     "metadata": {},
     "output_type": "execute_result"
    }
   ],
   "source": [
    "df.head()"
   ]
  },
  {
   "cell_type": "code",
   "execution_count": 40,
   "metadata": {},
   "outputs": [
    {
     "name": "stdout",
     "output_type": "stream",
     "text": [
      "<class 'pandas.core.frame.DataFrame'>\n",
      "Int64Index: 19052 entries, 0 to 19103\n",
      "Data columns (total 16 columns):\n",
      " #   Column                Non-Null Count  Dtype         \n",
      "---  ------                --------------  -----         \n",
      " 0   MMM-YY                19052 non-null  datetime64[ns]\n",
      " 1   Driver_ID             19052 non-null  int64         \n",
      " 2   Age                   19052 non-null  float64       \n",
      " 3   Gender                19052 non-null  float64       \n",
      " 4   City                  19052 non-null  float64       \n",
      " 5   Education_Level       19052 non-null  int64         \n",
      " 6   Income                19052 non-null  int64         \n",
      " 7   Dateofjoining         19052 non-null  datetime64[ns]\n",
      " 8   LastWorkingDate       1611 non-null   datetime64[ns]\n",
      " 9   Joining Designation   19052 non-null  int64         \n",
      " 10  Grade                 19052 non-null  int64         \n",
      " 11  Total Business Value  19052 non-null  int64         \n",
      " 12  Quarterly Rating      19052 non-null  int64         \n",
      " 13  churn                 19052 non-null  int64         \n",
      " 14  month                 19052 non-null  int64         \n",
      " 15  year                  19052 non-null  int64         \n",
      "dtypes: datetime64[ns](3), float64(3), int64(10)\n",
      "memory usage: 2.5 MB\n"
     ]
    }
   ],
   "source": [
    "df.info()"
   ]
  },
  {
   "cell_type": "code",
   "execution_count": 41,
   "metadata": {},
   "outputs": [
    {
     "data": {
      "text/plain": [
       "Index(['MMM-YY', 'Driver_ID', 'Age', 'Gender', 'City', 'Education_Level',\n",
       "       'Income', 'Dateofjoining', 'LastWorkingDate', 'Joining Designation',\n",
       "       'Grade', 'Total Business Value', 'Quarterly Rating', 'churn', 'month',\n",
       "       'year'],\n",
       "      dtype='object')"
      ]
     },
     "execution_count": 41,
     "metadata": {},
     "output_type": "execute_result"
    }
   ],
   "source": [
    "df.columns"
   ]
  },
  {
   "cell_type": "code",
   "execution_count": 42,
   "metadata": {},
   "outputs": [],
   "source": [
    "grouped_df = df.groupby('Driver_ID').agg(reporting_start_date = ('MMM-YY','min'),\n",
    "                                        reporting_end_date = ('MMM-YY','max'),\n",
    "                                        age = ('Age','max'),\n",
    "                                        gender = ('Gender','max'),\n",
    "                                        city = ('City','max'),\n",
    "                                        education = ('Education_Level','max'),\n",
    "                                        joining_income = ('Income','min'),\n",
    "                                        current_income =('Income','max'),\n",
    "                                        joining_date = ('Dateofjoining','min'),\n",
    "                                        exit_date=('LastWorkingDate','max'),\n",
    "                                        designation = ('Joining Designation','min'),\n",
    "                                        initial_grade = ('Grade','min'),\n",
    "                                        current_grade = ('Grade','max'),\n",
    "                                        total_bussiness = ('Total Business Value','sum'),\n",
    "                                        initial_rating = ('Quarterly Rating','min'),\n",
    "                                        current_rating = ('Quarterly Rating','max'))"
   ]
  },
  {
   "cell_type": "code",
   "execution_count": 43,
   "metadata": {},
   "outputs": [],
   "source": [
    "grouped_df['quarterly_rating'] = grouped_df['current_rating']-grouped_df['initial_rating']"
   ]
  },
  {
   "cell_type": "code",
   "execution_count": 44,
   "metadata": {},
   "outputs": [],
   "source": [
    "grouped_df['quarterly_rating'] = grouped_df['quarterly_rating'].apply(lambda x: 1 if x>0 else 0)"
   ]
  },
  {
   "cell_type": "code",
   "execution_count": 45,
   "metadata": {},
   "outputs": [],
   "source": [
    "grouped_df['income_change'] = grouped_df['current_income']-grouped_df['joining_income']"
   ]
  },
  {
   "cell_type": "code",
   "execution_count": 46,
   "metadata": {},
   "outputs": [],
   "source": [
    "grouped_df['income_change'] = grouped_df['income_change'].apply(lambda x: 1 if x>0 else 0)"
   ]
  },
  {
   "cell_type": "code",
   "execution_count": 47,
   "metadata": {},
   "outputs": [
    {
     "data": {
      "text/plain": [
       "0    2337\n",
       "1      44\n",
       "Name: income_change, dtype: int64"
      ]
     },
     "execution_count": 47,
     "metadata": {},
     "output_type": "execute_result"
    }
   ],
   "source": [
    "grouped_df['income_change'].value_counts()"
   ]
  },
  {
   "cell_type": "code",
   "execution_count": 48,
   "metadata": {},
   "outputs": [
    {
     "data": {
      "text/plain": [
       "0    1278\n",
       "1    1103\n",
       "Name: quarterly_rating, dtype: int64"
      ]
     },
     "execution_count": 48,
     "metadata": {},
     "output_type": "execute_result"
    }
   ],
   "source": [
    "grouped_df['quarterly_rating'].value_counts()"
   ]
  },
  {
   "cell_type": "code",
   "execution_count": 49,
   "metadata": {},
   "outputs": [],
   "source": [
    "grouped_df['churn'] = (grouped_df['exit_date']-grouped_df['joining_date']).dt.days"
   ]
  },
  {
   "cell_type": "code",
   "execution_count": 50,
   "metadata": {},
   "outputs": [],
   "source": [
    "grouped_df['churn']=np.round(grouped_df['churn']/30,2)"
   ]
  },
  {
   "cell_type": "code",
   "execution_count": 51,
   "metadata": {},
   "outputs": [],
   "source": [
    "grouped_df['churn'] = grouped_df['churn'].fillna('0')"
   ]
  },
  {
   "cell_type": "code",
   "execution_count": 52,
   "metadata": {},
   "outputs": [
    {
     "data": {
      "text/plain": [
       "Driver_ID\n",
       "1    2.57\n",
       "2       0\n",
       "4    4.73\n",
       "5     1.9\n",
       "6       0\n",
       "Name: churn, dtype: object"
      ]
     },
     "execution_count": 52,
     "metadata": {},
     "output_type": "execute_result"
    }
   ],
   "source": [
    "grouped_df['churn'].head()"
   ]
  },
  {
   "cell_type": "code",
   "execution_count": 53,
   "metadata": {},
   "outputs": [
    {
     "data": {
      "text/html": [
       "<div>\n",
       "<style scoped>\n",
       "    .dataframe tbody tr th:only-of-type {\n",
       "        vertical-align: middle;\n",
       "    }\n",
       "\n",
       "    .dataframe tbody tr th {\n",
       "        vertical-align: top;\n",
       "    }\n",
       "\n",
       "    .dataframe thead th {\n",
       "        text-align: right;\n",
       "    }\n",
       "</style>\n",
       "<table border=\"1\" class=\"dataframe\">\n",
       "  <thead>\n",
       "    <tr style=\"text-align: right;\">\n",
       "      <th></th>\n",
       "      <th>reporting_start_date</th>\n",
       "      <th>reporting_end_date</th>\n",
       "      <th>age</th>\n",
       "      <th>gender</th>\n",
       "      <th>city</th>\n",
       "      <th>education</th>\n",
       "      <th>joining_income</th>\n",
       "      <th>current_income</th>\n",
       "      <th>joining_date</th>\n",
       "      <th>exit_date</th>\n",
       "      <th>designation</th>\n",
       "      <th>initial_grade</th>\n",
       "      <th>current_grade</th>\n",
       "      <th>total_bussiness</th>\n",
       "      <th>initial_rating</th>\n",
       "      <th>current_rating</th>\n",
       "      <th>quarterly_rating</th>\n",
       "      <th>income_change</th>\n",
       "      <th>churn</th>\n",
       "    </tr>\n",
       "    <tr>\n",
       "      <th>Driver_ID</th>\n",
       "      <th></th>\n",
       "      <th></th>\n",
       "      <th></th>\n",
       "      <th></th>\n",
       "      <th></th>\n",
       "      <th></th>\n",
       "      <th></th>\n",
       "      <th></th>\n",
       "      <th></th>\n",
       "      <th></th>\n",
       "      <th></th>\n",
       "      <th></th>\n",
       "      <th></th>\n",
       "      <th></th>\n",
       "      <th></th>\n",
       "      <th></th>\n",
       "      <th></th>\n",
       "      <th></th>\n",
       "      <th></th>\n",
       "    </tr>\n",
       "  </thead>\n",
       "  <tbody>\n",
       "    <tr>\n",
       "      <th>1</th>\n",
       "      <td>2019-01-01</td>\n",
       "      <td>2019-03-01</td>\n",
       "      <td>28.0</td>\n",
       "      <td>0.0</td>\n",
       "      <td>0.105948</td>\n",
       "      <td>2</td>\n",
       "      <td>57387</td>\n",
       "      <td>57387</td>\n",
       "      <td>2018-12-24</td>\n",
       "      <td>2019-03-11</td>\n",
       "      <td>1</td>\n",
       "      <td>1</td>\n",
       "      <td>1</td>\n",
       "      <td>1715580</td>\n",
       "      <td>2</td>\n",
       "      <td>2</td>\n",
       "      <td>0</td>\n",
       "      <td>0</td>\n",
       "      <td>2.57</td>\n",
       "    </tr>\n",
       "    <tr>\n",
       "      <th>2</th>\n",
       "      <td>2020-11-01</td>\n",
       "      <td>2020-12-01</td>\n",
       "      <td>31.0</td>\n",
       "      <td>0.0</td>\n",
       "      <td>0.085386</td>\n",
       "      <td>2</td>\n",
       "      <td>67016</td>\n",
       "      <td>67016</td>\n",
       "      <td>2020-11-06</td>\n",
       "      <td>NaT</td>\n",
       "      <td>2</td>\n",
       "      <td>2</td>\n",
       "      <td>2</td>\n",
       "      <td>0</td>\n",
       "      <td>1</td>\n",
       "      <td>1</td>\n",
       "      <td>0</td>\n",
       "      <td>0</td>\n",
       "      <td>0</td>\n",
       "    </tr>\n",
       "    <tr>\n",
       "      <th>4</th>\n",
       "      <td>2019-12-01</td>\n",
       "      <td>2020-04-01</td>\n",
       "      <td>43.0</td>\n",
       "      <td>0.0</td>\n",
       "      <td>0.101933</td>\n",
       "      <td>2</td>\n",
       "      <td>65603</td>\n",
       "      <td>65603</td>\n",
       "      <td>2019-12-07</td>\n",
       "      <td>2020-04-27</td>\n",
       "      <td>2</td>\n",
       "      <td>2</td>\n",
       "      <td>2</td>\n",
       "      <td>350000</td>\n",
       "      <td>1</td>\n",
       "      <td>1</td>\n",
       "      <td>0</td>\n",
       "      <td>0</td>\n",
       "      <td>4.73</td>\n",
       "    </tr>\n",
       "    <tr>\n",
       "      <th>5</th>\n",
       "      <td>2019-01-01</td>\n",
       "      <td>2019-03-01</td>\n",
       "      <td>29.0</td>\n",
       "      <td>0.0</td>\n",
       "      <td>0.101923</td>\n",
       "      <td>0</td>\n",
       "      <td>46368</td>\n",
       "      <td>46368</td>\n",
       "      <td>2019-01-09</td>\n",
       "      <td>2019-03-07</td>\n",
       "      <td>1</td>\n",
       "      <td>1</td>\n",
       "      <td>1</td>\n",
       "      <td>120360</td>\n",
       "      <td>1</td>\n",
       "      <td>1</td>\n",
       "      <td>0</td>\n",
       "      <td>0</td>\n",
       "      <td>1.9</td>\n",
       "    </tr>\n",
       "    <tr>\n",
       "      <th>6</th>\n",
       "      <td>2020-08-01</td>\n",
       "      <td>2020-12-01</td>\n",
       "      <td>31.0</td>\n",
       "      <td>1.0</td>\n",
       "      <td>0.096154</td>\n",
       "      <td>1</td>\n",
       "      <td>78728</td>\n",
       "      <td>78728</td>\n",
       "      <td>2020-07-31</td>\n",
       "      <td>NaT</td>\n",
       "      <td>3</td>\n",
       "      <td>3</td>\n",
       "      <td>3</td>\n",
       "      <td>1265000</td>\n",
       "      <td>1</td>\n",
       "      <td>2</td>\n",
       "      <td>1</td>\n",
       "      <td>0</td>\n",
       "      <td>0</td>\n",
       "    </tr>\n",
       "  </tbody>\n",
       "</table>\n",
       "</div>"
      ],
      "text/plain": [
       "          reporting_start_date reporting_end_date   age  gender      city  \\\n",
       "Driver_ID                                                                   \n",
       "1                   2019-01-01         2019-03-01  28.0     0.0  0.105948   \n",
       "2                   2020-11-01         2020-12-01  31.0     0.0  0.085386   \n",
       "4                   2019-12-01         2020-04-01  43.0     0.0  0.101933   \n",
       "5                   2019-01-01         2019-03-01  29.0     0.0  0.101923   \n",
       "6                   2020-08-01         2020-12-01  31.0     1.0  0.096154   \n",
       "\n",
       "           education  joining_income  current_income joining_date  exit_date  \\\n",
       "Driver_ID                                                                      \n",
       "1                  2           57387           57387   2018-12-24 2019-03-11   \n",
       "2                  2           67016           67016   2020-11-06        NaT   \n",
       "4                  2           65603           65603   2019-12-07 2020-04-27   \n",
       "5                  0           46368           46368   2019-01-09 2019-03-07   \n",
       "6                  1           78728           78728   2020-07-31        NaT   \n",
       "\n",
       "           designation  initial_grade  current_grade  total_bussiness  \\\n",
       "Driver_ID                                                               \n",
       "1                    1              1              1          1715580   \n",
       "2                    2              2              2                0   \n",
       "4                    2              2              2           350000   \n",
       "5                    1              1              1           120360   \n",
       "6                    3              3              3          1265000   \n",
       "\n",
       "           initial_rating  current_rating  quarterly_rating  income_change  \\\n",
       "Driver_ID                                                                    \n",
       "1                       2               2                 0              0   \n",
       "2                       1               1                 0              0   \n",
       "4                       1               1                 0              0   \n",
       "5                       1               1                 0              0   \n",
       "6                       1               2                 1              0   \n",
       "\n",
       "          churn  \n",
       "Driver_ID        \n",
       "1          2.57  \n",
       "2             0  \n",
       "4          4.73  \n",
       "5           1.9  \n",
       "6             0  "
      ]
     },
     "execution_count": 53,
     "metadata": {},
     "output_type": "execute_result"
    }
   ],
   "source": [
    "grouped_df.head()"
   ]
  },
  {
   "cell_type": "code",
   "execution_count": 54,
   "metadata": {},
   "outputs": [
    {
     "name": "stderr",
     "output_type": "stream",
     "text": [
      "<>:1: SyntaxWarning: \"is\" with a literal. Did you mean \"==\"?\n",
      "<>:1: SyntaxWarning: \"is\" with a literal. Did you mean \"==\"?\n",
      "C:\\Users\\Ashok kumar\\AppData\\Local\\Temp\\ipykernel_14516\\2957724929.py:1: SyntaxWarning: \"is\" with a literal. Did you mean \"==\"?\n",
      "  grouped_df['churn'] = [0 if x is '0' else 1 for x in grouped_df['churn']]\n"
     ]
    }
   ],
   "source": [
    "grouped_df['churn'] = [0 if x is '0' else 1 for x in grouped_df['churn']]"
   ]
  },
  {
   "cell_type": "code",
   "execution_count": 55,
   "metadata": {},
   "outputs": [
    {
     "data": {
      "text/plain": [
       "1    1611\n",
       "0     770\n",
       "Name: churn, dtype: int64"
      ]
     },
     "execution_count": 55,
     "metadata": {},
     "output_type": "execute_result"
    }
   ],
   "source": [
    "grouped_df['churn'].value_counts()"
   ]
  },
  {
   "cell_type": "code",
   "execution_count": 56,
   "metadata": {},
   "outputs": [
    {
     "data": {
      "text/html": [
       "<div>\n",
       "<style scoped>\n",
       "    .dataframe tbody tr th:only-of-type {\n",
       "        vertical-align: middle;\n",
       "    }\n",
       "\n",
       "    .dataframe tbody tr th {\n",
       "        vertical-align: top;\n",
       "    }\n",
       "\n",
       "    .dataframe thead th {\n",
       "        text-align: right;\n",
       "    }\n",
       "</style>\n",
       "<table border=\"1\" class=\"dataframe\">\n",
       "  <thead>\n",
       "    <tr style=\"text-align: right;\">\n",
       "      <th></th>\n",
       "      <th>reporting_start_date</th>\n",
       "      <th>reporting_end_date</th>\n",
       "      <th>age</th>\n",
       "      <th>gender</th>\n",
       "      <th>city</th>\n",
       "      <th>education</th>\n",
       "      <th>joining_income</th>\n",
       "      <th>current_income</th>\n",
       "      <th>joining_date</th>\n",
       "      <th>exit_date</th>\n",
       "      <th>designation</th>\n",
       "      <th>initial_grade</th>\n",
       "      <th>current_grade</th>\n",
       "      <th>total_bussiness</th>\n",
       "      <th>initial_rating</th>\n",
       "      <th>current_rating</th>\n",
       "      <th>quarterly_rating</th>\n",
       "      <th>income_change</th>\n",
       "      <th>churn</th>\n",
       "    </tr>\n",
       "    <tr>\n",
       "      <th>Driver_ID</th>\n",
       "      <th></th>\n",
       "      <th></th>\n",
       "      <th></th>\n",
       "      <th></th>\n",
       "      <th></th>\n",
       "      <th></th>\n",
       "      <th></th>\n",
       "      <th></th>\n",
       "      <th></th>\n",
       "      <th></th>\n",
       "      <th></th>\n",
       "      <th></th>\n",
       "      <th></th>\n",
       "      <th></th>\n",
       "      <th></th>\n",
       "      <th></th>\n",
       "      <th></th>\n",
       "      <th></th>\n",
       "      <th></th>\n",
       "    </tr>\n",
       "  </thead>\n",
       "  <tbody>\n",
       "    <tr>\n",
       "      <th>1</th>\n",
       "      <td>2019-01-01</td>\n",
       "      <td>2019-03-01</td>\n",
       "      <td>28.000000</td>\n",
       "      <td>0.0</td>\n",
       "      <td>0.105948</td>\n",
       "      <td>2</td>\n",
       "      <td>57387</td>\n",
       "      <td>57387</td>\n",
       "      <td>2018-12-24</td>\n",
       "      <td>2019-03-11</td>\n",
       "      <td>1</td>\n",
       "      <td>1</td>\n",
       "      <td>1</td>\n",
       "      <td>1715580</td>\n",
       "      <td>2</td>\n",
       "      <td>2</td>\n",
       "      <td>0</td>\n",
       "      <td>0</td>\n",
       "      <td>1</td>\n",
       "    </tr>\n",
       "    <tr>\n",
       "      <th>2</th>\n",
       "      <td>2020-11-01</td>\n",
       "      <td>2020-12-01</td>\n",
       "      <td>31.000000</td>\n",
       "      <td>0.0</td>\n",
       "      <td>0.085386</td>\n",
       "      <td>2</td>\n",
       "      <td>67016</td>\n",
       "      <td>67016</td>\n",
       "      <td>2020-11-06</td>\n",
       "      <td>NaT</td>\n",
       "      <td>2</td>\n",
       "      <td>2</td>\n",
       "      <td>2</td>\n",
       "      <td>0</td>\n",
       "      <td>1</td>\n",
       "      <td>1</td>\n",
       "      <td>0</td>\n",
       "      <td>0</td>\n",
       "      <td>0</td>\n",
       "    </tr>\n",
       "    <tr>\n",
       "      <th>4</th>\n",
       "      <td>2019-12-01</td>\n",
       "      <td>2020-04-01</td>\n",
       "      <td>43.000000</td>\n",
       "      <td>0.0</td>\n",
       "      <td>0.101933</td>\n",
       "      <td>2</td>\n",
       "      <td>65603</td>\n",
       "      <td>65603</td>\n",
       "      <td>2019-12-07</td>\n",
       "      <td>2020-04-27</td>\n",
       "      <td>2</td>\n",
       "      <td>2</td>\n",
       "      <td>2</td>\n",
       "      <td>350000</td>\n",
       "      <td>1</td>\n",
       "      <td>1</td>\n",
       "      <td>0</td>\n",
       "      <td>0</td>\n",
       "      <td>1</td>\n",
       "    </tr>\n",
       "    <tr>\n",
       "      <th>5</th>\n",
       "      <td>2019-01-01</td>\n",
       "      <td>2019-03-01</td>\n",
       "      <td>29.000000</td>\n",
       "      <td>0.0</td>\n",
       "      <td>0.101923</td>\n",
       "      <td>0</td>\n",
       "      <td>46368</td>\n",
       "      <td>46368</td>\n",
       "      <td>2019-01-09</td>\n",
       "      <td>2019-03-07</td>\n",
       "      <td>1</td>\n",
       "      <td>1</td>\n",
       "      <td>1</td>\n",
       "      <td>120360</td>\n",
       "      <td>1</td>\n",
       "      <td>1</td>\n",
       "      <td>0</td>\n",
       "      <td>0</td>\n",
       "      <td>1</td>\n",
       "    </tr>\n",
       "    <tr>\n",
       "      <th>6</th>\n",
       "      <td>2020-08-01</td>\n",
       "      <td>2020-12-01</td>\n",
       "      <td>31.000000</td>\n",
       "      <td>1.0</td>\n",
       "      <td>0.096154</td>\n",
       "      <td>1</td>\n",
       "      <td>78728</td>\n",
       "      <td>78728</td>\n",
       "      <td>2020-07-31</td>\n",
       "      <td>NaT</td>\n",
       "      <td>3</td>\n",
       "      <td>3</td>\n",
       "      <td>3</td>\n",
       "      <td>1265000</td>\n",
       "      <td>1</td>\n",
       "      <td>2</td>\n",
       "      <td>1</td>\n",
       "      <td>0</td>\n",
       "      <td>0</td>\n",
       "    </tr>\n",
       "    <tr>\n",
       "      <th>8</th>\n",
       "      <td>2020-09-01</td>\n",
       "      <td>2020-11-01</td>\n",
       "      <td>34.000000</td>\n",
       "      <td>0.0</td>\n",
       "      <td>0.116525</td>\n",
       "      <td>0</td>\n",
       "      <td>70656</td>\n",
       "      <td>70656</td>\n",
       "      <td>2020-09-19</td>\n",
       "      <td>2020-11-15</td>\n",
       "      <td>3</td>\n",
       "      <td>3</td>\n",
       "      <td>3</td>\n",
       "      <td>0</td>\n",
       "      <td>1</td>\n",
       "      <td>1</td>\n",
       "      <td>0</td>\n",
       "      <td>0</td>\n",
       "      <td>1</td>\n",
       "    </tr>\n",
       "    <tr>\n",
       "      <th>11</th>\n",
       "      <td>2020-12-01</td>\n",
       "      <td>2020-12-01</td>\n",
       "      <td>28.000000</td>\n",
       "      <td>1.0</td>\n",
       "      <td>0.070812</td>\n",
       "      <td>2</td>\n",
       "      <td>42172</td>\n",
       "      <td>42172</td>\n",
       "      <td>2020-12-07</td>\n",
       "      <td>NaT</td>\n",
       "      <td>1</td>\n",
       "      <td>1</td>\n",
       "      <td>1</td>\n",
       "      <td>0</td>\n",
       "      <td>1</td>\n",
       "      <td>1</td>\n",
       "      <td>0</td>\n",
       "      <td>0</td>\n",
       "      <td>0</td>\n",
       "    </tr>\n",
       "    <tr>\n",
       "      <th>12</th>\n",
       "      <td>2019-07-01</td>\n",
       "      <td>2019-12-01</td>\n",
       "      <td>35.000000</td>\n",
       "      <td>0.0</td>\n",
       "      <td>0.105948</td>\n",
       "      <td>2</td>\n",
       "      <td>28116</td>\n",
       "      <td>28116</td>\n",
       "      <td>2019-06-29</td>\n",
       "      <td>2019-12-21</td>\n",
       "      <td>1</td>\n",
       "      <td>1</td>\n",
       "      <td>1</td>\n",
       "      <td>2607180</td>\n",
       "      <td>1</td>\n",
       "      <td>4</td>\n",
       "      <td>1</td>\n",
       "      <td>0</td>\n",
       "      <td>1</td>\n",
       "    </tr>\n",
       "    <tr>\n",
       "      <th>13</th>\n",
       "      <td>2019-01-01</td>\n",
       "      <td>2020-11-01</td>\n",
       "      <td>31.000000</td>\n",
       "      <td>0.0</td>\n",
       "      <td>0.070812</td>\n",
       "      <td>2</td>\n",
       "      <td>119227</td>\n",
       "      <td>119227</td>\n",
       "      <td>2015-05-28</td>\n",
       "      <td>2020-11-25</td>\n",
       "      <td>1</td>\n",
       "      <td>4</td>\n",
       "      <td>4</td>\n",
       "      <td>10213040</td>\n",
       "      <td>1</td>\n",
       "      <td>2</td>\n",
       "      <td>1</td>\n",
       "      <td>0</td>\n",
       "      <td>1</td>\n",
       "    </tr>\n",
       "    <tr>\n",
       "      <th>14</th>\n",
       "      <td>2020-10-01</td>\n",
       "      <td>2020-12-01</td>\n",
       "      <td>39.000000</td>\n",
       "      <td>1.0</td>\n",
       "      <td>0.074799</td>\n",
       "      <td>0</td>\n",
       "      <td>19734</td>\n",
       "      <td>19734</td>\n",
       "      <td>2020-10-16</td>\n",
       "      <td>NaT</td>\n",
       "      <td>3</td>\n",
       "      <td>3</td>\n",
       "      <td>3</td>\n",
       "      <td>0</td>\n",
       "      <td>1</td>\n",
       "      <td>1</td>\n",
       "      <td>0</td>\n",
       "      <td>0</td>\n",
       "      <td>0</td>\n",
       "    </tr>\n",
       "    <tr>\n",
       "      <th>16</th>\n",
       "      <td>2019-01-01</td>\n",
       "      <td>2019-02-01</td>\n",
       "      <td>30.000000</td>\n",
       "      <td>1.0</td>\n",
       "      <td>0.105948</td>\n",
       "      <td>0</td>\n",
       "      <td>52963</td>\n",
       "      <td>52963</td>\n",
       "      <td>2018-11-30</td>\n",
       "      <td>2019-02-22</td>\n",
       "      <td>2</td>\n",
       "      <td>2</td>\n",
       "      <td>2</td>\n",
       "      <td>346800</td>\n",
       "      <td>1</td>\n",
       "      <td>1</td>\n",
       "      <td>0</td>\n",
       "      <td>0</td>\n",
       "      <td>1</td>\n",
       "    </tr>\n",
       "    <tr>\n",
       "      <th>17</th>\n",
       "      <td>2019-01-01</td>\n",
       "      <td>2019-07-01</td>\n",
       "      <td>43.000000</td>\n",
       "      <td>0.0</td>\n",
       "      <td>0.110119</td>\n",
       "      <td>2</td>\n",
       "      <td>51099</td>\n",
       "      <td>51099</td>\n",
       "      <td>2018-03-06</td>\n",
       "      <td>2019-07-20</td>\n",
       "      <td>1</td>\n",
       "      <td>1</td>\n",
       "      <td>1</td>\n",
       "      <td>1017640</td>\n",
       "      <td>1</td>\n",
       "      <td>2</td>\n",
       "      <td>1</td>\n",
       "      <td>0</td>\n",
       "      <td>1</td>\n",
       "    </tr>\n",
       "    <tr>\n",
       "      <th>18</th>\n",
       "      <td>2019-01-01</td>\n",
       "      <td>2019-05-01</td>\n",
       "      <td>27.000000</td>\n",
       "      <td>1.0</td>\n",
       "      <td>0.125000</td>\n",
       "      <td>1</td>\n",
       "      <td>31631</td>\n",
       "      <td>31631</td>\n",
       "      <td>2019-01-09</td>\n",
       "      <td>2019-04-30</td>\n",
       "      <td>1</td>\n",
       "      <td>1</td>\n",
       "      <td>1</td>\n",
       "      <td>0</td>\n",
       "      <td>1</td>\n",
       "      <td>1</td>\n",
       "      <td>0</td>\n",
       "      <td>0</td>\n",
       "      <td>1</td>\n",
       "    </tr>\n",
       "    <tr>\n",
       "      <th>20</th>\n",
       "      <td>2019-10-01</td>\n",
       "      <td>2020-03-01</td>\n",
       "      <td>34.668435</td>\n",
       "      <td>1.0</td>\n",
       "      <td>0.070812</td>\n",
       "      <td>0</td>\n",
       "      <td>40342</td>\n",
       "      <td>40342</td>\n",
       "      <td>2019-10-25</td>\n",
       "      <td>2020-03-01</td>\n",
       "      <td>3</td>\n",
       "      <td>3</td>\n",
       "      <td>3</td>\n",
       "      <td>0</td>\n",
       "      <td>1</td>\n",
       "      <td>1</td>\n",
       "      <td>0</td>\n",
       "      <td>0</td>\n",
       "      <td>1</td>\n",
       "    </tr>\n",
       "    <tr>\n",
       "      <th>21</th>\n",
       "      <td>2019-01-01</td>\n",
       "      <td>2020-02-01</td>\n",
       "      <td>34.000000</td>\n",
       "      <td>1.0</td>\n",
       "      <td>0.056667</td>\n",
       "      <td>1</td>\n",
       "      <td>22755</td>\n",
       "      <td>22755</td>\n",
       "      <td>2018-05-12</td>\n",
       "      <td>2020-02-17</td>\n",
       "      <td>1</td>\n",
       "      <td>1</td>\n",
       "      <td>1</td>\n",
       "      <td>6962550</td>\n",
       "      <td>1</td>\n",
       "      <td>4</td>\n",
       "      <td>1</td>\n",
       "      <td>0</td>\n",
       "      <td>1</td>\n",
       "    </tr>\n",
       "    <tr>\n",
       "      <th>22</th>\n",
       "      <td>2019-01-01</td>\n",
       "      <td>2020-04-01</td>\n",
       "      <td>41.000000</td>\n",
       "      <td>0.0</td>\n",
       "      <td>0.081989</td>\n",
       "      <td>2</td>\n",
       "      <td>31224</td>\n",
       "      <td>31224</td>\n",
       "      <td>2018-05-25</td>\n",
       "      <td>2020-04-26</td>\n",
       "      <td>1</td>\n",
       "      <td>1</td>\n",
       "      <td>1</td>\n",
       "      <td>7539490</td>\n",
       "      <td>1</td>\n",
       "      <td>4</td>\n",
       "      <td>1</td>\n",
       "      <td>0</td>\n",
       "      <td>1</td>\n",
       "    </tr>\n",
       "    <tr>\n",
       "      <th>24</th>\n",
       "      <td>2019-01-01</td>\n",
       "      <td>2019-10-01</td>\n",
       "      <td>34.668435</td>\n",
       "      <td>0.0</td>\n",
       "      <td>0.083062</td>\n",
       "      <td>2</td>\n",
       "      <td>76308</td>\n",
       "      <td>76308</td>\n",
       "      <td>2018-05-25</td>\n",
       "      <td>2019-10-27</td>\n",
       "      <td>1</td>\n",
       "      <td>2</td>\n",
       "      <td>2</td>\n",
       "      <td>4101720</td>\n",
       "      <td>2</td>\n",
       "      <td>3</td>\n",
       "      <td>1</td>\n",
       "      <td>0</td>\n",
       "      <td>1</td>\n",
       "    </tr>\n",
       "    <tr>\n",
       "      <th>25</th>\n",
       "      <td>2019-01-01</td>\n",
       "      <td>2020-12-01</td>\n",
       "      <td>31.000000</td>\n",
       "      <td>0.0</td>\n",
       "      <td>0.083062</td>\n",
       "      <td>1</td>\n",
       "      <td>102077</td>\n",
       "      <td>102077</td>\n",
       "      <td>2017-10-30</td>\n",
       "      <td>NaT</td>\n",
       "      <td>1</td>\n",
       "      <td>3</td>\n",
       "      <td>3</td>\n",
       "      <td>36351110</td>\n",
       "      <td>3</td>\n",
       "      <td>4</td>\n",
       "      <td>1</td>\n",
       "      <td>0</td>\n",
       "      <td>0</td>\n",
       "    </tr>\n",
       "    <tr>\n",
       "      <th>26</th>\n",
       "      <td>2019-01-01</td>\n",
       "      <td>2020-12-01</td>\n",
       "      <td>43.000000</td>\n",
       "      <td>0.0</td>\n",
       "      <td>0.089506</td>\n",
       "      <td>2</td>\n",
       "      <td>121529</td>\n",
       "      <td>132577</td>\n",
       "      <td>2018-05-07</td>\n",
       "      <td>NaT</td>\n",
       "      <td>1</td>\n",
       "      <td>3</td>\n",
       "      <td>4</td>\n",
       "      <td>69867900</td>\n",
       "      <td>2</td>\n",
       "      <td>4</td>\n",
       "      <td>1</td>\n",
       "      <td>1</td>\n",
       "      <td>0</td>\n",
       "    </tr>\n",
       "    <tr>\n",
       "      <th>29</th>\n",
       "      <td>2019-01-01</td>\n",
       "      <td>2019-05-01</td>\n",
       "      <td>30.000000</td>\n",
       "      <td>0.0</td>\n",
       "      <td>0.101933</td>\n",
       "      <td>2</td>\n",
       "      <td>30312</td>\n",
       "      <td>30312</td>\n",
       "      <td>2018-05-20</td>\n",
       "      <td>2019-05-23</td>\n",
       "      <td>1</td>\n",
       "      <td>1</td>\n",
       "      <td>1</td>\n",
       "      <td>1273170</td>\n",
       "      <td>1</td>\n",
       "      <td>2</td>\n",
       "      <td>1</td>\n",
       "      <td>0</td>\n",
       "      <td>1</td>\n",
       "    </tr>\n",
       "  </tbody>\n",
       "</table>\n",
       "</div>"
      ],
      "text/plain": [
       "          reporting_start_date reporting_end_date        age  gender  \\\n",
       "Driver_ID                                                              \n",
       "1                   2019-01-01         2019-03-01  28.000000     0.0   \n",
       "2                   2020-11-01         2020-12-01  31.000000     0.0   \n",
       "4                   2019-12-01         2020-04-01  43.000000     0.0   \n",
       "5                   2019-01-01         2019-03-01  29.000000     0.0   \n",
       "6                   2020-08-01         2020-12-01  31.000000     1.0   \n",
       "8                   2020-09-01         2020-11-01  34.000000     0.0   \n",
       "11                  2020-12-01         2020-12-01  28.000000     1.0   \n",
       "12                  2019-07-01         2019-12-01  35.000000     0.0   \n",
       "13                  2019-01-01         2020-11-01  31.000000     0.0   \n",
       "14                  2020-10-01         2020-12-01  39.000000     1.0   \n",
       "16                  2019-01-01         2019-02-01  30.000000     1.0   \n",
       "17                  2019-01-01         2019-07-01  43.000000     0.0   \n",
       "18                  2019-01-01         2019-05-01  27.000000     1.0   \n",
       "20                  2019-10-01         2020-03-01  34.668435     1.0   \n",
       "21                  2019-01-01         2020-02-01  34.000000     1.0   \n",
       "22                  2019-01-01         2020-04-01  41.000000     0.0   \n",
       "24                  2019-01-01         2019-10-01  34.668435     0.0   \n",
       "25                  2019-01-01         2020-12-01  31.000000     0.0   \n",
       "26                  2019-01-01         2020-12-01  43.000000     0.0   \n",
       "29                  2019-01-01         2019-05-01  30.000000     0.0   \n",
       "\n",
       "               city  education  joining_income  current_income joining_date  \\\n",
       "Driver_ID                                                                     \n",
       "1          0.105948          2           57387           57387   2018-12-24   \n",
       "2          0.085386          2           67016           67016   2020-11-06   \n",
       "4          0.101933          2           65603           65603   2019-12-07   \n",
       "5          0.101923          0           46368           46368   2019-01-09   \n",
       "6          0.096154          1           78728           78728   2020-07-31   \n",
       "8          0.116525          0           70656           70656   2020-09-19   \n",
       "11         0.070812          2           42172           42172   2020-12-07   \n",
       "12         0.105948          2           28116           28116   2019-06-29   \n",
       "13         0.070812          2          119227          119227   2015-05-28   \n",
       "14         0.074799          0           19734           19734   2020-10-16   \n",
       "16         0.105948          0           52963           52963   2018-11-30   \n",
       "17         0.110119          2           51099           51099   2018-03-06   \n",
       "18         0.125000          1           31631           31631   2019-01-09   \n",
       "20         0.070812          0           40342           40342   2019-10-25   \n",
       "21         0.056667          1           22755           22755   2018-05-12   \n",
       "22         0.081989          2           31224           31224   2018-05-25   \n",
       "24         0.083062          2           76308           76308   2018-05-25   \n",
       "25         0.083062          1          102077          102077   2017-10-30   \n",
       "26         0.089506          2          121529          132577   2018-05-07   \n",
       "29         0.101933          2           30312           30312   2018-05-20   \n",
       "\n",
       "           exit_date  designation  initial_grade  current_grade  \\\n",
       "Driver_ID                                                         \n",
       "1         2019-03-11            1              1              1   \n",
       "2                NaT            2              2              2   \n",
       "4         2020-04-27            2              2              2   \n",
       "5         2019-03-07            1              1              1   \n",
       "6                NaT            3              3              3   \n",
       "8         2020-11-15            3              3              3   \n",
       "11               NaT            1              1              1   \n",
       "12        2019-12-21            1              1              1   \n",
       "13        2020-11-25            1              4              4   \n",
       "14               NaT            3              3              3   \n",
       "16        2019-02-22            2              2              2   \n",
       "17        2019-07-20            1              1              1   \n",
       "18        2019-04-30            1              1              1   \n",
       "20        2020-03-01            3              3              3   \n",
       "21        2020-02-17            1              1              1   \n",
       "22        2020-04-26            1              1              1   \n",
       "24        2019-10-27            1              2              2   \n",
       "25               NaT            1              3              3   \n",
       "26               NaT            1              3              4   \n",
       "29        2019-05-23            1              1              1   \n",
       "\n",
       "           total_bussiness  initial_rating  current_rating  quarterly_rating  \\\n",
       "Driver_ID                                                                      \n",
       "1                  1715580               2               2                 0   \n",
       "2                        0               1               1                 0   \n",
       "4                   350000               1               1                 0   \n",
       "5                   120360               1               1                 0   \n",
       "6                  1265000               1               2                 1   \n",
       "8                        0               1               1                 0   \n",
       "11                       0               1               1                 0   \n",
       "12                 2607180               1               4                 1   \n",
       "13                10213040               1               2                 1   \n",
       "14                       0               1               1                 0   \n",
       "16                  346800               1               1                 0   \n",
       "17                 1017640               1               2                 1   \n",
       "18                       0               1               1                 0   \n",
       "20                       0               1               1                 0   \n",
       "21                 6962550               1               4                 1   \n",
       "22                 7539490               1               4                 1   \n",
       "24                 4101720               2               3                 1   \n",
       "25                36351110               3               4                 1   \n",
       "26                69867900               2               4                 1   \n",
       "29                 1273170               1               2                 1   \n",
       "\n",
       "           income_change  churn  \n",
       "Driver_ID                        \n",
       "1                      0      1  \n",
       "2                      0      0  \n",
       "4                      0      1  \n",
       "5                      0      1  \n",
       "6                      0      0  \n",
       "8                      0      1  \n",
       "11                     0      0  \n",
       "12                     0      1  \n",
       "13                     0      1  \n",
       "14                     0      0  \n",
       "16                     0      1  \n",
       "17                     0      1  \n",
       "18                     0      1  \n",
       "20                     0      1  \n",
       "21                     0      1  \n",
       "22                     0      1  \n",
       "24                     0      1  \n",
       "25                     0      0  \n",
       "26                     1      0  \n",
       "29                     0      1  "
      ]
     },
     "execution_count": 56,
     "metadata": {},
     "output_type": "execute_result"
    }
   ],
   "source": [
    "grouped_df.head(20)"
   ]
  },
  {
   "cell_type": "code",
   "execution_count": 57,
   "metadata": {},
   "outputs": [
    {
     "name": "stdout",
     "output_type": "stream",
     "text": [
      "reporting_start_date 24\n",
      "reporting_end_date 24\n",
      "age 37\n",
      "gender 2\n",
      "city 29\n",
      "education 3\n",
      "joining_income 2339\n",
      "current_income 2339\n",
      "joining_date 869\n",
      "exit_date 493\n",
      "designation 5\n",
      "initial_grade 5\n",
      "current_grade 5\n",
      "total_bussiness 1626\n",
      "initial_rating 4\n",
      "current_rating 4\n",
      "quarterly_rating 2\n",
      "income_change 2\n",
      "churn 2\n"
     ]
    }
   ],
   "source": [
    "for i in grouped_df.columns:\n",
    "    print(i,grouped_df[i].nunique())"
   ]
  },
  {
   "cell_type": "code",
   "execution_count": 58,
   "metadata": {},
   "outputs": [],
   "source": [
    "grouped_df['age'] =grouped_df['age'].round(2)"
   ]
  },
  {
   "cell_type": "code",
   "execution_count": 59,
   "metadata": {},
   "outputs": [],
   "source": [
    "grouped_df['age'].replace(34.67,34,inplace=True)"
   ]
  },
  {
   "cell_type": "code",
   "execution_count": 60,
   "metadata": {
    "scrolled": false
   },
   "outputs": [
    {
     "name": "stderr",
     "output_type": "stream",
     "text": [
      "C:\\ProgramData\\Anaconda3\\lib\\site-packages\\seaborn\\_decorators.py:36: FutureWarning: Pass the following variable as a keyword arg: x. From version 0.12, the only valid positional argument will be `data`, and passing other arguments without an explicit keyword will result in an error or misinterpretation.\n",
      "  warnings.warn(\n"
     ]
    },
    {
     "data": {
      "text/plain": [
       "<AxesSubplot:xlabel='age', ylabel='count'>"
      ]
     },
     "execution_count": 60,
     "metadata": {},
     "output_type": "execute_result"
    },
    {
     "data": {
      "image/png": "[encoded data removed]",
      "text/plain": [
       "<Figure size 1152x360 with 1 Axes>"
      ]
     },
     "metadata": {
      "needs_background": "light"
     },
     "output_type": "display_data"
    }
   ],
   "source": [
    "plt.figure(figsize=(16,5))\n",
    "sns.countplot(grouped_df['age'])"
   ]
  },
  {
   "cell_type": "code",
   "execution_count": 61,
   "metadata": {},
   "outputs": [
    {
     "data": {
      "text/plain": [
       "<AxesSubplot:xlabel='gender', ylabel='count'>"
      ]
     },
     "execution_count": 61,
     "metadata": {},
     "output_type": "execute_result"
    },
    {
     "data": {
      "image/png": "[encoded data removed]",
      "text/plain": [
       "<Figure size 432x288 with 1 Axes>"
      ]
     },
     "metadata": {
      "needs_background": "light"
     },
     "output_type": "display_data"
    }
   ],
   "source": [
    "sns.countplot(x=grouped_df['gender'],hue=grouped_df['churn'])"
   ]
  },
  {
   "cell_type": "code",
   "execution_count": 62,
   "metadata": {},
   "outputs": [
    {
     "data": {
      "text/plain": [
       "2    802\n",
       "1    795\n",
       "0    784\n",
       "Name: education, dtype: int64"
      ]
     },
     "execution_count": 62,
     "metadata": {},
     "output_type": "execute_result"
    }
   ],
   "source": [
    "grouped_df['education'].value_counts()"
   ]
  },
  {
   "cell_type": "code",
   "execution_count": 63,
   "metadata": {},
   "outputs": [
    {
     "data": {
      "text/plain": [
       "<AxesSubplot:xlabel='designation', ylabel='count'>"
      ]
     },
     "execution_count": 63,
     "metadata": {},
     "output_type": "execute_result"
    },
    {
     "data": {
      "image/png": "[encoded data removed]",
      "text/plain": [
       "<Figure size 432x288 with 1 Axes>"
      ]
     },
     "metadata": {
      "needs_background": "light"
     },
     "output_type": "display_data"
    }
   ],
   "source": [
    "sns.countplot(x=grouped_df['designation'],hue = grouped_df['churn'])"
   ]
  },
  {
   "cell_type": "code",
   "execution_count": 64,
   "metadata": {},
   "outputs": [
    {
     "name": "stderr",
     "output_type": "stream",
     "text": [
      "C:\\ProgramData\\Anaconda3\\lib\\site-packages\\seaborn\\_decorators.py:36: FutureWarning: Pass the following variable as a keyword arg: x. From version 0.12, the only valid positional argument will be `data`, and passing other arguments without an explicit keyword will result in an error or misinterpretation.\n",
      "  warnings.warn(\n"
     ]
    },
    {
     "data": {
      "text/plain": [
       "<AxesSubplot:xlabel='quarterly_rating', ylabel='count'>"
      ]
     },
     "execution_count": 64,
     "metadata": {},
     "output_type": "execute_result"
    },
    {
     "data": {
      "image/png": "[encoded data removed]",
      "text/plain": [
       "<Figure size 432x288 with 1 Axes>"
      ]
     },
     "metadata": {
      "needs_background": "light"
     },
     "output_type": "display_data"
    }
   ],
   "source": [
    "sns.countplot(grouped_df['quarterly_rating'],hue = grouped_df['churn'])"
   ]
  },
  {
   "cell_type": "code",
   "execution_count": 65,
   "metadata": {},
   "outputs": [
    {
     "name": "stderr",
     "output_type": "stream",
     "text": [
      "C:\\ProgramData\\Anaconda3\\lib\\site-packages\\seaborn\\_decorators.py:36: FutureWarning: Pass the following variable as a keyword arg: x. From version 0.12, the only valid positional argument will be `data`, and passing other arguments without an explicit keyword will result in an error or misinterpretation.\n",
      "  warnings.warn(\n"
     ]
    },
    {
     "data": {
      "text/plain": [
       "<AxesSubplot:xlabel='income_change', ylabel='count'>"
      ]
     },
     "execution_count": 65,
     "metadata": {},
     "output_type": "execute_result"
    },
    {
     "data": {
      "image/png": "[encoded data removed]",
      "text/plain": [
       "<Figure size 432x288 with 1 Axes>"
      ]
     },
     "metadata": {
      "needs_background": "light"
     },
     "output_type": "display_data"
    }
   ],
   "source": [
    "sns.countplot(grouped_df['income_change'],hue = grouped_df['churn'])"
   ]
  },
  {
   "cell_type": "code",
   "execution_count": 66,
   "metadata": {
    "scrolled": false
   },
   "outputs": [
    {
     "name": "stderr",
     "output_type": "stream",
     "text": [
      "C:\\ProgramData\\Anaconda3\\lib\\site-packages\\seaborn\\_decorators.py:36: FutureWarning: Pass the following variable as a keyword arg: x. From version 0.12, the only valid positional argument will be `data`, and passing other arguments without an explicit keyword will result in an error or misinterpretation.\n",
      "  warnings.warn(\n"
     ]
    },
    {
     "data": {
      "text/plain": [
       "<AxesSubplot:xlabel='churn', ylabel='count'>"
      ]
     },
     "execution_count": 66,
     "metadata": {},
     "output_type": "execute_result"
    },
    {
     "data": {
      "image/png": "[encoded data removed]",
      "text/plain": [
       "<Figure size 432x288 with 1 Axes>"
      ]
     },
     "metadata": {
      "needs_background": "light"
     },
     "output_type": "display_data"
    }
   ],
   "source": [
    "sns.countplot(grouped_df['churn'])"
   ]
  },
  {
   "cell_type": "raw",
   "metadata": {},
   "source": [
    "--> Most of the drivers are of age 34\n",
    "--> Male drivers are more compared to female\n",
    "--> About 50% of the drivers churn in both male and female\n",
    "--> People with less designation churn more and gradually decreases w.r.t designation\n",
    "--> Drivers whose quarterly rating change they are less likely to churn.\n",
    "--> Same like quarterly rating change if there is an income change then the drivers are less likely to churn"
   ]
  },
  {
   "cell_type": "code",
   "execution_count": 67,
   "metadata": {},
   "outputs": [
    {
     "data": {
      "image/png": "[encoded data removed]",
      "text/plain": [
       "<Figure size 936x720 with 2 Axes>"
      ]
     },
     "metadata": {
      "needs_background": "light"
     },
     "output_type": "display_data"
    }
   ],
   "source": [
    "plt.figure(figsize=(13,10))\n",
    "sns.heatmap(grouped_df.corr(),annot=True)\n",
    "plt.show()"
   ]
  },
  {
   "cell_type": "code",
   "execution_count": 68,
   "metadata": {},
   "outputs": [
    {
     "name": "stdout",
     "output_type": "stream",
     "text": [
      "reporting_start_date 24\n",
      "reporting_end_date 24\n",
      "age 36\n",
      "gender 2\n",
      "city 29\n",
      "education 3\n",
      "joining_income 2339\n",
      "current_income 2339\n",
      "joining_date 869\n",
      "exit_date 493\n",
      "designation 5\n",
      "initial_grade 5\n",
      "current_grade 5\n",
      "total_bussiness 1626\n",
      "initial_rating 4\n",
      "current_rating 4\n",
      "quarterly_rating 2\n",
      "income_change 2\n",
      "churn 2\n"
     ]
    }
   ],
   "source": [
    "for i in grouped_df.columns:\n",
    "    print(i,grouped_df[i].nunique())"
   ]
  },
  {
   "cell_type": "raw",
   "metadata": {},
   "source": [
    "Dropping useless features"
   ]
  },
  {
   "cell_type": "code",
   "execution_count": 69,
   "metadata": {},
   "outputs": [],
   "source": [
    "grouped_df.drop(['initial_rating','current_rating','initial_grade','joining_date','exit_date','joining_date'],\n",
    "                inplace = True,axis=1)"
   ]
  },
  {
   "cell_type": "code",
   "execution_count": 70,
   "metadata": {},
   "outputs": [
    {
     "name": "stdout",
     "output_type": "stream",
     "text": [
      "reporting_start_date 24\n",
      "reporting_end_date 24\n",
      "age 36\n",
      "gender 2\n",
      "city 29\n",
      "education 3\n",
      "joining_income 2339\n",
      "current_income 2339\n",
      "designation 5\n",
      "current_grade 5\n",
      "total_bussiness 1626\n",
      "quarterly_rating 2\n",
      "income_change 2\n",
      "churn 2\n"
     ]
    }
   ],
   "source": [
    "for i in grouped_df.columns:\n",
    "    print(i,grouped_df[i].nunique())"
   ]
  },
  {
   "cell_type": "code",
   "execution_count": 71,
   "metadata": {},
   "outputs": [
    {
     "data": {
      "text/html": [
       "<div>\n",
       "<style scoped>\n",
       "    .dataframe tbody tr th:only-of-type {\n",
       "        vertical-align: middle;\n",
       "    }\n",
       "\n",
       "    .dataframe tbody tr th {\n",
       "        vertical-align: top;\n",
       "    }\n",
       "\n",
       "    .dataframe thead th {\n",
       "        text-align: right;\n",
       "    }\n",
       "</style>\n",
       "<table border=\"1\" class=\"dataframe\">\n",
       "  <thead>\n",
       "    <tr style=\"text-align: right;\">\n",
       "      <th></th>\n",
       "      <th>reporting_start_date</th>\n",
       "      <th>reporting_end_date</th>\n",
       "      <th>age</th>\n",
       "      <th>gender</th>\n",
       "      <th>city</th>\n",
       "      <th>education</th>\n",
       "      <th>joining_income</th>\n",
       "      <th>current_income</th>\n",
       "      <th>designation</th>\n",
       "      <th>current_grade</th>\n",
       "      <th>total_bussiness</th>\n",
       "      <th>quarterly_rating</th>\n",
       "      <th>income_change</th>\n",
       "      <th>churn</th>\n",
       "    </tr>\n",
       "    <tr>\n",
       "      <th>Driver_ID</th>\n",
       "      <th></th>\n",
       "      <th></th>\n",
       "      <th></th>\n",
       "      <th></th>\n",
       "      <th></th>\n",
       "      <th></th>\n",
       "      <th></th>\n",
       "      <th></th>\n",
       "      <th></th>\n",
       "      <th></th>\n",
       "      <th></th>\n",
       "      <th></th>\n",
       "      <th></th>\n",
       "      <th></th>\n",
       "    </tr>\n",
       "  </thead>\n",
       "  <tbody>\n",
       "    <tr>\n",
       "      <th>1</th>\n",
       "      <td>2019-01-01</td>\n",
       "      <td>2019-03-01</td>\n",
       "      <td>28.0</td>\n",
       "      <td>0.0</td>\n",
       "      <td>0.105948</td>\n",
       "      <td>2</td>\n",
       "      <td>57387</td>\n",
       "      <td>57387</td>\n",
       "      <td>1</td>\n",
       "      <td>1</td>\n",
       "      <td>1715580</td>\n",
       "      <td>0</td>\n",
       "      <td>0</td>\n",
       "      <td>1</td>\n",
       "    </tr>\n",
       "    <tr>\n",
       "      <th>2</th>\n",
       "      <td>2020-11-01</td>\n",
       "      <td>2020-12-01</td>\n",
       "      <td>31.0</td>\n",
       "      <td>0.0</td>\n",
       "      <td>0.085386</td>\n",
       "      <td>2</td>\n",
       "      <td>67016</td>\n",
       "      <td>67016</td>\n",
       "      <td>2</td>\n",
       "      <td>2</td>\n",
       "      <td>0</td>\n",
       "      <td>0</td>\n",
       "      <td>0</td>\n",
       "      <td>0</td>\n",
       "    </tr>\n",
       "    <tr>\n",
       "      <th>4</th>\n",
       "      <td>2019-12-01</td>\n",
       "      <td>2020-04-01</td>\n",
       "      <td>43.0</td>\n",
       "      <td>0.0</td>\n",
       "      <td>0.101933</td>\n",
       "      <td>2</td>\n",
       "      <td>65603</td>\n",
       "      <td>65603</td>\n",
       "      <td>2</td>\n",
       "      <td>2</td>\n",
       "      <td>350000</td>\n",
       "      <td>0</td>\n",
       "      <td>0</td>\n",
       "      <td>1</td>\n",
       "    </tr>\n",
       "    <tr>\n",
       "      <th>5</th>\n",
       "      <td>2019-01-01</td>\n",
       "      <td>2019-03-01</td>\n",
       "      <td>29.0</td>\n",
       "      <td>0.0</td>\n",
       "      <td>0.101923</td>\n",
       "      <td>0</td>\n",
       "      <td>46368</td>\n",
       "      <td>46368</td>\n",
       "      <td>1</td>\n",
       "      <td>1</td>\n",
       "      <td>120360</td>\n",
       "      <td>0</td>\n",
       "      <td>0</td>\n",
       "      <td>1</td>\n",
       "    </tr>\n",
       "    <tr>\n",
       "      <th>6</th>\n",
       "      <td>2020-08-01</td>\n",
       "      <td>2020-12-01</td>\n",
       "      <td>31.0</td>\n",
       "      <td>1.0</td>\n",
       "      <td>0.096154</td>\n",
       "      <td>1</td>\n",
       "      <td>78728</td>\n",
       "      <td>78728</td>\n",
       "      <td>3</td>\n",
       "      <td>3</td>\n",
       "      <td>1265000</td>\n",
       "      <td>1</td>\n",
       "      <td>0</td>\n",
       "      <td>0</td>\n",
       "    </tr>\n",
       "  </tbody>\n",
       "</table>\n",
       "</div>"
      ],
      "text/plain": [
       "          reporting_start_date reporting_end_date   age  gender      city  \\\n",
       "Driver_ID                                                                   \n",
       "1                   2019-01-01         2019-03-01  28.0     0.0  0.105948   \n",
       "2                   2020-11-01         2020-12-01  31.0     0.0  0.085386   \n",
       "4                   2019-12-01         2020-04-01  43.0     0.0  0.101933   \n",
       "5                   2019-01-01         2019-03-01  29.0     0.0  0.101923   \n",
       "6                   2020-08-01         2020-12-01  31.0     1.0  0.096154   \n",
       "\n",
       "           education  joining_income  current_income  designation  \\\n",
       "Driver_ID                                                           \n",
       "1                  2           57387           57387            1   \n",
       "2                  2           67016           67016            2   \n",
       "4                  2           65603           65603            2   \n",
       "5                  0           46368           46368            1   \n",
       "6                  1           78728           78728            3   \n",
       "\n",
       "           current_grade  total_bussiness  quarterly_rating  income_change  \\\n",
       "Driver_ID                                                                    \n",
       "1                      1          1715580                 0              0   \n",
       "2                      2                0                 0              0   \n",
       "4                      2           350000                 0              0   \n",
       "5                      1           120360                 0              0   \n",
       "6                      3          1265000                 1              0   \n",
       "\n",
       "           churn  \n",
       "Driver_ID         \n",
       "1              1  \n",
       "2              0  \n",
       "4              1  \n",
       "5              1  \n",
       "6              0  "
      ]
     },
     "execution_count": 71,
     "metadata": {},
     "output_type": "execute_result"
    }
   ],
   "source": [
    "grouped_df.head()"
   ]
  },
  {
   "cell_type": "raw",
   "metadata": {},
   "source": [
    "One-hot encoding for education feature as it is having only 3 unique values"
   ]
  },
  {
   "cell_type": "code",
   "execution_count": 72,
   "metadata": {},
   "outputs": [],
   "source": [
    "edu=pd.get_dummies(grouped_df['education'],prefix='education',drop_first=True)\n",
    "grouped_df=pd.concat([grouped_df,edu],axis=1)"
   ]
  },
  {
   "cell_type": "code",
   "execution_count": 73,
   "metadata": {},
   "outputs": [
    {
     "data": {
      "text/html": [
       "<div>\n",
       "<style scoped>\n",
       "    .dataframe tbody tr th:only-of-type {\n",
       "        vertical-align: middle;\n",
       "    }\n",
       "\n",
       "    .dataframe tbody tr th {\n",
       "        vertical-align: top;\n",
       "    }\n",
       "\n",
       "    .dataframe thead th {\n",
       "        text-align: right;\n",
       "    }\n",
       "</style>\n",
       "<table border=\"1\" class=\"dataframe\">\n",
       "  <thead>\n",
       "    <tr style=\"text-align: right;\">\n",
       "      <th></th>\n",
       "      <th>reporting_start_date</th>\n",
       "      <th>reporting_end_date</th>\n",
       "      <th>age</th>\n",
       "      <th>gender</th>\n",
       "      <th>city</th>\n",
       "      <th>education</th>\n",
       "      <th>joining_income</th>\n",
       "      <th>current_income</th>\n",
       "      <th>designation</th>\n",
       "      <th>current_grade</th>\n",
       "      <th>total_bussiness</th>\n",
       "      <th>quarterly_rating</th>\n",
       "      <th>income_change</th>\n",
       "      <th>churn</th>\n",
       "      <th>education_1</th>\n",
       "      <th>education_2</th>\n",
       "    </tr>\n",
       "    <tr>\n",
       "      <th>Driver_ID</th>\n",
       "      <th></th>\n",
       "      <th></th>\n",
       "      <th></th>\n",
       "      <th></th>\n",
       "      <th></th>\n",
       "      <th></th>\n",
       "      <th></th>\n",
       "      <th></th>\n",
       "      <th></th>\n",
       "      <th></th>\n",
       "      <th></th>\n",
       "      <th></th>\n",
       "      <th></th>\n",
       "      <th></th>\n",
       "      <th></th>\n",
       "      <th></th>\n",
       "    </tr>\n",
       "  </thead>\n",
       "  <tbody>\n",
       "    <tr>\n",
       "      <th>1</th>\n",
       "      <td>2019-01-01</td>\n",
       "      <td>2019-03-01</td>\n",
       "      <td>28.0</td>\n",
       "      <td>0.0</td>\n",
       "      <td>0.105948</td>\n",
       "      <td>2</td>\n",
       "      <td>57387</td>\n",
       "      <td>57387</td>\n",
       "      <td>1</td>\n",
       "      <td>1</td>\n",
       "      <td>1715580</td>\n",
       "      <td>0</td>\n",
       "      <td>0</td>\n",
       "      <td>1</td>\n",
       "      <td>0</td>\n",
       "      <td>1</td>\n",
       "    </tr>\n",
       "    <tr>\n",
       "      <th>2</th>\n",
       "      <td>2020-11-01</td>\n",
       "      <td>2020-12-01</td>\n",
       "      <td>31.0</td>\n",
       "      <td>0.0</td>\n",
       "      <td>0.085386</td>\n",
       "      <td>2</td>\n",
       "      <td>67016</td>\n",
       "      <td>67016</td>\n",
       "      <td>2</td>\n",
       "      <td>2</td>\n",
       "      <td>0</td>\n",
       "      <td>0</td>\n",
       "      <td>0</td>\n",
       "      <td>0</td>\n",
       "      <td>0</td>\n",
       "      <td>1</td>\n",
       "    </tr>\n",
       "    <tr>\n",
       "      <th>4</th>\n",
       "      <td>2019-12-01</td>\n",
       "      <td>2020-04-01</td>\n",
       "      <td>43.0</td>\n",
       "      <td>0.0</td>\n",
       "      <td>0.101933</td>\n",
       "      <td>2</td>\n",
       "      <td>65603</td>\n",
       "      <td>65603</td>\n",
       "      <td>2</td>\n",
       "      <td>2</td>\n",
       "      <td>350000</td>\n",
       "      <td>0</td>\n",
       "      <td>0</td>\n",
       "      <td>1</td>\n",
       "      <td>0</td>\n",
       "      <td>1</td>\n",
       "    </tr>\n",
       "    <tr>\n",
       "      <th>5</th>\n",
       "      <td>2019-01-01</td>\n",
       "      <td>2019-03-01</td>\n",
       "      <td>29.0</td>\n",
       "      <td>0.0</td>\n",
       "      <td>0.101923</td>\n",
       "      <td>0</td>\n",
       "      <td>46368</td>\n",
       "      <td>46368</td>\n",
       "      <td>1</td>\n",
       "      <td>1</td>\n",
       "      <td>120360</td>\n",
       "      <td>0</td>\n",
       "      <td>0</td>\n",
       "      <td>1</td>\n",
       "      <td>0</td>\n",
       "      <td>0</td>\n",
       "    </tr>\n",
       "    <tr>\n",
       "      <th>6</th>\n",
       "      <td>2020-08-01</td>\n",
       "      <td>2020-12-01</td>\n",
       "      <td>31.0</td>\n",
       "      <td>1.0</td>\n",
       "      <td>0.096154</td>\n",
       "      <td>1</td>\n",
       "      <td>78728</td>\n",
       "      <td>78728</td>\n",
       "      <td>3</td>\n",
       "      <td>3</td>\n",
       "      <td>1265000</td>\n",
       "      <td>1</td>\n",
       "      <td>0</td>\n",
       "      <td>0</td>\n",
       "      <td>1</td>\n",
       "      <td>0</td>\n",
       "    </tr>\n",
       "  </tbody>\n",
       "</table>\n",
       "</div>"
      ],
      "text/plain": [
       "          reporting_start_date reporting_end_date   age  gender      city  \\\n",
       "Driver_ID                                                                   \n",
       "1                   2019-01-01         2019-03-01  28.0     0.0  0.105948   \n",
       "2                   2020-11-01         2020-12-01  31.0     0.0  0.085386   \n",
       "4                   2019-12-01         2020-04-01  43.0     0.0  0.101933   \n",
       "5                   2019-01-01         2019-03-01  29.0     0.0  0.101923   \n",
       "6                   2020-08-01         2020-12-01  31.0     1.0  0.096154   \n",
       "\n",
       "           education  joining_income  current_income  designation  \\\n",
       "Driver_ID                                                           \n",
       "1                  2           57387           57387            1   \n",
       "2                  2           67016           67016            2   \n",
       "4                  2           65603           65603            2   \n",
       "5                  0           46368           46368            1   \n",
       "6                  1           78728           78728            3   \n",
       "\n",
       "           current_grade  total_bussiness  quarterly_rating  income_change  \\\n",
       "Driver_ID                                                                    \n",
       "1                      1          1715580                 0              0   \n",
       "2                      2                0                 0              0   \n",
       "4                      2           350000                 0              0   \n",
       "5                      1           120360                 0              0   \n",
       "6                      3          1265000                 1              0   \n",
       "\n",
       "           churn  education_1  education_2  \n",
       "Driver_ID                                   \n",
       "1              1            0            1  \n",
       "2              0            0            1  \n",
       "4              1            0            1  \n",
       "5              1            0            0  \n",
       "6              0            1            0  "
      ]
     },
     "execution_count": 73,
     "metadata": {},
     "output_type": "execute_result"
    }
   ],
   "source": [
    "grouped_df.head()"
   ]
  },
  {
   "cell_type": "code",
   "execution_count": 74,
   "metadata": {},
   "outputs": [],
   "source": [
    "grouped_df = grouped_df.reset_index()"
   ]
  },
  {
   "cell_type": "code",
   "execution_count": 75,
   "metadata": {},
   "outputs": [
    {
     "data": {
      "text/html": [
       "<div>\n",
       "<style scoped>\n",
       "    .dataframe tbody tr th:only-of-type {\n",
       "        vertical-align: middle;\n",
       "    }\n",
       "\n",
       "    .dataframe tbody tr th {\n",
       "        vertical-align: top;\n",
       "    }\n",
       "\n",
       "    .dataframe thead th {\n",
       "        text-align: right;\n",
       "    }\n",
       "</style>\n",
       "<table border=\"1\" class=\"dataframe\">\n",
       "  <thead>\n",
       "    <tr style=\"text-align: right;\">\n",
       "      <th></th>\n",
       "      <th>Driver_ID</th>\n",
       "      <th>reporting_start_date</th>\n",
       "      <th>reporting_end_date</th>\n",
       "      <th>age</th>\n",
       "      <th>gender</th>\n",
       "      <th>city</th>\n",
       "      <th>education</th>\n",
       "      <th>joining_income</th>\n",
       "      <th>current_income</th>\n",
       "      <th>designation</th>\n",
       "      <th>current_grade</th>\n",
       "      <th>total_bussiness</th>\n",
       "      <th>quarterly_rating</th>\n",
       "      <th>income_change</th>\n",
       "      <th>churn</th>\n",
       "      <th>education_1</th>\n",
       "      <th>education_2</th>\n",
       "    </tr>\n",
       "  </thead>\n",
       "  <tbody>\n",
       "    <tr>\n",
       "      <th>0</th>\n",
       "      <td>1</td>\n",
       "      <td>2019-01-01</td>\n",
       "      <td>2019-03-01</td>\n",
       "      <td>28.0</td>\n",
       "      <td>0.0</td>\n",
       "      <td>0.105948</td>\n",
       "      <td>2</td>\n",
       "      <td>57387</td>\n",
       "      <td>57387</td>\n",
       "      <td>1</td>\n",
       "      <td>1</td>\n",
       "      <td>1715580</td>\n",
       "      <td>0</td>\n",
       "      <td>0</td>\n",
       "      <td>1</td>\n",
       "      <td>0</td>\n",
       "      <td>1</td>\n",
       "    </tr>\n",
       "    <tr>\n",
       "      <th>1</th>\n",
       "      <td>2</td>\n",
       "      <td>2020-11-01</td>\n",
       "      <td>2020-12-01</td>\n",
       "      <td>31.0</td>\n",
       "      <td>0.0</td>\n",
       "      <td>0.085386</td>\n",
       "      <td>2</td>\n",
       "      <td>67016</td>\n",
       "      <td>67016</td>\n",
       "      <td>2</td>\n",
       "      <td>2</td>\n",
       "      <td>0</td>\n",
       "      <td>0</td>\n",
       "      <td>0</td>\n",
       "      <td>0</td>\n",
       "      <td>0</td>\n",
       "      <td>1</td>\n",
       "    </tr>\n",
       "    <tr>\n",
       "      <th>2</th>\n",
       "      <td>4</td>\n",
       "      <td>2019-12-01</td>\n",
       "      <td>2020-04-01</td>\n",
       "      <td>43.0</td>\n",
       "      <td>0.0</td>\n",
       "      <td>0.101933</td>\n",
       "      <td>2</td>\n",
       "      <td>65603</td>\n",
       "      <td>65603</td>\n",
       "      <td>2</td>\n",
       "      <td>2</td>\n",
       "      <td>350000</td>\n",
       "      <td>0</td>\n",
       "      <td>0</td>\n",
       "      <td>1</td>\n",
       "      <td>0</td>\n",
       "      <td>1</td>\n",
       "    </tr>\n",
       "    <tr>\n",
       "      <th>3</th>\n",
       "      <td>5</td>\n",
       "      <td>2019-01-01</td>\n",
       "      <td>2019-03-01</td>\n",
       "      <td>29.0</td>\n",
       "      <td>0.0</td>\n",
       "      <td>0.101923</td>\n",
       "      <td>0</td>\n",
       "      <td>46368</td>\n",
       "      <td>46368</td>\n",
       "      <td>1</td>\n",
       "      <td>1</td>\n",
       "      <td>120360</td>\n",
       "      <td>0</td>\n",
       "      <td>0</td>\n",
       "      <td>1</td>\n",
       "      <td>0</td>\n",
       "      <td>0</td>\n",
       "    </tr>\n",
       "    <tr>\n",
       "      <th>4</th>\n",
       "      <td>6</td>\n",
       "      <td>2020-08-01</td>\n",
       "      <td>2020-12-01</td>\n",
       "      <td>31.0</td>\n",
       "      <td>1.0</td>\n",
       "      <td>0.096154</td>\n",
       "      <td>1</td>\n",
       "      <td>78728</td>\n",
       "      <td>78728</td>\n",
       "      <td>3</td>\n",
       "      <td>3</td>\n",
       "      <td>1265000</td>\n",
       "      <td>1</td>\n",
       "      <td>0</td>\n",
       "      <td>0</td>\n",
       "      <td>1</td>\n",
       "      <td>0</td>\n",
       "    </tr>\n",
       "  </tbody>\n",
       "</table>\n",
       "</div>"
      ],
      "text/plain": [
       "   Driver_ID reporting_start_date reporting_end_date   age  gender      city  \\\n",
       "0          1           2019-01-01         2019-03-01  28.0     0.0  0.105948   \n",
       "1          2           2020-11-01         2020-12-01  31.0     0.0  0.085386   \n",
       "2          4           2019-12-01         2020-04-01  43.0     0.0  0.101933   \n",
       "3          5           2019-01-01         2019-03-01  29.0     0.0  0.101923   \n",
       "4          6           2020-08-01         2020-12-01  31.0     1.0  0.096154   \n",
       "\n",
       "   education  joining_income  current_income  designation  current_grade  \\\n",
       "0          2           57387           57387            1              1   \n",
       "1          2           67016           67016            2              2   \n",
       "2          2           65603           65603            2              2   \n",
       "3          0           46368           46368            1              1   \n",
       "4          1           78728           78728            3              3   \n",
       "\n",
       "   total_bussiness  quarterly_rating  income_change  churn  education_1  \\\n",
       "0          1715580                 0              0      1            0   \n",
       "1                0                 0              0      0            0   \n",
       "2           350000                 0              0      1            0   \n",
       "3           120360                 0              0      1            0   \n",
       "4          1265000                 1              0      0            1   \n",
       "\n",
       "   education_2  \n",
       "0            1  \n",
       "1            1  \n",
       "2            1  \n",
       "3            0  \n",
       "4            0  "
      ]
     },
     "execution_count": 75,
     "metadata": {},
     "output_type": "execute_result"
    }
   ],
   "source": [
    "grouped_df.head()"
   ]
  },
  {
   "cell_type": "code",
   "execution_count": 76,
   "metadata": {},
   "outputs": [],
   "source": [
    "grouped_df.drop(['reporting_start_date','reporting_end_date'],axis = 1,inplace = True)"
   ]
  },
  {
   "cell_type": "code",
   "execution_count": 77,
   "metadata": {},
   "outputs": [
    {
     "data": {
      "text/plain": [
       "Index(['Driver_ID', 'age', 'gender', 'city', 'education', 'joining_income',\n",
       "       'current_income', 'designation', 'current_grade', 'total_bussiness',\n",
       "       'quarterly_rating', 'income_change', 'churn', 'education_1',\n",
       "       'education_2'],\n",
       "      dtype='object')"
      ]
     },
     "execution_count": 77,
     "metadata": {},
     "output_type": "execute_result"
    }
   ],
   "source": [
    "grouped_df.columns"
   ]
  },
  {
   "cell_type": "raw",
   "metadata": {},
   "source": [
    "Outliers"
   ]
  },
  {
   "cell_type": "code",
   "execution_count": 78,
   "metadata": {},
   "outputs": [
    {
     "name": "stderr",
     "output_type": "stream",
     "text": [
      "C:\\ProgramData\\Anaconda3\\lib\\site-packages\\seaborn\\_decorators.py:36: FutureWarning: Pass the following variable as a keyword arg: x. From version 0.12, the only valid positional argument will be `data`, and passing other arguments without an explicit keyword will result in an error or misinterpretation.\n",
      "  warnings.warn(\n"
     ]
    },
    {
     "data": {
      "text/plain": [
       "<AxesSubplot:xlabel='joining_income'>"
      ]
     },
     "execution_count": 78,
     "metadata": {},
     "output_type": "execute_result"
    },
    {
     "data": {
      "image/png": "[encoded data removed]",
      "text/plain": [
       "<Figure size 432x288 with 1 Axes>"
      ]
     },
     "metadata": {
      "needs_background": "light"
     },
     "output_type": "display_data"
    }
   ],
   "source": [
    "sns.boxplot(grouped_df['joining_income'])"
   ]
  },
  {
   "cell_type": "code",
   "execution_count": 79,
   "metadata": {},
   "outputs": [
    {
     "name": "stderr",
     "output_type": "stream",
     "text": [
      "C:\\ProgramData\\Anaconda3\\lib\\site-packages\\seaborn\\_decorators.py:36: FutureWarning: Pass the following variable as a keyword arg: x. From version 0.12, the only valid positional argument will be `data`, and passing other arguments without an explicit keyword will result in an error or misinterpretation.\n",
      "  warnings.warn(\n"
     ]
    },
    {
     "data": {
      "text/plain": [
       "<AxesSubplot:xlabel='current_income'>"
      ]
     },
     "execution_count": 79,
     "metadata": {},
     "output_type": "execute_result"
    },
    {
     "data": {
      "image/png": "[encoded data removed]",
      "text/plain": [
       "<Figure size 432x288 with 1 Axes>"
      ]
     },
     "metadata": {
      "needs_background": "light"
     },
     "output_type": "display_data"
    }
   ],
   "source": [
    "sns.boxplot(grouped_df['current_income'])"
   ]
  },
  {
   "cell_type": "code",
   "execution_count": 80,
   "metadata": {},
   "outputs": [
    {
     "data": {
      "text/html": [
       "<div>\n",
       "<style scoped>\n",
       "    .dataframe tbody tr th:only-of-type {\n",
       "        vertical-align: middle;\n",
       "    }\n",
       "\n",
       "    .dataframe tbody tr th {\n",
       "        vertical-align: top;\n",
       "    }\n",
       "\n",
       "    .dataframe thead th {\n",
       "        text-align: right;\n",
       "    }\n",
       "</style>\n",
       "<table border=\"1\" class=\"dataframe\">\n",
       "  <thead>\n",
       "    <tr style=\"text-align: right;\">\n",
       "      <th></th>\n",
       "      <th>count</th>\n",
       "      <th>mean</th>\n",
       "      <th>std</th>\n",
       "      <th>min</th>\n",
       "      <th>25%</th>\n",
       "      <th>50%</th>\n",
       "      <th>75%</th>\n",
       "      <th>max</th>\n",
       "    </tr>\n",
       "  </thead>\n",
       "  <tbody>\n",
       "    <tr>\n",
       "      <th>Driver_ID</th>\n",
       "      <td>2381.0</td>\n",
       "      <td>1.397559e+03</td>\n",
       "      <td>8.061616e+02</td>\n",
       "      <td>1.000000e+00</td>\n",
       "      <td>695.000000</td>\n",
       "      <td>1400.000000</td>\n",
       "      <td>2.100000e+03</td>\n",
       "      <td>2.788000e+03</td>\n",
       "    </tr>\n",
       "    <tr>\n",
       "      <th>age</th>\n",
       "      <td>2381.0</td>\n",
       "      <td>3.378958e+01</td>\n",
       "      <td>5.908034e+00</td>\n",
       "      <td>2.100000e+01</td>\n",
       "      <td>30.000000</td>\n",
       "      <td>33.000000</td>\n",
       "      <td>3.700000e+01</td>\n",
       "      <td>5.800000e+01</td>\n",
       "    </tr>\n",
       "    <tr>\n",
       "      <th>gender</th>\n",
       "      <td>2381.0</td>\n",
       "      <td>4.103318e-01</td>\n",
       "      <td>4.919972e-01</td>\n",
       "      <td>0.000000e+00</td>\n",
       "      <td>0.000000</td>\n",
       "      <td>0.000000</td>\n",
       "      <td>1.000000e+00</td>\n",
       "      <td>1.000000e+00</td>\n",
       "    </tr>\n",
       "    <tr>\n",
       "      <th>city</th>\n",
       "      <td>2381.0</td>\n",
       "      <td>8.606014e-02</td>\n",
       "      <td>1.561639e-02</td>\n",
       "      <td>5.666667e-02</td>\n",
       "      <td>0.074799</td>\n",
       "      <td>0.083062</td>\n",
       "      <td>9.246575e-02</td>\n",
       "      <td>1.250000e-01</td>\n",
       "    </tr>\n",
       "    <tr>\n",
       "      <th>education</th>\n",
       "      <td>2381.0</td>\n",
       "      <td>1.007560e+00</td>\n",
       "      <td>8.162900e-01</td>\n",
       "      <td>0.000000e+00</td>\n",
       "      <td>0.000000</td>\n",
       "      <td>1.000000</td>\n",
       "      <td>2.000000e+00</td>\n",
       "      <td>2.000000e+00</td>\n",
       "    </tr>\n",
       "    <tr>\n",
       "      <th>joining_income</th>\n",
       "      <td>2381.0</td>\n",
       "      <td>5.920906e+04</td>\n",
       "      <td>2.827590e+04</td>\n",
       "      <td>1.074700e+04</td>\n",
       "      <td>39104.000000</td>\n",
       "      <td>55276.000000</td>\n",
       "      <td>7.576500e+04</td>\n",
       "      <td>1.884180e+05</td>\n",
       "    </tr>\n",
       "    <tr>\n",
       "      <th>current_income</th>\n",
       "      <td>2381.0</td>\n",
       "      <td>5.933616e+04</td>\n",
       "      <td>2.838301e+04</td>\n",
       "      <td>1.074700e+04</td>\n",
       "      <td>39104.000000</td>\n",
       "      <td>55315.000000</td>\n",
       "      <td>7.598600e+04</td>\n",
       "      <td>1.884180e+05</td>\n",
       "    </tr>\n",
       "    <tr>\n",
       "      <th>designation</th>\n",
       "      <td>2381.0</td>\n",
       "      <td>1.820244e+00</td>\n",
       "      <td>8.414334e-01</td>\n",
       "      <td>1.000000e+00</td>\n",
       "      <td>1.000000</td>\n",
       "      <td>2.000000</td>\n",
       "      <td>2.000000e+00</td>\n",
       "      <td>5.000000e+00</td>\n",
       "    </tr>\n",
       "    <tr>\n",
       "      <th>current_grade</th>\n",
       "      <td>2381.0</td>\n",
       "      <td>2.097018e+00</td>\n",
       "      <td>9.417017e-01</td>\n",
       "      <td>1.000000e+00</td>\n",
       "      <td>1.000000</td>\n",
       "      <td>2.000000</td>\n",
       "      <td>3.000000e+00</td>\n",
       "      <td>5.000000e+00</td>\n",
       "    </tr>\n",
       "    <tr>\n",
       "      <th>total_bussiness</th>\n",
       "      <td>2381.0</td>\n",
       "      <td>4.579832e+06</td>\n",
       "      <td>9.119725e+06</td>\n",
       "      <td>-1.385530e+06</td>\n",
       "      <td>0.000000</td>\n",
       "      <td>807040.000000</td>\n",
       "      <td>4.169060e+06</td>\n",
       "      <td>9.533106e+07</td>\n",
       "    </tr>\n",
       "    <tr>\n",
       "      <th>quarterly_rating</th>\n",
       "      <td>2381.0</td>\n",
       "      <td>4.632507e-01</td>\n",
       "      <td>4.987524e-01</td>\n",
       "      <td>0.000000e+00</td>\n",
       "      <td>0.000000</td>\n",
       "      <td>0.000000</td>\n",
       "      <td>1.000000e+00</td>\n",
       "      <td>1.000000e+00</td>\n",
       "    </tr>\n",
       "    <tr>\n",
       "      <th>income_change</th>\n",
       "      <td>2381.0</td>\n",
       "      <td>1.847963e-02</td>\n",
       "      <td>1.347062e-01</td>\n",
       "      <td>0.000000e+00</td>\n",
       "      <td>0.000000</td>\n",
       "      <td>0.000000</td>\n",
       "      <td>0.000000e+00</td>\n",
       "      <td>1.000000e+00</td>\n",
       "    </tr>\n",
       "    <tr>\n",
       "      <th>churn</th>\n",
       "      <td>2381.0</td>\n",
       "      <td>6.766065e-01</td>\n",
       "      <td>4.678697e-01</td>\n",
       "      <td>0.000000e+00</td>\n",
       "      <td>0.000000</td>\n",
       "      <td>1.000000</td>\n",
       "      <td>1.000000e+00</td>\n",
       "      <td>1.000000e+00</td>\n",
       "    </tr>\n",
       "    <tr>\n",
       "      <th>education_1</th>\n",
       "      <td>2381.0</td>\n",
       "      <td>3.338933e-01</td>\n",
       "      <td>4.717012e-01</td>\n",
       "      <td>0.000000e+00</td>\n",
       "      <td>0.000000</td>\n",
       "      <td>0.000000</td>\n",
       "      <td>1.000000e+00</td>\n",
       "      <td>1.000000e+00</td>\n",
       "    </tr>\n",
       "    <tr>\n",
       "      <th>education_2</th>\n",
       "      <td>2381.0</td>\n",
       "      <td>3.368333e-01</td>\n",
       "      <td>4.727266e-01</td>\n",
       "      <td>0.000000e+00</td>\n",
       "      <td>0.000000</td>\n",
       "      <td>0.000000</td>\n",
       "      <td>1.000000e+00</td>\n",
       "      <td>1.000000e+00</td>\n",
       "    </tr>\n",
       "  </tbody>\n",
       "</table>\n",
       "</div>"
      ],
      "text/plain": [
       "                   count          mean           std           min  \\\n",
       "Driver_ID         2381.0  1.397559e+03  8.061616e+02  1.000000e+00   \n",
       "age               2381.0  3.378958e+01  5.908034e+00  2.100000e+01   \n",
       "gender            2381.0  4.103318e-01  4.919972e-01  0.000000e+00   \n",
       "city              2381.0  8.606014e-02  1.561639e-02  5.666667e-02   \n",
       "education         2381.0  1.007560e+00  8.162900e-01  0.000000e+00   \n",
       "joining_income    2381.0  5.920906e+04  2.827590e+04  1.074700e+04   \n",
       "current_income    2381.0  5.933616e+04  2.838301e+04  1.074700e+04   \n",
       "designation       2381.0  1.820244e+00  8.414334e-01  1.000000e+00   \n",
       "current_grade     2381.0  2.097018e+00  9.417017e-01  1.000000e+00   \n",
       "total_bussiness   2381.0  4.579832e+06  9.119725e+06 -1.385530e+06   \n",
       "quarterly_rating  2381.0  4.632507e-01  4.987524e-01  0.000000e+00   \n",
       "income_change     2381.0  1.847963e-02  1.347062e-01  0.000000e+00   \n",
       "churn             2381.0  6.766065e-01  4.678697e-01  0.000000e+00   \n",
       "education_1       2381.0  3.338933e-01  4.717012e-01  0.000000e+00   \n",
       "education_2       2381.0  3.368333e-01  4.727266e-01  0.000000e+00   \n",
       "\n",
       "                           25%            50%           75%           max  \n",
       "Driver_ID           695.000000    1400.000000  2.100000e+03  2.788000e+03  \n",
       "age                  30.000000      33.000000  3.700000e+01  5.800000e+01  \n",
       "gender                0.000000       0.000000  1.000000e+00  1.000000e+00  \n",
       "city                  0.074799       0.083062  9.246575e-02  1.250000e-01  \n",
       "education             0.000000       1.000000  2.000000e+00  2.000000e+00  \n",
       "joining_income    39104.000000   55276.000000  7.576500e+04  1.884180e+05  \n",
       "current_income    39104.000000   55315.000000  7.598600e+04  1.884180e+05  \n",
       "designation           1.000000       2.000000  2.000000e+00  5.000000e+00  \n",
       "current_grade         1.000000       2.000000  3.000000e+00  5.000000e+00  \n",
       "total_bussiness       0.000000  807040.000000  4.169060e+06  9.533106e+07  \n",
       "quarterly_rating      0.000000       0.000000  1.000000e+00  1.000000e+00  \n",
       "income_change         0.000000       0.000000  0.000000e+00  1.000000e+00  \n",
       "churn                 0.000000       1.000000  1.000000e+00  1.000000e+00  \n",
       "education_1           0.000000       0.000000  1.000000e+00  1.000000e+00  \n",
       "education_2           0.000000       0.000000  1.000000e+00  1.000000e+00  "
      ]
     },
     "execution_count": 80,
     "metadata": {},
     "output_type": "execute_result"
    }
   ],
   "source": [
    "grouped_df.describe().T"
   ]
  },
  {
   "cell_type": "code",
   "execution_count": 81,
   "metadata": {},
   "outputs": [
    {
     "data": {
      "text/plain": [
       "(2381, 15)"
      ]
     },
     "execution_count": 81,
     "metadata": {},
     "output_type": "execute_result"
    }
   ],
   "source": [
    "grouped_df.shape"
   ]
  },
  {
   "cell_type": "code",
   "execution_count": 82,
   "metadata": {},
   "outputs": [
    {
     "data": {
      "text/html": [
       "<div>\n",
       "<style scoped>\n",
       "    .dataframe tbody tr th:only-of-type {\n",
       "        vertical-align: middle;\n",
       "    }\n",
       "\n",
       "    .dataframe tbody tr th {\n",
       "        vertical-align: top;\n",
       "    }\n",
       "\n",
       "    .dataframe thead th {\n",
       "        text-align: right;\n",
       "    }\n",
       "</style>\n",
       "<table border=\"1\" class=\"dataframe\">\n",
       "  <thead>\n",
       "    <tr style=\"text-align: right;\">\n",
       "      <th></th>\n",
       "      <th>0.05</th>\n",
       "      <th>0.10</th>\n",
       "      <th>0.50</th>\n",
       "      <th>0.70</th>\n",
       "      <th>0.80</th>\n",
       "      <th>0.90</th>\n",
       "      <th>0.95</th>\n",
       "      <th>0.97</th>\n",
       "      <th>0.98</th>\n",
       "      <th>0.99</th>\n",
       "      <th>1.00</th>\n",
       "    </tr>\n",
       "  </thead>\n",
       "  <tbody>\n",
       "    <tr>\n",
       "      <th>Driver_ID</th>\n",
       "      <td>141.000000</td>\n",
       "      <td>284.000000</td>\n",
       "      <td>1400.000000</td>\n",
       "      <td>1.959000e+03</td>\n",
       "      <td>2.233000e+03</td>\n",
       "      <td>2.509000e+03</td>\n",
       "      <td>2.648000e+03</td>\n",
       "      <td>2.705600e+03</td>\n",
       "      <td>2.730400e+03</td>\n",
       "      <td>2.759200e+03</td>\n",
       "      <td>2.788000e+03</td>\n",
       "    </tr>\n",
       "    <tr>\n",
       "      <th>age</th>\n",
       "      <td>25.000000</td>\n",
       "      <td>27.000000</td>\n",
       "      <td>33.000000</td>\n",
       "      <td>3.600000e+01</td>\n",
       "      <td>3.800000e+01</td>\n",
       "      <td>4.200000e+01</td>\n",
       "      <td>4.500000e+01</td>\n",
       "      <td>4.600000e+01</td>\n",
       "      <td>4.800000e+01</td>\n",
       "      <td>5.000000e+01</td>\n",
       "      <td>5.800000e+01</td>\n",
       "    </tr>\n",
       "    <tr>\n",
       "      <th>gender</th>\n",
       "      <td>0.000000</td>\n",
       "      <td>0.000000</td>\n",
       "      <td>0.000000</td>\n",
       "      <td>1.000000e+00</td>\n",
       "      <td>1.000000e+00</td>\n",
       "      <td>1.000000e+00</td>\n",
       "      <td>1.000000e+00</td>\n",
       "      <td>1.000000e+00</td>\n",
       "      <td>1.000000e+00</td>\n",
       "      <td>1.000000e+00</td>\n",
       "      <td>1.000000e+00</td>\n",
       "    </tr>\n",
       "    <tr>\n",
       "      <th>city</th>\n",
       "      <td>0.061805</td>\n",
       "      <td>0.070522</td>\n",
       "      <td>0.083062</td>\n",
       "      <td>9.067017e-02</td>\n",
       "      <td>1.019231e-01</td>\n",
       "      <td>1.101190e-01</td>\n",
       "      <td>1.165254e-01</td>\n",
       "      <td>1.165254e-01</td>\n",
       "      <td>1.250000e-01</td>\n",
       "      <td>1.250000e-01</td>\n",
       "      <td>1.250000e-01</td>\n",
       "    </tr>\n",
       "    <tr>\n",
       "      <th>education</th>\n",
       "      <td>0.000000</td>\n",
       "      <td>0.000000</td>\n",
       "      <td>1.000000</td>\n",
       "      <td>2.000000e+00</td>\n",
       "      <td>2.000000e+00</td>\n",
       "      <td>2.000000e+00</td>\n",
       "      <td>2.000000e+00</td>\n",
       "      <td>2.000000e+00</td>\n",
       "      <td>2.000000e+00</td>\n",
       "      <td>2.000000e+00</td>\n",
       "      <td>2.000000e+00</td>\n",
       "    </tr>\n",
       "    <tr>\n",
       "      <th>joining_income</th>\n",
       "      <td>20170.000000</td>\n",
       "      <td>25459.000000</td>\n",
       "      <td>55276.000000</td>\n",
       "      <td>7.008800e+04</td>\n",
       "      <td>8.128800e+04</td>\n",
       "      <td>9.930000e+04</td>\n",
       "      <td>1.138070e+05</td>\n",
       "      <td>1.233784e+05</td>\n",
       "      <td>1.307636e+05</td>\n",
       "      <td>1.369844e+05</td>\n",
       "      <td>1.884180e+05</td>\n",
       "    </tr>\n",
       "    <tr>\n",
       "      <th>current_income</th>\n",
       "      <td>20170.000000</td>\n",
       "      <td>25459.000000</td>\n",
       "      <td>55315.000000</td>\n",
       "      <td>7.033900e+04</td>\n",
       "      <td>8.156100e+04</td>\n",
       "      <td>9.941500e+04</td>\n",
       "      <td>1.138070e+05</td>\n",
       "      <td>1.237416e+05</td>\n",
       "      <td>1.312396e+05</td>\n",
       "      <td>1.371556e+05</td>\n",
       "      <td>1.884180e+05</td>\n",
       "    </tr>\n",
       "    <tr>\n",
       "      <th>designation</th>\n",
       "      <td>1.000000</td>\n",
       "      <td>1.000000</td>\n",
       "      <td>2.000000</td>\n",
       "      <td>2.000000e+00</td>\n",
       "      <td>3.000000e+00</td>\n",
       "      <td>3.000000e+00</td>\n",
       "      <td>3.000000e+00</td>\n",
       "      <td>3.000000e+00</td>\n",
       "      <td>3.000000e+00</td>\n",
       "      <td>4.000000e+00</td>\n",
       "      <td>5.000000e+00</td>\n",
       "    </tr>\n",
       "    <tr>\n",
       "      <th>current_grade</th>\n",
       "      <td>1.000000</td>\n",
       "      <td>1.000000</td>\n",
       "      <td>2.000000</td>\n",
       "      <td>3.000000e+00</td>\n",
       "      <td>3.000000e+00</td>\n",
       "      <td>3.000000e+00</td>\n",
       "      <td>4.000000e+00</td>\n",
       "      <td>4.000000e+00</td>\n",
       "      <td>4.000000e+00</td>\n",
       "      <td>4.200000e+00</td>\n",
       "      <td>5.000000e+00</td>\n",
       "    </tr>\n",
       "    <tr>\n",
       "      <th>total_bussiness</th>\n",
       "      <td>0.000000</td>\n",
       "      <td>0.000000</td>\n",
       "      <td>807040.000000</td>\n",
       "      <td>2.945540e+06</td>\n",
       "      <td>5.958340e+06</td>\n",
       "      <td>1.497077e+07</td>\n",
       "      <td>2.347103e+07</td>\n",
       "      <td>3.014097e+07</td>\n",
       "      <td>3.478996e+07</td>\n",
       "      <td>4.313509e+07</td>\n",
       "      <td>9.533106e+07</td>\n",
       "    </tr>\n",
       "    <tr>\n",
       "      <th>quarterly_rating</th>\n",
       "      <td>0.000000</td>\n",
       "      <td>0.000000</td>\n",
       "      <td>0.000000</td>\n",
       "      <td>1.000000e+00</td>\n",
       "      <td>1.000000e+00</td>\n",
       "      <td>1.000000e+00</td>\n",
       "      <td>1.000000e+00</td>\n",
       "      <td>1.000000e+00</td>\n",
       "      <td>1.000000e+00</td>\n",
       "      <td>1.000000e+00</td>\n",
       "      <td>1.000000e+00</td>\n",
       "    </tr>\n",
       "    <tr>\n",
       "      <th>income_change</th>\n",
       "      <td>0.000000</td>\n",
       "      <td>0.000000</td>\n",
       "      <td>0.000000</td>\n",
       "      <td>0.000000e+00</td>\n",
       "      <td>0.000000e+00</td>\n",
       "      <td>0.000000e+00</td>\n",
       "      <td>0.000000e+00</td>\n",
       "      <td>0.000000e+00</td>\n",
       "      <td>0.000000e+00</td>\n",
       "      <td>1.000000e+00</td>\n",
       "      <td>1.000000e+00</td>\n",
       "    </tr>\n",
       "    <tr>\n",
       "      <th>churn</th>\n",
       "      <td>0.000000</td>\n",
       "      <td>0.000000</td>\n",
       "      <td>1.000000</td>\n",
       "      <td>1.000000e+00</td>\n",
       "      <td>1.000000e+00</td>\n",
       "      <td>1.000000e+00</td>\n",
       "      <td>1.000000e+00</td>\n",
       "      <td>1.000000e+00</td>\n",
       "      <td>1.000000e+00</td>\n",
       "      <td>1.000000e+00</td>\n",
       "      <td>1.000000e+00</td>\n",
       "    </tr>\n",
       "    <tr>\n",
       "      <th>education_1</th>\n",
       "      <td>0.000000</td>\n",
       "      <td>0.000000</td>\n",
       "      <td>0.000000</td>\n",
       "      <td>1.000000e+00</td>\n",
       "      <td>1.000000e+00</td>\n",
       "      <td>1.000000e+00</td>\n",
       "      <td>1.000000e+00</td>\n",
       "      <td>1.000000e+00</td>\n",
       "      <td>1.000000e+00</td>\n",
       "      <td>1.000000e+00</td>\n",
       "      <td>1.000000e+00</td>\n",
       "    </tr>\n",
       "    <tr>\n",
       "      <th>education_2</th>\n",
       "      <td>0.000000</td>\n",
       "      <td>0.000000</td>\n",
       "      <td>0.000000</td>\n",
       "      <td>1.000000e+00</td>\n",
       "      <td>1.000000e+00</td>\n",
       "      <td>1.000000e+00</td>\n",
       "      <td>1.000000e+00</td>\n",
       "      <td>1.000000e+00</td>\n",
       "      <td>1.000000e+00</td>\n",
       "      <td>1.000000e+00</td>\n",
       "      <td>1.000000e+00</td>\n",
       "    </tr>\n",
       "  </tbody>\n",
       "</table>\n",
       "</div>"
      ],
      "text/plain": [
       "                          0.05          0.10           0.50          0.70  \\\n",
       "Driver_ID           141.000000    284.000000    1400.000000  1.959000e+03   \n",
       "age                  25.000000     27.000000      33.000000  3.600000e+01   \n",
       "gender                0.000000      0.000000       0.000000  1.000000e+00   \n",
       "city                  0.061805      0.070522       0.083062  9.067017e-02   \n",
       "education             0.000000      0.000000       1.000000  2.000000e+00   \n",
       "joining_income    20170.000000  25459.000000   55276.000000  7.008800e+04   \n",
       "current_income    20170.000000  25459.000000   55315.000000  7.033900e+04   \n",
       "designation           1.000000      1.000000       2.000000  2.000000e+00   \n",
       "current_grade         1.000000      1.000000       2.000000  3.000000e+00   \n",
       "total_bussiness       0.000000      0.000000  807040.000000  2.945540e+06   \n",
       "quarterly_rating      0.000000      0.000000       0.000000  1.000000e+00   \n",
       "income_change         0.000000      0.000000       0.000000  0.000000e+00   \n",
       "churn                 0.000000      0.000000       1.000000  1.000000e+00   \n",
       "education_1           0.000000      0.000000       0.000000  1.000000e+00   \n",
       "education_2           0.000000      0.000000       0.000000  1.000000e+00   \n",
       "\n",
       "                          0.80          0.90          0.95          0.97  \\\n",
       "Driver_ID         2.233000e+03  2.509000e+03  2.648000e+03  2.705600e+03   \n",
       "age               3.800000e+01  4.200000e+01  4.500000e+01  4.600000e+01   \n",
       "gender            1.000000e+00  1.000000e+00  1.000000e+00  1.000000e+00   \n",
       "city              1.019231e-01  1.101190e-01  1.165254e-01  1.165254e-01   \n",
       "education         2.000000e+00  2.000000e+00  2.000000e+00  2.000000e+00   \n",
       "joining_income    8.128800e+04  9.930000e+04  1.138070e+05  1.233784e+05   \n",
       "current_income    8.156100e+04  9.941500e+04  1.138070e+05  1.237416e+05   \n",
       "designation       3.000000e+00  3.000000e+00  3.000000e+00  3.000000e+00   \n",
       "current_grade     3.000000e+00  3.000000e+00  4.000000e+00  4.000000e+00   \n",
       "total_bussiness   5.958340e+06  1.497077e+07  2.347103e+07  3.014097e+07   \n",
       "quarterly_rating  1.000000e+00  1.000000e+00  1.000000e+00  1.000000e+00   \n",
       "income_change     0.000000e+00  0.000000e+00  0.000000e+00  0.000000e+00   \n",
       "churn             1.000000e+00  1.000000e+00  1.000000e+00  1.000000e+00   \n",
       "education_1       1.000000e+00  1.000000e+00  1.000000e+00  1.000000e+00   \n",
       "education_2       1.000000e+00  1.000000e+00  1.000000e+00  1.000000e+00   \n",
       "\n",
       "                          0.98          0.99          1.00  \n",
       "Driver_ID         2.730400e+03  2.759200e+03  2.788000e+03  \n",
       "age               4.800000e+01  5.000000e+01  5.800000e+01  \n",
       "gender            1.000000e+00  1.000000e+00  1.000000e+00  \n",
       "city              1.250000e-01  1.250000e-01  1.250000e-01  \n",
       "education         2.000000e+00  2.000000e+00  2.000000e+00  \n",
       "joining_income    1.307636e+05  1.369844e+05  1.884180e+05  \n",
       "current_income    1.312396e+05  1.371556e+05  1.884180e+05  \n",
       "designation       3.000000e+00  4.000000e+00  5.000000e+00  \n",
       "current_grade     4.000000e+00  4.200000e+00  5.000000e+00  \n",
       "total_bussiness   3.478996e+07  4.313509e+07  9.533106e+07  \n",
       "quarterly_rating  1.000000e+00  1.000000e+00  1.000000e+00  \n",
       "income_change     0.000000e+00  1.000000e+00  1.000000e+00  \n",
       "churn             1.000000e+00  1.000000e+00  1.000000e+00  \n",
       "education_1       1.000000e+00  1.000000e+00  1.000000e+00  \n",
       "education_2       1.000000e+00  1.000000e+00  1.000000e+00  "
      ]
     },
     "execution_count": 82,
     "metadata": {},
     "output_type": "execute_result"
    }
   ],
   "source": [
    "grouped_df.quantile([0.05,0.1,0.5,0.7,0.8,0.9,0.95,0.97,0.98,0.99,1]).T"
   ]
  },
  {
   "cell_type": "raw",
   "metadata": {},
   "source": [
    "removing rows based on the outliers"
   ]
  },
  {
   "cell_type": "code",
   "execution_count": 83,
   "metadata": {},
   "outputs": [],
   "source": [
    "grouped_df = grouped_df[grouped_df['joining_income']<grouped_df['joining_income'].quantile(0.98)]"
   ]
  },
  {
   "cell_type": "code",
   "execution_count": 84,
   "metadata": {
    "scrolled": true
   },
   "outputs": [
    {
     "data": {
      "text/plain": [
       "(2333, 15)"
      ]
     },
     "execution_count": 84,
     "metadata": {},
     "output_type": "execute_result"
    }
   ],
   "source": [
    "grouped_df.shape"
   ]
  },
  {
   "cell_type": "code",
   "execution_count": 85,
   "metadata": {},
   "outputs": [
    {
     "name": "stdout",
     "output_type": "stream",
     "text": [
      "Percentage of rows removed is 2.02\n"
     ]
    }
   ],
   "source": [
    "print(f'Percentage of rows removed is', np.round(100 - (2333/2381)*100,2))"
   ]
  },
  {
   "cell_type": "code",
   "execution_count": 86,
   "metadata": {},
   "outputs": [
    {
     "name": "stderr",
     "output_type": "stream",
     "text": [
      "C:\\ProgramData\\Anaconda3\\lib\\site-packages\\seaborn\\_decorators.py:36: FutureWarning: Pass the following variable as a keyword arg: x. From version 0.12, the only valid positional argument will be `data`, and passing other arguments without an explicit keyword will result in an error or misinterpretation.\n",
      "  warnings.warn(\n"
     ]
    },
    {
     "data": {
      "text/plain": [
       "<AxesSubplot:xlabel='joining_income'>"
      ]
     },
     "execution_count": 86,
     "metadata": {},
     "output_type": "execute_result"
    },
    {
     "data": {
      "image/png": "[encoded data removed]",
      "text/plain": [
       "<Figure size 432x288 with 1 Axes>"
      ]
     },
     "metadata": {
      "needs_background": "light"
     },
     "output_type": "display_data"
    }
   ],
   "source": [
    "sns.boxplot(grouped_df['joining_income'])"
   ]
  },
  {
   "cell_type": "code",
   "execution_count": 87,
   "metadata": {},
   "outputs": [
    {
     "name": "stderr",
     "output_type": "stream",
     "text": [
      "C:\\ProgramData\\Anaconda3\\lib\\site-packages\\seaborn\\_decorators.py:36: FutureWarning: Pass the following variable as a keyword arg: x. From version 0.12, the only valid positional argument will be `data`, and passing other arguments without an explicit keyword will result in an error or misinterpretation.\n",
      "  warnings.warn(\n"
     ]
    },
    {
     "data": {
      "text/plain": [
       "<AxesSubplot:xlabel='current_income'>"
      ]
     },
     "execution_count": 87,
     "metadata": {},
     "output_type": "execute_result"
    },
    {
     "data": {
      "image/png": "[encoded data removed]",
      "text/plain": [
       "<Figure size 432x288 with 1 Axes>"
      ]
     },
     "metadata": {
      "needs_background": "light"
     },
     "output_type": "display_data"
    }
   ],
   "source": [
    "sns.boxplot(grouped_df['current_income'])"
   ]
  },
  {
   "cell_type": "raw",
   "metadata": {},
   "source": [
    "Heatmap"
   ]
  },
  {
   "cell_type": "code",
   "execution_count": 88,
   "metadata": {},
   "outputs": [
    {
     "data": {
      "text/plain": [
       "<AxesSubplot:>"
      ]
     },
     "execution_count": 88,
     "metadata": {},
     "output_type": "execute_result"
    },
    {
     "data": {
      "image/png": "[encoded data removed]",
      "text/plain": [
       "<Figure size 936x720 with 2 Axes>"
      ]
     },
     "metadata": {
      "needs_background": "light"
     },
     "output_type": "display_data"
    }
   ],
   "source": [
    "plt.figure(figsize=(13,10))\n",
    "sns.heatmap(grouped_df.corr(),annot=True)"
   ]
  },
  {
   "cell_type": "code",
   "execution_count": 89,
   "metadata": {},
   "outputs": [
    {
     "data": {
      "text/plain": [
       "Index(['Driver_ID', 'age', 'gender', 'city', 'education', 'joining_income',\n",
       "       'current_income', 'designation', 'current_grade', 'total_bussiness',\n",
       "       'quarterly_rating', 'income_change', 'churn', 'education_1',\n",
       "       'education_2'],\n",
       "      dtype='object')"
      ]
     },
     "execution_count": 89,
     "metadata": {},
     "output_type": "execute_result"
    }
   ],
   "source": [
    "grouped_df.columns"
   ]
  },
  {
   "cell_type": "raw",
   "metadata": {},
   "source": [
    "Removing the columns which are highly correlated"
   ]
  },
  {
   "cell_type": "code",
   "execution_count": 90,
   "metadata": {
    "scrolled": true
   },
   "outputs": [],
   "source": [
    "grouped_df.drop(['education','joining_income','current_grade'],inplace=True,axis=1)"
   ]
  },
  {
   "cell_type": "code",
   "execution_count": 91,
   "metadata": {},
   "outputs": [
    {
     "data": {
      "text/plain": [
       "<AxesSubplot:>"
      ]
     },
     "execution_count": 91,
     "metadata": {},
     "output_type": "execute_result"
    },
    {
     "data": {
      "image/png": "[encoded data removed]",
      "text/plain": [
       "<Figure size 936x720 with 2 Axes>"
      ]
     },
     "metadata": {
      "needs_background": "light"
     },
     "output_type": "display_data"
    }
   ],
   "source": [
    "plt.figure(figsize=(13,10))\n",
    "sns.heatmap(grouped_df.corr(),annot=True)"
   ]
  },
  {
   "cell_type": "code",
   "execution_count": 92,
   "metadata": {},
   "outputs": [
    {
     "data": {
      "text/plain": [
       "Index(['Driver_ID', 'age', 'gender', 'city', 'current_income', 'designation',\n",
       "       'total_bussiness', 'quarterly_rating', 'income_change', 'churn',\n",
       "       'education_1', 'education_2'],\n",
       "      dtype='object')"
      ]
     },
     "execution_count": 92,
     "metadata": {},
     "output_type": "execute_result"
    }
   ],
   "source": [
    "grouped_df.columns"
   ]
  },
  {
   "cell_type": "raw",
   "metadata": {},
   "source": [
    "Target column"
   ]
  },
  {
   "cell_type": "code",
   "execution_count": 93,
   "metadata": {},
   "outputs": [],
   "source": [
    "y = grouped_df['churn']"
   ]
  },
  {
   "cell_type": "code",
   "execution_count": 94,
   "metadata": {},
   "outputs": [],
   "source": [
    "grouped_df.drop(['churn'],inplace = True, axis = 1)"
   ]
  },
  {
   "cell_type": "code",
   "execution_count": 95,
   "metadata": {},
   "outputs": [],
   "source": [
    "columns = grouped_df.columns"
   ]
  },
  {
   "cell_type": "raw",
   "metadata": {},
   "source": [
    "Standardiszation"
   ]
  },
  {
   "cell_type": "code",
   "execution_count": 96,
   "metadata": {},
   "outputs": [],
   "source": [
    "scaler = StandardScaler()\n",
    "grouped_df = scaler.fit_transform(grouped_df)"
   ]
  },
  {
   "cell_type": "code",
   "execution_count": 97,
   "metadata": {},
   "outputs": [],
   "source": [
    "grouped_df = pd.DataFrame(grouped_df,columns=columns)"
   ]
  },
  {
   "cell_type": "code",
   "execution_count": 98,
   "metadata": {},
   "outputs": [
    {
     "data": {
      "text/html": [
       "<div>\n",
       "<style scoped>\n",
       "    .dataframe tbody tr th:only-of-type {\n",
       "        vertical-align: middle;\n",
       "    }\n",
       "\n",
       "    .dataframe tbody tr th {\n",
       "        vertical-align: top;\n",
       "    }\n",
       "\n",
       "    .dataframe thead th {\n",
       "        text-align: right;\n",
       "    }\n",
       "</style>\n",
       "<table border=\"1\" class=\"dataframe\">\n",
       "  <thead>\n",
       "    <tr style=\"text-align: right;\">\n",
       "      <th></th>\n",
       "      <th>Driver_ID</th>\n",
       "      <th>age</th>\n",
       "      <th>gender</th>\n",
       "      <th>city</th>\n",
       "      <th>current_income</th>\n",
       "      <th>designation</th>\n",
       "      <th>total_bussiness</th>\n",
       "      <th>quarterly_rating</th>\n",
       "      <th>income_change</th>\n",
       "      <th>education_1</th>\n",
       "      <th>education_2</th>\n",
       "    </tr>\n",
       "  </thead>\n",
       "  <tbody>\n",
       "    <tr>\n",
       "      <th>0</th>\n",
       "      <td>-1.734914</td>\n",
       "      <td>-0.972352</td>\n",
       "      <td>-0.837662</td>\n",
       "      <td>1.266088</td>\n",
       "      <td>-0.009970</td>\n",
       "      <td>-0.980752</td>\n",
       "      <td>-0.300427</td>\n",
       "      <td>-0.917255</td>\n",
       "      <td>-0.135398</td>\n",
       "      <td>-0.708016</td>\n",
       "      <td>1.416490</td>\n",
       "    </tr>\n",
       "    <tr>\n",
       "      <th>1</th>\n",
       "      <td>-1.733671</td>\n",
       "      <td>-0.462577</td>\n",
       "      <td>-0.837662</td>\n",
       "      <td>-0.048920</td>\n",
       "      <td>0.359957</td>\n",
       "      <td>0.240868</td>\n",
       "      <td>-0.499117</td>\n",
       "      <td>-0.917255</td>\n",
       "      <td>-0.135398</td>\n",
       "      <td>-0.708016</td>\n",
       "      <td>1.416490</td>\n",
       "    </tr>\n",
       "    <tr>\n",
       "      <th>2</th>\n",
       "      <td>-1.731185</td>\n",
       "      <td>1.576521</td>\n",
       "      <td>-0.837662</td>\n",
       "      <td>1.009333</td>\n",
       "      <td>0.305673</td>\n",
       "      <td>0.240868</td>\n",
       "      <td>-0.458582</td>\n",
       "      <td>-0.917255</td>\n",
       "      <td>-0.135398</td>\n",
       "      <td>-0.708016</td>\n",
       "      <td>1.416490</td>\n",
       "    </tr>\n",
       "    <tr>\n",
       "      <th>3</th>\n",
       "      <td>-1.729942</td>\n",
       "      <td>-0.802427</td>\n",
       "      <td>-0.837662</td>\n",
       "      <td>1.008684</td>\n",
       "      <td>-0.433297</td>\n",
       "      <td>-0.980752</td>\n",
       "      <td>-0.485177</td>\n",
       "      <td>-0.917255</td>\n",
       "      <td>-0.135398</td>\n",
       "      <td>-0.708016</td>\n",
       "      <td>-0.705971</td>\n",
       "    </tr>\n",
       "    <tr>\n",
       "      <th>4</th>\n",
       "      <td>-1.728699</td>\n",
       "      <td>-0.462577</td>\n",
       "      <td>1.193799</td>\n",
       "      <td>0.639725</td>\n",
       "      <td>0.809909</td>\n",
       "      <td>1.462488</td>\n",
       "      <td>-0.352611</td>\n",
       "      <td>1.090209</td>\n",
       "      <td>-0.135398</td>\n",
       "      <td>1.412397</td>\n",
       "      <td>-0.705971</td>\n",
       "    </tr>\n",
       "  </tbody>\n",
       "</table>\n",
       "</div>"
      ],
      "text/plain": [
       "   Driver_ID       age    gender      city  current_income  designation  \\\n",
       "0  -1.734914 -0.972352 -0.837662  1.266088       -0.009970    -0.980752   \n",
       "1  -1.733671 -0.462577 -0.837662 -0.048920        0.359957     0.240868   \n",
       "2  -1.731185  1.576521 -0.837662  1.009333        0.305673     0.240868   \n",
       "3  -1.729942 -0.802427 -0.837662  1.008684       -0.433297    -0.980752   \n",
       "4  -1.728699 -0.462577  1.193799  0.639725        0.809909     1.462488   \n",
       "\n",
       "   total_bussiness  quarterly_rating  income_change  education_1  education_2  \n",
       "0        -0.300427         -0.917255      -0.135398    -0.708016     1.416490  \n",
       "1        -0.499117         -0.917255      -0.135398    -0.708016     1.416490  \n",
       "2        -0.458582         -0.917255      -0.135398    -0.708016     1.416490  \n",
       "3        -0.485177         -0.917255      -0.135398    -0.708016    -0.705971  \n",
       "4        -0.352611          1.090209      -0.135398     1.412397    -0.705971  "
      ]
     },
     "execution_count": 98,
     "metadata": {},
     "output_type": "execute_result"
    }
   ],
   "source": [
    "grouped_df.head()"
   ]
  },
  {
   "cell_type": "code",
   "execution_count": 99,
   "metadata": {
    "scrolled": true
   },
   "outputs": [],
   "source": [
    "#dropping driverID as it is not useful churn\n",
    "grouped_df.drop(['Driver_ID'],inplace=True,axis = 1) "
   ]
  },
  {
   "cell_type": "code",
   "execution_count": 100,
   "metadata": {},
   "outputs": [
    {
     "data": {
      "text/html": [
       "<div>\n",
       "<style scoped>\n",
       "    .dataframe tbody tr th:only-of-type {\n",
       "        vertical-align: middle;\n",
       "    }\n",
       "\n",
       "    .dataframe tbody tr th {\n",
       "        vertical-align: top;\n",
       "    }\n",
       "\n",
       "    .dataframe thead th {\n",
       "        text-align: right;\n",
       "    }\n",
       "</style>\n",
       "<table border=\"1\" class=\"dataframe\">\n",
       "  <thead>\n",
       "    <tr style=\"text-align: right;\">\n",
       "      <th></th>\n",
       "      <th>age</th>\n",
       "      <th>gender</th>\n",
       "      <th>city</th>\n",
       "      <th>current_income</th>\n",
       "      <th>designation</th>\n",
       "      <th>total_bussiness</th>\n",
       "      <th>quarterly_rating</th>\n",
       "      <th>income_change</th>\n",
       "      <th>education_1</th>\n",
       "      <th>education_2</th>\n",
       "    </tr>\n",
       "  </thead>\n",
       "  <tbody>\n",
       "    <tr>\n",
       "      <th>0</th>\n",
       "      <td>-0.972352</td>\n",
       "      <td>-0.837662</td>\n",
       "      <td>1.266088</td>\n",
       "      <td>-0.009970</td>\n",
       "      <td>-0.980752</td>\n",
       "      <td>-0.300427</td>\n",
       "      <td>-0.917255</td>\n",
       "      <td>-0.135398</td>\n",
       "      <td>-0.708016</td>\n",
       "      <td>1.416490</td>\n",
       "    </tr>\n",
       "    <tr>\n",
       "      <th>1</th>\n",
       "      <td>-0.462577</td>\n",
       "      <td>-0.837662</td>\n",
       "      <td>-0.048920</td>\n",
       "      <td>0.359957</td>\n",
       "      <td>0.240868</td>\n",
       "      <td>-0.499117</td>\n",
       "      <td>-0.917255</td>\n",
       "      <td>-0.135398</td>\n",
       "      <td>-0.708016</td>\n",
       "      <td>1.416490</td>\n",
       "    </tr>\n",
       "    <tr>\n",
       "      <th>2</th>\n",
       "      <td>1.576521</td>\n",
       "      <td>-0.837662</td>\n",
       "      <td>1.009333</td>\n",
       "      <td>0.305673</td>\n",
       "      <td>0.240868</td>\n",
       "      <td>-0.458582</td>\n",
       "      <td>-0.917255</td>\n",
       "      <td>-0.135398</td>\n",
       "      <td>-0.708016</td>\n",
       "      <td>1.416490</td>\n",
       "    </tr>\n",
       "    <tr>\n",
       "      <th>3</th>\n",
       "      <td>-0.802427</td>\n",
       "      <td>-0.837662</td>\n",
       "      <td>1.008684</td>\n",
       "      <td>-0.433297</td>\n",
       "      <td>-0.980752</td>\n",
       "      <td>-0.485177</td>\n",
       "      <td>-0.917255</td>\n",
       "      <td>-0.135398</td>\n",
       "      <td>-0.708016</td>\n",
       "      <td>-0.705971</td>\n",
       "    </tr>\n",
       "    <tr>\n",
       "      <th>4</th>\n",
       "      <td>-0.462577</td>\n",
       "      <td>1.193799</td>\n",
       "      <td>0.639725</td>\n",
       "      <td>0.809909</td>\n",
       "      <td>1.462488</td>\n",
       "      <td>-0.352611</td>\n",
       "      <td>1.090209</td>\n",
       "      <td>-0.135398</td>\n",
       "      <td>1.412397</td>\n",
       "      <td>-0.705971</td>\n",
       "    </tr>\n",
       "  </tbody>\n",
       "</table>\n",
       "</div>"
      ],
      "text/plain": [
       "        age    gender      city  current_income  designation  total_bussiness  \\\n",
       "0 -0.972352 -0.837662  1.266088       -0.009970    -0.980752        -0.300427   \n",
       "1 -0.462577 -0.837662 -0.048920        0.359957     0.240868        -0.499117   \n",
       "2  1.576521 -0.837662  1.009333        0.305673     0.240868        -0.458582   \n",
       "3 -0.802427 -0.837662  1.008684       -0.433297    -0.980752        -0.485177   \n",
       "4 -0.462577  1.193799  0.639725        0.809909     1.462488        -0.352611   \n",
       "\n",
       "   quarterly_rating  income_change  education_1  education_2  \n",
       "0         -0.917255      -0.135398    -0.708016     1.416490  \n",
       "1         -0.917255      -0.135398    -0.708016     1.416490  \n",
       "2         -0.917255      -0.135398    -0.708016     1.416490  \n",
       "3         -0.917255      -0.135398    -0.708016    -0.705971  \n",
       "4          1.090209      -0.135398     1.412397    -0.705971  "
      ]
     },
     "execution_count": 100,
     "metadata": {},
     "output_type": "execute_result"
    }
   ],
   "source": [
    "grouped_df.head()"
   ]
  },
  {
   "cell_type": "raw",
   "metadata": {},
   "source": [
    "Train Test split"
   ]
  },
  {
   "cell_type": "code",
   "execution_count": 101,
   "metadata": {},
   "outputs": [],
   "source": [
    "X_train,X_test,y_train,y_test = train_test_split(grouped_df,y,test_size=0.2,shuffle=True)"
   ]
  },
  {
   "cell_type": "code",
   "execution_count": 102,
   "metadata": {},
   "outputs": [
    {
     "data": {
      "text/plain": [
       "1    1275\n",
       "0     591\n",
       "Name: churn, dtype: int64"
      ]
     },
     "execution_count": 102,
     "metadata": {},
     "output_type": "execute_result"
    }
   ],
   "source": [
    "y_train.value_counts()"
   ]
  },
  {
   "cell_type": "raw",
   "metadata": {},
   "source": [
    "As there is imbalance in the target variable lets perform SMOTE to balance the data"
   ]
  },
  {
   "cell_type": "code",
   "execution_count": 103,
   "metadata": {},
   "outputs": [],
   "source": [
    "sm = SMOTE()\n",
    "x_sm,y_sm = sm.fit_resample(X_train,y_train)"
   ]
  },
  {
   "cell_type": "code",
   "execution_count": 104,
   "metadata": {},
   "outputs": [
    {
     "data": {
      "text/plain": [
       "(1866,)"
      ]
     },
     "execution_count": 104,
     "metadata": {},
     "output_type": "execute_result"
    }
   ],
   "source": [
    "y_train.shape"
   ]
  },
  {
   "cell_type": "code",
   "execution_count": 105,
   "metadata": {},
   "outputs": [
    {
     "data": {
      "text/plain": [
       "(2550, 10)"
      ]
     },
     "execution_count": 105,
     "metadata": {},
     "output_type": "execute_result"
    }
   ],
   "source": [
    "x_sm.shape"
   ]
  },
  {
   "cell_type": "code",
   "execution_count": 106,
   "metadata": {},
   "outputs": [
    {
     "data": {
      "text/plain": [
       "1    1275\n",
       "0    1275\n",
       "Name: churn, dtype: int64"
      ]
     },
     "execution_count": 106,
     "metadata": {},
     "output_type": "execute_result"
    }
   ],
   "source": [
    "y_sm.value_counts()"
   ]
  },
  {
   "cell_type": "code",
   "execution_count": 107,
   "metadata": {},
   "outputs": [
    {
     "data": {
      "text/html": [
       "<div>\n",
       "<style scoped>\n",
       "    .dataframe tbody tr th:only-of-type {\n",
       "        vertical-align: middle;\n",
       "    }\n",
       "\n",
       "    .dataframe tbody tr th {\n",
       "        vertical-align: top;\n",
       "    }\n",
       "\n",
       "    .dataframe thead th {\n",
       "        text-align: right;\n",
       "    }\n",
       "</style>\n",
       "<table border=\"1\" class=\"dataframe\">\n",
       "  <thead>\n",
       "    <tr style=\"text-align: right;\">\n",
       "      <th></th>\n",
       "      <th>age</th>\n",
       "      <th>gender</th>\n",
       "      <th>city</th>\n",
       "      <th>current_income</th>\n",
       "      <th>designation</th>\n",
       "      <th>total_bussiness</th>\n",
       "      <th>quarterly_rating</th>\n",
       "      <th>income_change</th>\n",
       "      <th>education_1</th>\n",
       "      <th>education_2</th>\n",
       "    </tr>\n",
       "  </thead>\n",
       "  <tbody>\n",
       "    <tr>\n",
       "      <th>count</th>\n",
       "      <td>2.333000e+03</td>\n",
       "      <td>2.333000e+03</td>\n",
       "      <td>2.333000e+03</td>\n",
       "      <td>2.333000e+03</td>\n",
       "      <td>2.333000e+03</td>\n",
       "      <td>2.333000e+03</td>\n",
       "      <td>2.333000e+03</td>\n",
       "      <td>2.333000e+03</td>\n",
       "      <td>2.333000e+03</td>\n",
       "      <td>2.333000e+03</td>\n",
       "    </tr>\n",
       "    <tr>\n",
       "      <th>mean</th>\n",
       "      <td>4.192008e-16</td>\n",
       "      <td>-1.407171e-16</td>\n",
       "      <td>-7.105808e-16</td>\n",
       "      <td>-4.616015e-18</td>\n",
       "      <td>-4.618038e-16</td>\n",
       "      <td>1.479623e-16</td>\n",
       "      <td>1.888283e-16</td>\n",
       "      <td>-2.098621e-16</td>\n",
       "      <td>-2.232819e-16</td>\n",
       "      <td>-1.637020e-16</td>\n",
       "    </tr>\n",
       "    <tr>\n",
       "      <th>std</th>\n",
       "      <td>1.000214e+00</td>\n",
       "      <td>1.000214e+00</td>\n",
       "      <td>1.000214e+00</td>\n",
       "      <td>1.000214e+00</td>\n",
       "      <td>1.000214e+00</td>\n",
       "      <td>1.000214e+00</td>\n",
       "      <td>1.000214e+00</td>\n",
       "      <td>1.000214e+00</td>\n",
       "      <td>1.000214e+00</td>\n",
       "      <td>1.000214e+00</td>\n",
       "    </tr>\n",
       "    <tr>\n",
       "      <th>min</th>\n",
       "      <td>-2.161826e+00</td>\n",
       "      <td>-8.376620e-01</td>\n",
       "      <td>-1.885600e+00</td>\n",
       "      <td>-1.801785e+00</td>\n",
       "      <td>-9.807517e-01</td>\n",
       "      <td>-6.595825e-01</td>\n",
       "      <td>-9.172554e-01</td>\n",
       "      <td>-1.353980e-01</td>\n",
       "      <td>-7.080162e-01</td>\n",
       "      <td>-7.059705e-01</td>\n",
       "    </tr>\n",
       "    <tr>\n",
       "      <th>25%</th>\n",
       "      <td>-6.325023e-01</td>\n",
       "      <td>-8.376620e-01</td>\n",
       "      <td>-7.260070e-01</td>\n",
       "      <td>-7.307679e-01</td>\n",
       "      <td>-9.807517e-01</td>\n",
       "      <td>-4.991170e-01</td>\n",
       "      <td>-9.172554e-01</td>\n",
       "      <td>-1.353980e-01</td>\n",
       "      <td>-7.080162e-01</td>\n",
       "      <td>-7.059705e-01</td>\n",
       "    </tr>\n",
       "    <tr>\n",
       "      <th>50%</th>\n",
       "      <td>-1.227276e-01</td>\n",
       "      <td>-8.376620e-01</td>\n",
       "      <td>-1.975458e-01</td>\n",
       "      <td>-1.170406e-01</td>\n",
       "      <td>2.408680e-01</td>\n",
       "      <td>-4.105218e-01</td>\n",
       "      <td>-9.172554e-01</td>\n",
       "      <td>-1.353980e-01</td>\n",
       "      <td>-7.080162e-01</td>\n",
       "      <td>-7.059705e-01</td>\n",
       "    </tr>\n",
       "    <tr>\n",
       "      <th>75%</th>\n",
       "      <td>5.569720e-01</td>\n",
       "      <td>1.193799e+00</td>\n",
       "      <td>4.038599e-01</td>\n",
       "      <td>6.256944e-01</td>\n",
       "      <td>2.408680e-01</td>\n",
       "      <td>-3.681955e-02</td>\n",
       "      <td>1.090209e+00</td>\n",
       "      <td>-1.353980e-01</td>\n",
       "      <td>1.412397e+00</td>\n",
       "      <td>1.416490e+00</td>\n",
       "    </tr>\n",
       "    <tr>\n",
       "      <th>max</th>\n",
       "      <td>4.125395e+00</td>\n",
       "      <td>1.193799e+00</td>\n",
       "      <td>2.484524e+00</td>\n",
       "      <td>2.980640e+00</td>\n",
       "      <td>3.905727e+00</td>\n",
       "      <td>1.054167e+01</td>\n",
       "      <td>1.090209e+00</td>\n",
       "      <td>7.385636e+00</td>\n",
       "      <td>1.412397e+00</td>\n",
       "      <td>1.416490e+00</td>\n",
       "    </tr>\n",
       "  </tbody>\n",
       "</table>\n",
       "</div>"
      ],
      "text/plain": [
       "                age        gender          city  current_income   designation  \\\n",
       "count  2.333000e+03  2.333000e+03  2.333000e+03    2.333000e+03  2.333000e+03   \n",
       "mean   4.192008e-16 -1.407171e-16 -7.105808e-16   -4.616015e-18 -4.618038e-16   \n",
       "std    1.000214e+00  1.000214e+00  1.000214e+00    1.000214e+00  1.000214e+00   \n",
       "min   -2.161826e+00 -8.376620e-01 -1.885600e+00   -1.801785e+00 -9.807517e-01   \n",
       "25%   -6.325023e-01 -8.376620e-01 -7.260070e-01   -7.307679e-01 -9.807517e-01   \n",
       "50%   -1.227276e-01 -8.376620e-01 -1.975458e-01   -1.170406e-01  2.408680e-01   \n",
       "75%    5.569720e-01  1.193799e+00  4.038599e-01    6.256944e-01  2.408680e-01   \n",
       "max    4.125395e+00  1.193799e+00  2.484524e+00    2.980640e+00  3.905727e+00   \n",
       "\n",
       "       total_bussiness  quarterly_rating  income_change   education_1  \\\n",
       "count     2.333000e+03      2.333000e+03   2.333000e+03  2.333000e+03   \n",
       "mean      1.479623e-16      1.888283e-16  -2.098621e-16 -2.232819e-16   \n",
       "std       1.000214e+00      1.000214e+00   1.000214e+00  1.000214e+00   \n",
       "min      -6.595825e-01     -9.172554e-01  -1.353980e-01 -7.080162e-01   \n",
       "25%      -4.991170e-01     -9.172554e-01  -1.353980e-01 -7.080162e-01   \n",
       "50%      -4.105218e-01     -9.172554e-01  -1.353980e-01 -7.080162e-01   \n",
       "75%      -3.681955e-02      1.090209e+00  -1.353980e-01  1.412397e+00   \n",
       "max       1.054167e+01      1.090209e+00   7.385636e+00  1.412397e+00   \n",
       "\n",
       "        education_2  \n",
       "count  2.333000e+03  \n",
       "mean  -1.637020e-16  \n",
       "std    1.000214e+00  \n",
       "min   -7.059705e-01  \n",
       "25%   -7.059705e-01  \n",
       "50%   -7.059705e-01  \n",
       "75%    1.416490e+00  \n",
       "max    1.416490e+00  "
      ]
     },
     "execution_count": 107,
     "metadata": {},
     "output_type": "execute_result"
    }
   ],
   "source": [
    "grouped_df.describe()"
   ]
  },
  {
   "cell_type": "code",
   "execution_count": null,
   "metadata": {},
   "outputs": [],
   "source": []
  },
  {
   "cell_type": "markdown",
   "metadata": {},
   "source": [
    "### Bagging : Random Forest"
   ]
  },
  {
   "cell_type": "code",
   "execution_count": 108,
   "metadata": {},
   "outputs": [
    {
     "name": "stdout",
     "output_type": "stream",
     "text": [
      "Fitting 3 folds for each of 10 candidates, totalling 30 fits\n"
     ]
    },
    {
     "data": {
      "text/plain": [
       "RandomizedSearchCV(cv=3, estimator=RandomForestClassifier(n_jobs=-1), n_jobs=-1,\n",
       "                   param_distributions={'max_depth': [3, 5, 6, 7, 9],\n",
       "                                        'max_leaf_nodes': [15, 20, 25, 30],\n",
       "                                        'n_estimators': [10, 25, 50, 100, 115,\n",
       "                                                         125, 150]},\n",
       "                   scoring='accuracy', verbose=1)"
      ]
     },
     "execution_count": 108,
     "metadata": {},
     "output_type": "execute_result"
    }
   ],
   "source": [
    "params = {\n",
    "    \"n_estimators\": [10,25,50,100,115,125,150],\n",
    "    \"max_depth\" : [3, 5, 6,7,9],\n",
    "    \"max_leaf_nodes\" : [15, 20, 25,30]\n",
    "}\n",
    "\n",
    "rfc = RFC(n_jobs = -1)\n",
    "clf = RandomizedSearchCV(rfc, params, scoring = \"accuracy\", cv=3, n_jobs = -1, verbose = 1)\n",
    "\n",
    "clf.fit(x_sm, y_sm)"
   ]
  },
  {
   "cell_type": "code",
   "execution_count": 109,
   "metadata": {},
   "outputs": [
    {
     "name": "stdout",
     "output_type": "stream",
     "text": [
      "Parameters:{'n_estimators': 150, 'max_leaf_nodes': 15, 'max_depth': 3} Mean_score: 0.7011764705882353 Rank: 8\n",
      "Parameters:{'n_estimators': 10, 'max_leaf_nodes': 20, 'max_depth': 5} Mean_score: 0.7137254901960786 Rank: 7\n",
      "Parameters:{'n_estimators': 150, 'max_leaf_nodes': 25, 'max_depth': 9} Mean_score: 0.7274509803921569 Rank: 1\n",
      "Parameters:{'n_estimators': 150, 'max_leaf_nodes': 15, 'max_depth': 5} Mean_score: 0.7168627450980392 Rank: 6\n",
      "Parameters:{'n_estimators': 150, 'max_leaf_nodes': 30, 'max_depth': 6} Mean_score: 0.7270588235294118 Rank: 3\n",
      "Parameters:{'n_estimators': 25, 'max_leaf_nodes': 30, 'max_depth': 3} Mean_score: 0.6960784313725491 Rank: 9\n",
      "Parameters:{'n_estimators': 25, 'max_leaf_nodes': 20, 'max_depth': 3} Mean_score: 0.6933333333333334 Rank: 10\n",
      "Parameters:{'n_estimators': 115, 'max_leaf_nodes': 20, 'max_depth': 7} Mean_score: 0.7274509803921569 Rank: 1\n",
      "Parameters:{'n_estimators': 115, 'max_leaf_nodes': 15, 'max_depth': 9} Mean_score: 0.7219607843137256 Rank: 5\n",
      "Parameters:{'n_estimators': 50, 'max_leaf_nodes': 15, 'max_depth': 6} Mean_score: 0.7235294117647059 Rank: 4\n"
     ]
    }
   ],
   "source": [
    "res = clf.cv_results_\n",
    "\n",
    "for i in range(len(res[\"params\"])):\n",
    "  print(f\"Parameters:{res['params'][i]} Mean_score: {res['mean_test_score'][i]} Rank: {res['rank_test_score'][i]}\")"
   ]
  },
  {
   "cell_type": "code",
   "execution_count": 110,
   "metadata": {},
   "outputs": [
    {
     "name": "stdout",
     "output_type": "stream",
     "text": [
      "RandomForestClassifier(max_depth=9, max_leaf_nodes=25, n_estimators=150,\n",
      "                       n_jobs=-1)\n"
     ]
    }
   ],
   "source": [
    "print(clf.best_estimator_)"
   ]
  },
  {
   "cell_type": "code",
   "execution_count": 111,
   "metadata": {},
   "outputs": [
    {
     "name": "stdout",
     "output_type": "stream",
     "text": [
      "Model acc 0.7002141327623126\n"
     ]
    }
   ],
   "source": [
    "rf = clf.best_estimator_\n",
    "\n",
    "rf.fit(x_sm, y_sm)\n",
    "\n",
    "print(\"Model acc\",rf.score(X_test, y_test))"
   ]
  },
  {
   "cell_type": "code",
   "execution_count": 112,
   "metadata": {},
   "outputs": [],
   "source": [
    "y_pred = rf.predict(X_test)"
   ]
  },
  {
   "cell_type": "code",
   "execution_count": 113,
   "metadata": {},
   "outputs": [
    {
     "data": {
      "text/plain": [
       "array([[ 83,  68],\n",
       "       [ 72, 244]], dtype=int64)"
      ]
     },
     "execution_count": 113,
     "metadata": {},
     "output_type": "execute_result"
    }
   ],
   "source": [
    "metrics.confusion_matrix(y_test, y_pred)"
   ]
  },
  {
   "cell_type": "code",
   "execution_count": 114,
   "metadata": {},
   "outputs": [
    {
     "name": "stdout",
     "output_type": "stream",
     "text": [
      "              precision    recall  f1-score   support\n",
      "\n",
      "           0       0.54      0.55      0.54       151\n",
      "           1       0.78      0.77      0.78       316\n",
      "\n",
      "    accuracy                           0.70       467\n",
      "   macro avg       0.66      0.66      0.66       467\n",
      "weighted avg       0.70      0.70      0.70       467\n",
      "\n"
     ]
    }
   ],
   "source": [
    "print(classification_report(y_test,y_pred))"
   ]
  },
  {
   "cell_type": "raw",
   "metadata": {},
   "source": [
    "-->The Random Forest method out of all predicted 0 the measure of correctly predicted is 57%, and for 1 it is\n",
    "80%(Precision).\n",
    "-->The Random Forest method out of all actual 0 the measure of correctly predicted is 59%, and for 1 it is 79%\n",
    "(Recall)."
   ]
  },
  {
   "cell_type": "markdown",
   "metadata": {},
   "source": [
    "### Boosting : GBDT"
   ]
  },
  {
   "cell_type": "code",
   "execution_count": 115,
   "metadata": {},
   "outputs": [
    {
     "name": "stdout",
     "output_type": "stream",
     "text": [
      "      Iter       Train Loss   Remaining Time \n",
      "         1           1.2612            4.67s\n",
      "         2           1.1840            2.33s\n",
      "         3           1.1311            4.48s\n",
      "         4           1.0856            3.35s\n",
      "         5           1.0491            4.17s\n",
      "         6           1.0227            3.86s\n",
      "         7           1.0033            3.63s\n",
      "         8           0.9874            3.75s\n",
      "         9           0.9725            3.59s\n",
      "        10           0.9467            3.22s\n",
      "        20           0.8351            2.92s\n",
      "        30           0.7569            2.74s\n",
      "        40           0.6942            2.48s\n",
      "        50           0.6503            2.43s\n",
      "        60           0.6028            2.31s\n",
      "        70           0.5593            2.16s\n",
      "        80           0.5251            2.08s\n",
      "        90           0.4955            1.99s\n",
      "       100           0.4590            1.89s\n",
      "       200           0.2601            0.93s\n",
      "       300           0.1589            0.00s\n",
      "Training accuracy:0.9968627450980392\n",
      "Test Accuracy: 0.7301927194860813\n"
     ]
    }
   ],
   "source": [
    "\n",
    "gbc = GBC(n_estimators=300, learning_rate=0.25, max_depth=4, random_state=0, verbose = 1).fit(x_sm, y_sm)\n",
    "\n",
    "print(f\"Training accuracy:{gbc.score(x_sm, y_sm)}\\nTest Accuracy: {gbc.score(X_test, y_test)}\")"
   ]
  },
  {
   "cell_type": "code",
   "execution_count": 116,
   "metadata": {},
   "outputs": [],
   "source": [
    "y_pred = gbc.predict(X_test)"
   ]
  },
  {
   "cell_type": "code",
   "execution_count": 117,
   "metadata": {},
   "outputs": [
    {
     "data": {
      "text/plain": [
       "array([[ 76,  75],\n",
       "       [ 51, 265]], dtype=int64)"
      ]
     },
     "execution_count": 117,
     "metadata": {},
     "output_type": "execute_result"
    }
   ],
   "source": [
    "metrics.confusion_matrix(y_test, y_pred)"
   ]
  },
  {
   "cell_type": "code",
   "execution_count": 118,
   "metadata": {},
   "outputs": [
    {
     "name": "stdout",
     "output_type": "stream",
     "text": [
      "              precision    recall  f1-score   support\n",
      "\n",
      "           0       0.60      0.50      0.55       151\n",
      "           1       0.78      0.84      0.81       316\n",
      "\n",
      "    accuracy                           0.73       467\n",
      "   macro avg       0.69      0.67      0.68       467\n",
      "weighted avg       0.72      0.73      0.72       467\n",
      "\n"
     ]
    }
   ],
   "source": [
    "print(classification_report(y_test,y_pred))"
   ]
  },
  {
   "cell_type": "raw",
   "metadata": {},
   "source": [
    "-->The Gradient Boost method out of all predicted 0 the measure of correctly predicted is 57%, and for 1 it is\n",
    "77%(Precision).\n",
    "-->The Random Forest method out of all actual 0 the measure of correctly predicted is 50%, and for 1 it is 82%\n",
    "(Recall).\n"
   ]
  },
  {
   "cell_type": "raw",
   "metadata": {},
   "source": [
    "Insights and Recommendations:\n",
    "\n",
    "--> We observe that there is high precision, which leads to the relevant results\n",
    "--> Change in income and quarterly rating has high effect on the driver to churn or not.\n",
    "--> The total bussiness value that the driver has on the company has an effect.\n",
    "\n",
    "--> Recognizing the driver efforts and provide them effective rating would prevent the driver from churning."
   ]
  }
 ],
 "metadata": {
  "kernelspec": {
   "display_name": "Python 3",
   "language": "python",
   "name": "python3"
  },
  "language_info": {
   "codemirror_mode": {
    "name": "ipython",
    "version": 3
   },
   "file_extension": ".py",
   "mimetype": "text/x-python",
   "name": "python",
   "nbconvert_exporter": "python",
   "pygments_lexer": "ipython3",
   "version": "3.7.1"
  }
 },
 "nbformat": 4,
 "nbformat_minor": 5
}
